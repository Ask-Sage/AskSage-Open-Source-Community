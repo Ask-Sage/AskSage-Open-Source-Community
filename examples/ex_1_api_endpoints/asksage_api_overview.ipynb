{
 "cells": [
  {
   "cell_type": "markdown",
   "metadata": {},
   "source": [
    "# AskSage API Review: \n",
    "\n",
    "In this notebook, we will go through the AskSage API documentation and review the available endpoints. We will use the Python API client to interact with the API and demonstrate how to use each endpoint. \n",
    "\n",
    "For more information please visit the AskSage Python API Client via the link below:\n",
    "Python API Client: https://pypi.org/project/asksageclient/\n",
    "\n",
    "<div class=\"alert alert-block alert-info\">\n",
    "<b>Tip:</b> Recommend to run the code cells in order to see the output of the endpoints and understand the examples provided. \n",
    "</div>\n",
    "\n",
    "<div class=\"alert alert-block alert-warning\">\n",
    "<b>Note:</b> All credential information and API keys are removed from the code cells and declared as environment variables for security purposes. We recommend to do the same when running the code cells if you are sharing the notebook.\n",
    "</div>\n",
    "\n",
    "We will cover all of the following endpoints in this notebook: \n",
    "\n",
    "The order of review is based on a logical flow of first understanding what the API has to offer, then interacting with the API to interact with models. "
   ]
  },
  {
   "cell_type": "markdown",
   "metadata": {},
   "source": [
    "\n",
    "\n",
    "|       Function Name         |                       Description                     |\n",
    "|:---------------------------:|:-----------------------------------------------------:|\n",
    "|       `add_dataset`         |                   Adds a new dataset                  |\n",
    "|     `delete_dataset`        |              Deletes a specified dataset              |\n",
    "|     `assign_dataset`        |                   Assigns a dataset                   |\n",
    "|     `get_user_logs`         |             Retrieves all logs for user               |\n",
    "|    `get_user_logins`        | Retrieves login information for a specific user       |\n",
    "|          `query`            | Interact with the /query endpoint of the Ask Sage API |\n",
    "|    `query_with_file`        |         Executes a query using a file                 |\n",
    "|      `query_plugin`         | Executes a query using a specific plugin              |\n",
    "| `follow_up_questions`       | Interact with the /follow-up-questions endpoint of the Ask Sage API |\n",
    "|        `tokenizer`          | Interact with the /tokenizer endpoint of the Ask Sage API |\n",
    "|      `get_personas`         | Get the available personas from the Ask Sage service  |\n",
    "|      `get_datasets`         | Get the available datasets from the Ask Sage service  |\n",
    "|       `get_plugins`         | Get the available plugins from the Ask Sage service   |\n",
    "|  `count_monthly_tokens`     | Get the count of monthly training tokens spent for this user from the Ask Sage service |\n",
    "|`count_monthly_teach_tokens` | Counts the number of teach tokens used in a month     |\n",
    "|          `train`            | Train the model based on the provided content         |\n",
    "|    `train_with_file`        | Train the dataset based on the provided file          |\n",
    "|          `file`             | Upload a file to the Ask Sage service                 |\n"
   ]
  },
  {
   "cell_type": "markdown",
   "metadata": {},
   "source": [
    "## Import Libraries and Set Environment Variables \n",
    "\n",
    "Let's start by importing the necessary libraries and setting the environment variables.\n",
    "\n",
    "> There will be more detail within this notebook than what is relevant to the user, but it is important to understand the different endpoints and what they represent. Also, note that the code is not being written in a production-ready manner, but rather to demonstrate the different endpoints and their outputs."
   ]
  },
  {
   "cell_type": "code",
   "execution_count": 1,
   "metadata": {},
   "outputs": [],
   "source": [
    "import json # Import the json module to work with JSON data\n",
    "import requests # Import the requests library to send HTTP requests\n",
    "from asksageclient import AskSageClient # Import the AskSageClient class from the asksageclient module\n",
    "import pandas as pd # Import the pandas library to work with dataframes\n",
    "import os # Import the os module to interact with the operating system\n",
    "\n",
    "# Function to load credentials from a JSON file\n",
    "def load_credentials(filename):\n",
    "    try:\n",
    "        with open(filename) as file:\n",
    "            return json.load(file)\n",
    "    except FileNotFoundError:\n",
    "        raise FileNotFoundError(\"The credentials file was not found.\")\n",
    "    except json.JSONDecodeError:\n",
    "        raise ValueError(\"Failed to decode JSON from the credentials file.\")\n",
    "\n",
    "# Load the credentials\n",
    "credentials = load_credentials('../../credentials.json')\n",
    "\n",
    "# Extract the API key, and email from the credentials to be used in the API request\n",
    "api_key = credentials['credentials']['api_key']\n",
    "email = credentials['credentials']['Ask_sage_user_info']['username']\n"
   ]
  },
  {
   "cell_type": "markdown",
   "metadata": {},
   "source": [
    "## Interact with the AskSage Python API Client\n",
    "\n",
    "The AskSage Python API Client provides a simple way to interact with the AskSage API. The client provides methods for each endpoint, making it easy to use the API without having to deal with more time-consuming tasks like making HTTP requests and handling responses.\n",
    "\n",
    "First order is defining the client and setting the credentials for the client, which are the email and API key."
   ]
  },
  {
   "cell_type": "code",
   "execution_count": 2,
   "metadata": {},
   "outputs": [],
   "source": [
    "\"\"\"  \n",
    "class AskSageClient(\n",
    "    email: email, # The email address of the user\n",
    "    api_key: api_key, # The API key for the AskSage API, which can be obtained from the AskSage website\n",
    "    user_base_url: str = 'https://api.asksage.ai/user', # The base URL for the user API\n",
    "    server_base_url: str = 'https://api.asksage.ai/server' # The base URL for the server API\n",
    ")\n",
    "\"\"\"\n",
    "\n",
    "ask_sage_client = AskSageClient(email, api_key) # Create an instance of the AskSageClient class with the email and api_key "
   ]
  },
  {
   "cell_type": "markdown",
   "metadata": {},
   "source": [
    "## Get User Logs"
   ]
  },
  {
   "cell_type": "markdown",
   "metadata": {},
   "source": [
    "This endpoint returns the last prompts of the user. By default, it returns the last 5 prompts.\n",
    "\n",
    "There are no parameters required for this endpoint. \n",
    "\n",
    "The output will be the following:\n",
    "- All the prompts that the user has made.\n",
    "- completion_tokens: The completion tokens of the prompt.\n",
    "- date_time: The date and time of the prompt.\n",
    "- id: The ID of the prompt.\n",
    "- ip: The IP address of the prompt.\n",
    "- model: The model used for the prompt.\n",
    "- prompt: The prompt text.\n",
    "- prompt_tokens: The prompt tokens.\n",
    "- response: The response text.\n",
    "- teach: The teach flag (true or false).\n",
    "- total_tokens: The total tokens \n",
    "\n",
    "\n",
    "<div class=\"alert alert-block alert-danger\">\n",
    "<b>AskSage - Requested Updated:</b> The endpoint works as expected, however there should be a way to extract all or a specific number of logs.\n",
    "</div>\n"
   ]
  },
  {
   "cell_type": "code",
   "execution_count": 3,
   "metadata": {},
   "outputs": [],
   "source": [
    "user_prompts = ask_sage_client.get_user_logs() # Get the user prompts using the get_user_logs method\n",
    "# display(user_prompts) # Uncomment to display the user prompts - this will display a lot of data "
   ]
  },
  {
   "cell_type": "markdown",
   "metadata": {},
   "source": [
    "## Get User Logins"
   ]
  },
  {
   "cell_type": "markdown",
   "metadata": {},
   "source": [
    "This endpoint returns the last logins of the user. By default, it returns the last 5 logins.\n",
    "\n",
    "The only parameter required for this endpoint is the 'limit' parameter, which specifies the number of logins to return. The default value is 5 and the maximum value is 100.\n",
    "\n",
    "So in return, one will get the following information: \n",
    "- date_time: The date and time of the login.\n",
    "- id: The ID of the login.\n",
    "- ip: The IP address of the login.\n",
    "- status: The status of the login (success or failure).\n",
    "- type: endpoint type (login).\n",
    "- status_code: The status code of the login (200 for success, 400 for failure)."
   ]
  },
  {
   "cell_type": "code",
   "execution_count": 4,
   "metadata": {},
   "outputs": [
    {
     "data": {
      "text/plain": [
       "{'response': [{'comment': 'False False False',\n",
       "   'date_time': 'Fri, 03 May 2024 14:00:21 GMT',\n",
       "   'id': 240098,\n",
       "   'ip': '99.2.21.130',\n",
       "   'status': 'Success',\n",
       "   'type': 'get_token_with_api_key'}],\n",
       " 'status': '200'}"
      ]
     },
     "metadata": {},
     "output_type": "display_data"
    }
   ],
   "source": [
    "user_logins = ask_sage_client.get_user_logins(limit=1) # Get the user logins using the get_user_logins method\n",
    "display(user_logins) "
   ]
  },
  {
   "cell_type": "markdown",
   "metadata": {},
   "source": [
    "## Get Personas\n",
    "\n",
    "This endpoint returns the available personas from the Ask Sage service - A persona is like having a conversation with individuals who possess different skillsets. It allows the chatbot to tailor its behavior and personality to match specific user requirements. By adjusting the persona, the chatbot can adapt its tone, skillsets, and response formats to better align with the diverse needs and preferences of various scenarios. This customization ensures a more personalized and engaging experience for users, enhancing the effectiveness of the chatbot in addressing their specific queries and concerns."
   ]
  },
  {
   "cell_type": "code",
   "execution_count": 5,
   "metadata": {},
   "outputs": [
    {
     "data": {
      "text/html": [
       "<div>\n",
       "<style scoped>\n",
       "    .dataframe tbody tr th:only-of-type {\n",
       "        vertical-align: middle;\n",
       "    }\n",
       "\n",
       "    .dataframe tbody tr th {\n",
       "        vertical-align: top;\n",
       "    }\n",
       "\n",
       "    .dataframe thead th {\n",
       "        text-align: right;\n",
       "    }\n",
       "</style>\n",
       "<table border=\"1\" class=\"dataframe\">\n",
       "  <thead>\n",
       "    <tr style=\"text-align: right;\">\n",
       "      <th></th>\n",
       "      <th>id</th>\n",
       "      <th>name</th>\n",
       "      <th>description</th>\n",
       "    </tr>\n",
       "  </thead>\n",
       "  <tbody>\n",
       "    <tr>\n",
       "      <th>0</th>\n",
       "      <td>1</td>\n",
       "      <td>Ask Sage</td>\n",
       "      <td>Use this persona when you need a general-purpose AI that can handle a wide range of tasks, from translating languages to writing essays and code.</td>\n",
       "    </tr>\n",
       "    <tr>\n",
       "      <th>1</th>\n",
       "      <td>2</td>\n",
       "      <td>Legal Assistant</td>\n",
       "      <td>Use this persona when you need legal advice or information. This persona can provide accurate and helpful advice on a wide range of legal topics.</td>\n",
       "    </tr>\n",
       "    <tr>\n",
       "      <th>2</th>\n",
       "      <td>3</td>\n",
       "      <td>Contracting Officer</td>\n",
       "      <td>Use this persona when you have questions or need advice about government contracts, Federal Acquisition Regulation (FAR) regulations, the Defense Federal Acquisition Regulation Supplement (DFARS) regulations and acquisition related questions.</td>\n",
       "    </tr>\n",
       "    <tr>\n",
       "      <th>3</th>\n",
       "      <td>4</td>\n",
       "      <td>Software Developer</td>\n",
       "      <td>Use this persona when you need to write, review, or debug code. This persona can also provide advice on software development best practices and security standards.</td>\n",
       "    </tr>\n",
       "    <tr>\n",
       "      <th>4</th>\n",
       "      <td>5</td>\n",
       "      <td>ISSO (Cyber)</td>\n",
       "      <td>Use this persona when you need advice or information about cybersecurity requirements and issues. This persona can provide accurate and helpful advice on a wide range of cybersecurity topics.</td>\n",
       "    </tr>\n",
       "  </tbody>\n",
       "</table>\n",
       "</div>"
      ],
      "text/plain": [
       "   id                 name  \\\n",
       "0   1             Ask Sage   \n",
       "1   2      Legal Assistant   \n",
       "2   3  Contracting Officer   \n",
       "3   4   Software Developer   \n",
       "4   5         ISSO (Cyber)   \n",
       "\n",
       "                                                                                                                                                                                                                                          description  \n",
       "0                                                                                                   Use this persona when you need a general-purpose AI that can handle a wide range of tasks, from translating languages to writing essays and code.  \n",
       "1                                                                                                   Use this persona when you need legal advice or information. This persona can provide accurate and helpful advice on a wide range of legal topics.  \n",
       "2  Use this persona when you have questions or need advice about government contracts, Federal Acquisition Regulation (FAR) regulations, the Defense Federal Acquisition Regulation Supplement (DFARS) regulations and acquisition related questions.  \n",
       "3                                                                                 Use this persona when you need to write, review, or debug code. This persona can also provide advice on software development best practices and security standards.  \n",
       "4                                                     Use this persona when you need advice or information about cybersecurity requirements and issues. This persona can provide accurate and helpful advice on a wide range of cybersecurity topics.  "
      ]
     },
     "metadata": {},
     "output_type": "display_data"
    }
   ],
   "source": [
    "get_personas = ask_sage_client.get_personas() # Get the personas using the get_personas endpoint\n",
    "# output of get_personas is as follows for each persona\n",
    "\"\"\" out put is as follows\n",
    "\n",
    "{'response': [{'datasets': '',\n",
    "   'date_creation': 'Tue, 16 Jan 2024 18:35:32 GMT',\n",
    "   'date_modification': 'Tue, 16 Jan 2024 18:35:32 GMT',\n",
    "   'description': 'Use this persona when you need a general-purpose AI that can handle a wide range of tasks, from translating languages to writing essays and code.',\n",
    "   'id': 1,\n",
    "   'image': None,\n",
    "   'label': 1,\n",
    "   'name': 'Ask Sage',\n",
    "   'prompt': 'Your purpose is help organizations drive outcomes by ingesting knowledge and data, providing analysis and insights with factual answers. \\nYou are able to translate languages, write essays, articles, bids, code and more.',\n",
    "   'public': True,\n",
    "   'user_id': -1}\n",
    "\n",
    "\"\"\"\n",
    "\n",
    "# extract relevant information from the response 'id', 'name' and 'description'\n",
    "def extract_personas(response):\n",
    "    return [{'id': persona['id'], 'name': persona['name'], 'description': persona['description']} for persona in response['response']]\n",
    "\n",
    "personas = extract_personas(get_personas) # Extract the personas using the extract_personas function\n",
    "\n",
    "# Putting all information into a dataframe\n",
    "personas_df = pd.DataFrame(personas)\n",
    "\n",
    "# set column width to display full content\n",
    "pd.set_option('display.max_colwidth', None)\n",
    "\n",
    "\n",
    "# display the dataframe\n",
    "display(personas_df.head()) # remove head() to display all personas\n"
   ]
  },
  {
   "cell_type": "markdown",
   "metadata": {},
   "source": [
    "## Get Datasets\n",
    "\n",
    "Get the available datasets from the Ask Sage service - These datasets are used to interact with the LLMs models. More information will be provided on how to interact with the datasets in the following endpoints & examples in the repository.\n"
   ]
  },
  {
   "cell_type": "code",
   "execution_count": 6,
   "metadata": {},
   "outputs": [
    {
     "data": {
      "text/html": [
       "<div>\n",
       "<style scoped>\n",
       "    .dataframe tbody tr th:only-of-type {\n",
       "        vertical-align: middle;\n",
       "    }\n",
       "\n",
       "    .dataframe tbody tr th {\n",
       "        vertical-align: top;\n",
       "    }\n",
       "\n",
       "    .dataframe thead th {\n",
       "        text-align: right;\n",
       "    }\n",
       "</style>\n",
       "<table border=\"1\" class=\"dataframe\">\n",
       "  <thead>\n",
       "    <tr style=\"text-align: right;\">\n",
       "      <th></th>\n",
       "      <th>0</th>\n",
       "    </tr>\n",
       "  </thead>\n",
       "  <tbody>\n",
       "    <tr>\n",
       "      <th>0</th>\n",
       "      <td>Acquisition.gov</td>\n",
       "    </tr>\n",
       "    <tr>\n",
       "      <th>1</th>\n",
       "      <td>Air Force</td>\n",
       "    </tr>\n",
       "    <tr>\n",
       "      <th>2</th>\n",
       "      <td>DoD</td>\n",
       "    </tr>\n",
       "    <tr>\n",
       "      <th>3</th>\n",
       "      <td>Department of Defense</td>\n",
       "    </tr>\n",
       "    <tr>\n",
       "      <th>4</th>\n",
       "      <td>Learn with Nic</td>\n",
       "    </tr>\n",
       "    <tr>\n",
       "      <th>5</th>\n",
       "      <td>In the Nic of Time</td>\n",
       "    </tr>\n",
       "    <tr>\n",
       "      <th>6</th>\n",
       "      <td>Platform One</td>\n",
       "    </tr>\n",
       "    <tr>\n",
       "      <th>7</th>\n",
       "      <td>Nic Chaillan's Website</td>\n",
       "    </tr>\n",
       "    <tr>\n",
       "      <th>8</th>\n",
       "      <td>Cloud One</td>\n",
       "    </tr>\n",
       "    <tr>\n",
       "      <th>9</th>\n",
       "      <td>NIST_NVD_CVE</td>\n",
       "    </tr>\n",
       "    <tr>\n",
       "      <th>10</th>\n",
       "      <td>Sage</td>\n",
       "    </tr>\n",
       "    <tr>\n",
       "      <th>11</th>\n",
       "      <td>user_custom_2780_content</td>\n",
       "    </tr>\n",
       "    <tr>\n",
       "      <th>12</th>\n",
       "      <td>user_custom_2780_test-test-test_content</td>\n",
       "    </tr>\n",
       "  </tbody>\n",
       "</table>\n",
       "</div>"
      ],
      "text/plain": [
       "                                          0\n",
       "0                           Acquisition.gov\n",
       "1                                 Air Force\n",
       "2                                       DoD\n",
       "3                     Department of Defense\n",
       "4                            Learn with Nic\n",
       "5                        In the Nic of Time\n",
       "6                              Platform One\n",
       "7                    Nic Chaillan's Website\n",
       "8                                 Cloud One\n",
       "9                              NIST_NVD_CVE\n",
       "10                                     Sage\n",
       "11                 user_custom_2780_content\n",
       "12  user_custom_2780_test-test-test_content"
      ]
     },
     "metadata": {},
     "output_type": "display_data"
    }
   ],
   "source": [
    "# extract relevant information from the response\n",
    "def extract_datasets(response):\n",
    "    return response['response']\n",
    "\n",
    "get_datasets = ask_sage_client.get_datasets() # Get the datasets using the get_datasets endpoint\n",
    "\n",
    "\n",
    "def display_datasets(ask_sage_client):\n",
    "    \"\"\"   \n",
    "    Function to display the datasets in a dataframe\n",
    "\n",
    "    Parameters:\n",
    "    ask_sage_client: AskSageClient - The AskSageClient instance\n",
    "\n",
    "    Returns:\n",
    "    None - Displays the datasets in a dataframe\n",
    "    \n",
    "    \"\"\"\n",
    "    get_datasets = ask_sage_client.get_datasets() # Get the datasets using the get_datasets endpoint\n",
    "    datasets = extract_datasets(get_datasets) # Extract the datasets using the extract_datasets function\n",
    "    datasets_df = pd.DataFrame(datasets)\n",
    "    display(datasets_df) # Display the updated datasets dataframe\n",
    "\n",
    "# call the function to display the datasets\n",
    "display_datasets(ask_sage_client)\n"
   ]
  },
  {
   "cell_type": "markdown",
   "metadata": {},
   "source": [
    "## Get Plugins\n",
    "\n",
    "Get the available plugins from the Ask Sage service - Plugins are used to interact with the LLMs models. "
   ]
  },
  {
   "cell_type": "code",
   "execution_count": 7,
   "metadata": {},
   "outputs": [
    {
     "data": {
      "text/html": [
       "<div>\n",
       "<style scoped>\n",
       "    .dataframe tbody tr th:only-of-type {\n",
       "        vertical-align: middle;\n",
       "    }\n",
       "\n",
       "    .dataframe tbody tr th {\n",
       "        vertical-align: top;\n",
       "    }\n",
       "\n",
       "    .dataframe thead th {\n",
       "        text-align: right;\n",
       "    }\n",
       "</style>\n",
       "<table border=\"1\" class=\"dataframe\">\n",
       "  <thead>\n",
       "    <tr style=\"text-align: right;\">\n",
       "      <th></th>\n",
       "      <th>title</th>\n",
       "      <th>category</th>\n",
       "      <th>description</th>\n",
       "      <th>fields</th>\n",
       "    </tr>\n",
       "  </thead>\n",
       "  <tbody>\n",
       "    <tr>\n",
       "      <th>0</th>\n",
       "      <td>Airport METARs</td>\n",
       "      <td>Aviation</td>\n",
       "      <td>This plugin brings FAA METARs for Airports Weather to Ask Sage</td>\n",
       "      <td>[{'description': 'Enter the airport code (eg: KIAD) (4 characters)', 'name': 'airport', 'pattern': '/^[a-zA-Z0-9]{4}$/', 'required': True, 'type': 'text'}]</td>\n",
       "    </tr>\n",
       "    <tr>\n",
       "      <th>1</th>\n",
       "      <td>Analyze Git Repository</td>\n",
       "      <td>Git</td>\n",
       "      <td>Scan a Git repository for security vulnerabilities, performance issues, and other problems.</td>\n",
       "      <td>[{'description': 'Select the secret credentials for your Git repository (create it using /add-secret):&lt;br /&gt;(By entering your Git credentials, you confirm that you have legally obtained these credentials, have the necessary authorizations to use them, and will not use them for any illegal activities. Misuse can lead to termination of your account. Please refer to our &lt;a href=\"/terms\" class=\"white\"&gt;T&amp;C&lt;/a&gt; for more details.)&lt;br /&gt;&lt;br /&gt;The Secret VALUE format is: Commiter Full Name|||Commiter Email|||GitHub Access Token', 'name': 'secret', 'pattern': '/^[a-zA-Z0-9]{1,30}$/', 'required': True, 'type': 'secret'}, {'description': 'URL of Git repository', 'name': 'url', 'pattern': '(https?://(?:www\\.)?[a-zA-Z0-9-.]+\\.[a-zA-Z]{2,}(?:/[^\\s\\'\"&lt;]*)?)', 'required': True, 'type': 'text'}, {'default_value': 'on', 'description': 'Check for tokens consumption only', 'name': 'tokens_only', 'pattern': '', 'type': 'checkbox'}, {'default_value': 'on', 'description': 'Commit (separate branch) and PR (GitHub only) code changes (requires Secret)', 'name': 'commit_pr', 'pattern': '', 'type': 'checkbox'}]</td>\n",
       "    </tr>\n",
       "  </tbody>\n",
       "</table>\n",
       "</div>"
      ],
      "text/plain": [
       "                    title  category  \\\n",
       "0          Airport METARs  Aviation   \n",
       "1  Analyze Git Repository       Git   \n",
       "\n",
       "                                                                                   description  \\\n",
       "0                               This plugin brings FAA METARs for Airports Weather to Ask Sage   \n",
       "1  Scan a Git repository for security vulnerabilities, performance issues, and other problems.   \n",
       "\n",
       "                                                                                                                                                                                                                                                                                                                                                                                                                                                                                                                                                                                                                                                                                                                                                                                                                                                                                                                                                                                                                                                                                                                                        fields  \n",
       "0                                                                                                                                                                                                                                                                                                                                                                                                                                                                                                                                                                                                                                                                                                                                                                                                                                                                                                                                                                                  [{'description': 'Enter the airport code (eg: KIAD) (4 characters)', 'name': 'airport', 'pattern': '/^[a-zA-Z0-9]{4}$/', 'required': True, 'type': 'text'}]  \n",
       "1  [{'description': 'Select the secret credentials for your Git repository (create it using /add-secret):<br />(By entering your Git credentials, you confirm that you have legally obtained these credentials, have the necessary authorizations to use them, and will not use them for any illegal activities. Misuse can lead to termination of your account. Please refer to our <a href=\"/terms\" class=\"white\">T&C</a> for more details.)<br /><br />The Secret VALUE format is: Commiter Full Name|||Commiter Email|||GitHub Access Token', 'name': 'secret', 'pattern': '/^[a-zA-Z0-9]{1,30}$/', 'required': True, 'type': 'secret'}, {'description': 'URL of Git repository', 'name': 'url', 'pattern': '(https?://(?:www\\.)?[a-zA-Z0-9-.]+\\.[a-zA-Z]{2,}(?:/[^\\s\\'\"<]*)?)', 'required': True, 'type': 'text'}, {'default_value': 'on', 'description': 'Check for tokens consumption only', 'name': 'tokens_only', 'pattern': '', 'type': 'checkbox'}, {'default_value': 'on', 'description': 'Commit (separate branch) and PR (GitHub only) code changes (requires Secret)', 'name': 'commit_pr', 'pattern': '', 'type': 'checkbox'}]  "
      ]
     },
     "metadata": {},
     "output_type": "display_data"
    }
   ],
   "source": [
    "get_plugins = ask_sage_client.get_plugins() # Get the plugins using the get_plugins endpoint\n",
    "\n",
    "# extract relevant information from the response\n",
    "def extract_plugins(response):\n",
    "    return [{'category': plugin['category'], 'description': plugin['description'], 'fields': plugin['fields'], 'title': plugin['title']} for plugin in response['response']]\n",
    "\n",
    "plugins = extract_plugins(get_plugins) # Extract the plugins using the extract_plugins function\n",
    "\n",
    "# Putting all information into a dataframe\n",
    "plugins_df = pd.DataFrame(plugins)\n",
    "\n",
    "# set column width to display full content\n",
    "pd.set_option('display.max_colwidth', None)\n",
    "\n",
    "# set column order title, category, description, fields\n",
    "plugins_df = plugins_df[['title', 'category', 'description', 'fields']]\n",
    "\n",
    "# display the dataframe\n",
    "display(plugins_df.head(2)) # remove head to display all plugins"
   ]
  },
  {
   "cell_type": "markdown",
   "metadata": {},
   "source": [
    "## Count Monthly Tokens\n",
    "\n",
    "Get the count of monthly training tokens spent for this user from the Ask Sage service - This endpoint will return the number of tokens used in the current month."
   ]
  },
  {
   "cell_type": "code",
   "execution_count": 8,
   "metadata": {},
   "outputs": [
    {
     "name": "stdout",
     "output_type": "stream",
     "text": [
      "The count of monthly usage is: 164507\n"
     ]
    }
   ],
   "source": [
    "count_monthly_usage = ask_sage_client.count_monthly_tokens() # Get the count of monthly usage using the get_count_monthly_usage method\n",
    "# extract the count of monthly usage from the response\n",
    "count = count_monthly_usage['response']\n",
    "\n",
    "print(f\"The count of monthly usage is: {count}\") # Print the count of monthly usage\n"
   ]
  },
  {
   "cell_type": "markdown",
   "metadata": {},
   "source": [
    "## Count Monthly Teach Tokens\n",
    "\n",
    " Get the count of monthly training tokens spent for this user from the Ask Sage service, meaning the number of tokens used for training the model.\n"
   ]
  },
  {
   "cell_type": "code",
   "execution_count": 9,
   "metadata": {},
   "outputs": [
    {
     "name": "stdout",
     "output_type": "stream",
     "text": [
      "The count of monthly teach usage is: 2611\n"
     ]
    }
   ],
   "source": [
    "count_monthly_usage = ask_sage_client.count_monthly_teach_tokens() # Get the count of monthly usage using the get_count_monthly_usage method\n",
    "# extract the count of monthly usage from the response\n",
    "count = count_monthly_usage['response']\n",
    "\n",
    "print(f\"The count of monthly teach usage is: {count}\") # Print the count of monthly usage\n"
   ]
  },
  {
   "cell_type": "markdown",
   "metadata": {},
   "source": [
    "## Add Dataset"
   ]
  },
  {
   "cell_type": "markdown",
   "metadata": {},
   "source": [
    "This endpoint is used to create a new dataset that will be available for the user to use in the prompt generation. Additionally, once the dataset is created it will also be available on the AskSage platform for the user to use. \n",
    "\n",
    "Notice how the dataset is now in the list of available datasets."
   ]
  },
  {
   "cell_type": "code",
   "execution_count": 10,
   "metadata": {},
   "outputs": [
    {
     "data": {
      "text/plain": [
       "{'response': 'Already in', 'status': 405}"
      ]
     },
     "metadata": {},
     "output_type": "display_data"
    },
    {
     "data": {
      "text/html": [
       "<div>\n",
       "<style scoped>\n",
       "    .dataframe tbody tr th:only-of-type {\n",
       "        vertical-align: middle;\n",
       "    }\n",
       "\n",
       "    .dataframe tbody tr th {\n",
       "        vertical-align: top;\n",
       "    }\n",
       "\n",
       "    .dataframe thead th {\n",
       "        text-align: right;\n",
       "    }\n",
       "</style>\n",
       "<table border=\"1\" class=\"dataframe\">\n",
       "  <thead>\n",
       "    <tr style=\"text-align: right;\">\n",
       "      <th></th>\n",
       "      <th>0</th>\n",
       "    </tr>\n",
       "  </thead>\n",
       "  <tbody>\n",
       "    <tr>\n",
       "      <th>0</th>\n",
       "      <td>Acquisition.gov</td>\n",
       "    </tr>\n",
       "    <tr>\n",
       "      <th>1</th>\n",
       "      <td>Air Force</td>\n",
       "    </tr>\n",
       "    <tr>\n",
       "      <th>2</th>\n",
       "      <td>DoD</td>\n",
       "    </tr>\n",
       "    <tr>\n",
       "      <th>3</th>\n",
       "      <td>Department of Defense</td>\n",
       "    </tr>\n",
       "    <tr>\n",
       "      <th>4</th>\n",
       "      <td>Learn with Nic</td>\n",
       "    </tr>\n",
       "    <tr>\n",
       "      <th>5</th>\n",
       "      <td>In the Nic of Time</td>\n",
       "    </tr>\n",
       "    <tr>\n",
       "      <th>6</th>\n",
       "      <td>Platform One</td>\n",
       "    </tr>\n",
       "    <tr>\n",
       "      <th>7</th>\n",
       "      <td>Nic Chaillan's Website</td>\n",
       "    </tr>\n",
       "    <tr>\n",
       "      <th>8</th>\n",
       "      <td>Cloud One</td>\n",
       "    </tr>\n",
       "    <tr>\n",
       "      <th>9</th>\n",
       "      <td>NIST_NVD_CVE</td>\n",
       "    </tr>\n",
       "    <tr>\n",
       "      <th>10</th>\n",
       "      <td>Sage</td>\n",
       "    </tr>\n",
       "    <tr>\n",
       "      <th>11</th>\n",
       "      <td>user_custom_2780_content</td>\n",
       "    </tr>\n",
       "    <tr>\n",
       "      <th>12</th>\n",
       "      <td>user_custom_2780_test-test-test_content</td>\n",
       "    </tr>\n",
       "  </tbody>\n",
       "</table>\n",
       "</div>"
      ],
      "text/plain": [
       "                                          0\n",
       "0                           Acquisition.gov\n",
       "1                                 Air Force\n",
       "2                                       DoD\n",
       "3                     Department of Defense\n",
       "4                            Learn with Nic\n",
       "5                        In the Nic of Time\n",
       "6                              Platform One\n",
       "7                    Nic Chaillan's Website\n",
       "8                                 Cloud One\n",
       "9                              NIST_NVD_CVE\n",
       "10                                     Sage\n",
       "11                 user_custom_2780_content\n",
       "12  user_custom_2780_test-test-test_content"
      ]
     },
     "metadata": {},
     "output_type": "display_data"
    }
   ],
   "source": [
    "# Defining a dataset to be added to the user's datasets\n",
    "add_dataset_data = ask_sage_client.add_dataset('test-test-test') # Replace 'youareawesome' with the name of the dataset you want to add\n",
    "display(add_dataset_data) # Display the response from the API, and check if the dataset was added successfully on the AskSage website\n",
    "display_datasets(ask_sage_client) # Display the datasets after adding a new dataset\n"
   ]
  },
  {
   "cell_type": "markdown",
   "metadata": {},
   "source": [
    "## Train With File\n",
    "\n",
    "This endpoint is used to train the dataset based on the provided file. The files that can be loaded are listed below: \n",
    "\n",
    "- Format supported: zip, pdf, xlsx, pptx, docx, ppt, csv, cc, sql, cs, hh, c, php, js, py, html, xml, msg, odt, epub, eml, rtf, txt, doc, json, md, jpeg, jpg, png, tsv (50MB)\n",
    "\n",
    "- Audio Format supported: mp3, mp4, mpeg, mpga, m4a, wav, webm (500MB max)\n",
    "\n",
    "The files uploaded will be stored in the AskSafe platform and can be called upon when interacting with the models.\n"
   ]
  },
  {
   "cell_type": "code",
   "execution_count": 11,
   "metadata": {},
   "outputs": [],
   "source": [
    "#  def train_with_file(self, file_path, dataset):\n",
    "#         \"\"\"\n",
    "#     Train the dataset based on the provided file.\n",
    "\n",
    "#     Parameters:\n",
    "#     file_path (str): The file to upload to the service.\n",
    "#     dataset (str): The dataset to be used. Enter your custom dataset, must follow the following format: user_content_USERID_DATASET-NAME_content. Replace USERID by user ID and DATASET-NAME by the name of your dataset.\n",
    "    \n",
    "#     Returns:\n",
    "#     dict: The response from the service.\n",
    "#         \"\"\"\n",
    "#         with open(file_path, 'rb') as f:\n",
    "#             files = {'file': f}\n",
    "#             return self._request('POST', 'train-with-file', files=files, data={'dataset': dataset})"
   ]
  },
  {
   "cell_type": "code",
   "execution_count": 12,
   "metadata": {},
   "outputs": [
    {
     "data": {
      "text/plain": [
       "'Successfully imported for file video_data_example.mp4'"
      ]
     },
     "metadata": {},
     "output_type": "display_data"
    },
    {
     "data": {
      "text/plain": [
       "'Successfully imported for file training_image_example.jpg'"
      ]
     },
     "metadata": {},
     "output_type": "display_data"
    },
    {
     "data": {
      "text/plain": [
       "'Successfully imported for file random_story_genAI_pdf.pdf'"
      ]
     },
     "metadata": {},
     "output_type": "display_data"
    },
    {
     "data": {
      "text/plain": [
       "'Successfully imported for file random_story_genAI_word_doc.docx'"
      ]
     },
     "metadata": {},
     "output_type": "display_data"
    },
    {
     "data": {
      "text/plain": [
       "'Successfully imported for file Ask_Sage_Intro.mp3'"
      ]
     },
     "metadata": {},
     "output_type": "display_data"
    }
   ],
   "source": [
    "# data path\n",
    "file_path = 'data/' \n",
    "\n",
    "# get files in the data path\n",
    "files = os.listdir(file_path)\n",
    "\n",
    "# ignore 'data/query_with_file' and hidden files\n",
    "files = [file for file in files if not file.startswith('.') and file != 'query_with_file']\n",
    "\n",
    "\n",
    "# train the dataset with the files in the data path \n",
    "for file in files:\n",
    "    train_with_file_data = ask_sage_client.train_with_file(file_path + file, 'user_custom_2780_test-test-test_content') # Replace '2780' and 'youareawesome' with your ID and name of the dataset you want to add\n",
    "    # display the field 'response'\n",
    "    display(train_with_file_data['response'] + ' for file ' + file) # Display the response from the API, and check if the dataset was added successfully on the AskSage website\n",
    "\n"
   ]
  },
  {
   "cell_type": "markdown",
   "metadata": {},
   "source": [
    "Data upload successfully, will be stored however there is a small lag on availability.\n",
    "\n",
    "<div class=\"alert alert-block alert-danger\">\n",
    "<b>AskSage - Requested Updated:</b> Uploaded data however noticed that only word documents and pdfs are actually being uploaded and seen on the platform following the upload.\n",
    "</div>"
   ]
  },
  {
   "cell_type": "markdown",
   "metadata": {},
   "source": [
    "## Query\n",
    "\n",
    "This endpoint is used to interact with the /query endpoint of the Ask Sage API. It is where the magic happens and users can interact with the various models available on the Ask Sage platform.\n",
    "\n",
    "We will provide examples of how to use this endpoint and various parameters that can be used to interact with the models. Do note that this will only be high-level examples and more detailed examples and explanations on how these models work will be provided in the repository specifically in the examples folder --> ex_2_prompt_generation. \n"
   ]
  },
  {
   "cell_type": "code",
   "execution_count": 13,
   "metadata": {},
   "outputs": [],
   "source": [
    "# def query(self, message, persona='default', dataset='all', limit_references=None, temperature=0.0, live=0, model='openai_gpt', system_prompt=None):\n",
    "#         \"\"\"\n",
    "#     Interact with the /query endpoint of the Ask Sage API.\n",
    "\n",
    "#     Parameters:\n",
    "#     message (str): The message to be processed by the service. Message can be a single message or an array of messages following this JSON format: [{ user: \"me\", message: \"Who is Nic Chaillan?\"}, { user: \"gpt\", message: \"Nic Chaillan is...\"}]\n",
    "#     persona (str, optional): The persona to be used. Default is 'default'. Get the list of available personas using get_personas.\n",
    "#     dataset (str, optional): The dataset to be used. Default is 'all'. Other options include 'none' or your custom dataset, must follow the following format: user_content_USERID_DATASET-NAME_content. Replace USERID by user ID and DATASET-NAME by the name of your dataset.\n",
    "#     limit_references (int, optional): The maximum number of references (embeddings) to be used. Default is None, meaning all references will be used. Use 1 to limit to 1 reference or 0 to remove embeddings. You can also set dataset to \"none\"\n",
    "#     temperature (float, optional): The temperature to be used for the generation. Default is 0.0. Higher values (up to 1.0) make the output more random.\n",
    "#     live (int, optional): Whether to use live mode. Default is 0. Live = 1 will pull 10 results from Bing and 2 will also pull the top 2 web pages summaries using our Web crawler.\n",
    "#     model (str, optional): The model to be used. Default is 'openai_gpt'. Other options include cohere, google-bison, gpt4, gpt4-32k, gpt35-16k, claude2, openai_gpt (gpt3.5), davinci, llma2.\n",
    "#     system_prompt (str, optional): Overrides the system prompt from Ask Sage (only use if you know what you are doing).\n",
    "\n",
    "#     Returns:\n",
    "#     dict: The response from the service.\n",
    "#     \"\"\"\n",
    "#         return self._request('POST', 'query', json = {\n",
    "#             'message': message,\n",
    "#             'persona': persona,\n",
    "#             'dataset': dataset,\n",
    "#             'limit_references': limit_references,\n",
    "#             'temperature': temperature,\n",
    "#             'live': live,\n",
    "#             'model': model,\n",
    "#             'system_prompt': system_prompt\n",
    "#         })\n"
   ]
  },
  {
   "cell_type": "markdown",
   "metadata": {},
   "source": [
    "### Overview of the Query Parameters: \n",
    "\n",
    "#### 'message'\n",
    "\n",
    "- 'message': The message is your prompt that you want to generate a response for by the model. In other words, the message/question you want to ask the model. But remember, the model will only generate a response based on the data it has been trained on and given this understanding, it is important to ask questions that are relevant to the data the model has been trained on. \n",
    "  \n",
    "If you are using a off-the-shelf model or Out of the Box model, then the model has been trained on a wide range of data and can generate responses to a wide range of questions. However, do not expect the model to generate responses to questions that are not relevant to the data it has been trained on or be an expert in any or all fields. We will discuss more examples on how to direct the model to generate responses to specific questions later. Last but not least, also be aware that each model has its own limitations and capabilities and designed for specific use cases, thus making some more suitable for certain tasks like code generation, text generation, etc.\n",
    "\n",
    "\n",
    "\n",
    "\n",
    "\n",
    "> Bad Examples of Prompt Generation:\n",
    "* Can you give me references for Dr. Espinoza on his research on under water basket weaving? (He is well known for his research in this field)\n",
    "  * This is a bad example as the model does not have access to personal information or private information, including research papers. Unless the research papers are publicly available and the model has been trained on them. Also, this is a fictional example, but important to show the limitations of the model.\n",
    "* What is the weather for tomorrow in Paris, Texas?\n",
    "  * This is a bad example if the model does not have access to real-time data or weather data.\n",
    "* Who is Mark Espinoza? And can you provide me with his email address?\n",
    "  * This is a bad example as the model does not have access to personal information or private information. \n",
    "* Can you give me the phone number for the nearest pizza place near me? \n",
    "  * Again, this is a bad example as the model does not have access to real-time data or location data.\n",
    "* Can you give me a test plan? \n",
    "  * This is a bad example as the model does not have access to your project or test plan. Also, what kind of test plan are you looking for?\n",
    "* Who will win the next election? \n",
    "  * This is a bad example as the model does not have access to future data or predictions. Also, the model does not have access to real-time data or election data. Also what election is being referred to - student council, presidential, HOA board, etc. \n",
    "\n",
    "  \n",
    "\n",
    ">  Acceptable Examples of Prompt Generation:\n",
    "* How many planets are in the solar system and can you provide the names of the planets in order from the sun? Also, provide the distance of each planet from the sun in kilometers.\n",
    "  * This would be more acceptable as the model has been trained on general knowledge and can provide information on the planets in the solar system - additionally the user is specific on what they want to know, how they want it ordered, and the units of measurement.\n",
    "* Tell me a joke about a giraffe that loves to play basketball, but is not very good at it. (Make sure to make the joke for a audience of 18 years and older)\n",
    "  * This is more of a creative example and the model can generate a joke based on the prompt. The user is also specific on the type of joke they want and the audience it is intended for. The more specific the prompt, the better the response from the model.\n",
    "* Provide me with a series of steps on how to make a API call using python to a REST API endpoint. Also, provide me with a code examples.\n",
    "  * This is a more technical example and the model can generate a response based on the prompt. The user is also specific on what they want to know and the model can generate a response based on the prompt. \n",
    "* Can you provide me with a summary of the book \"The Great Gatsby\" by F. Scott Fitzgerald? Also, provide me with a list of the main characters in the book with a brief description of each character. (Also, what is the main theme of the book?)\n",
    "  * This is more of a literature example based on a well known and book and their exists a lot of information on the book online, thus having a higher chance of the model being trained on the book. The user is also specific on what they want to know and the model can generate a response based on the prompt.\n"
   ]
  },
  {
   "cell_type": "code",
   "execution_count": 14,
   "metadata": {},
   "outputs": [],
   "source": [
    "def ask_sage_question(message, persona='default', dataset='all', limit_references=None, temperature=0.0, live=0, model='openai_gpt', system_prompt=None):\n",
    "    \"\"\"\n",
    "    Function to query the AskSage API with a question and return the response message using one of the personas available\n",
    "\n",
    "    Parameters:\n",
    "    question (str): The question to be queried\n",
    "    persona (str): The persona to be used. Default is 'default'. Get the list of available personas using get_personas.\n",
    "    dataset (str): The dataset to be used. Default is 'all'. Other options include 'none' or your custom dataset, must follow the following format: user_content_USERID_DATASET-NAME_content. Replace USERID by user ID and DATASET-NAME by the name of your dataset.\n",
    "    limit_references (int): The maximum number of references (embeddings) to be used. Default is None, meaning all references will be used. Use 1 to limit to 1 reference or 0 to remove embeddings. You can also set dataset to \"none\"\n",
    "    temperature (float): The temperature to be used for the generation. Default is 0.0. Higher values (up to 1.0) make the output more random.\n",
    "    live (int): Whether to use live mode. Default is 0. Live = 1 will pull 10 results from Bing and 2 will also pull the top 2 web pages summaries using our Web crawler.\n",
    "    model (str): The model to be used. Default is 'openai_gpt'. Other options include cohere, google-bison, gpt4, gpt4-32k, gpt35-16k, claude2, openai_gpt (gpt3.5), davinci, llma2.\n",
    "    system_prompt (str): Overrides the system prompt from Ask Sage (only use if you know what you are doing).\n",
    "\n",
    "    Returns:\n",
    "    str: The response message from the AskSage API\n",
    "    \"\"\"\n",
    "    response = ask_sage_client.query(message, persona, dataset, limit_references, temperature, live, model, system_prompt) # Query the AskSage API with the question\n",
    "    message = response['message'] # Extract the message from the response\n",
    "    return message # Return the message\n",
    "\n",
    "\n",
    "    \n"
   ]
  },
  {
   "cell_type": "code",
   "execution_count": 15,
   "metadata": {},
   "outputs": [
    {
     "name": "stdout",
     "output_type": "stream",
     "text": [
      "Bad Examples\n",
      "Question: Can you give me references for Dr. Espinoza on his research on under water basket weaving? (He is well known for his research in this field)\n",
      "Response: I am not sure who Dr. Espinoza is or if he is well-known for his research in underwater basket weaving. I couldn't find any references or information about Dr. Espinoza's research in this field. It's possible that he may not be a prominent figure in the field or that his research is not widely recognized. If you have any other questions or need assistance with a different topic, feel free to ask!\n",
      "\n",
      "\n",
      "Question: What is the weather for tomorrow in Paris, Texas?\n",
      "Response: I'm sorry, but as an AI, I don't have real-time data access. To get the weather forecast for tomorrow in Paris, Texas, I recommend checking a reliable weather website or using a weather app on your smartphone. These sources provide up-to-date and accurate weather information for specific locations.\n",
      "\n",
      "\n",
      "Question: Who is Mark Espinoza? And can you provide me with his email address?\n",
      "Response: I am not sure who Mark Espinoza is. I don't have access to personal contact information such as email addresses. It's best to reach out to Mark Espinoza directly or search for his contact information through public directories or social media platforms.\n",
      "\n",
      "\n",
      "Question: Can you give me the phone number for the nearest pizza place near me?\n",
      "Response: I'm sorry, but as an AI, I don't have access to your location information. Therefore, I cannot provide you with the phone number for the nearest pizza place. However, you can use online search engines or food delivery apps to find the nearest pizza place in your area and obtain their contact information.\n",
      "\n",
      "\n",
      "Question: Can you give me a test plan?\n",
      "Response: Of course! I can help you create a test plan. However, I would need more information about the specific project or software you are working on. A test plan is a detailed document that outlines the objectives, scope, approach, and schedule of testing activities. It includes information about the test environment, test deliverables, test resources, and test execution strategies.\n",
      "\n",
      "Here is a general outline of a test plan:\n",
      "\n",
      "1. Introduction:\n",
      "   - Purpose of the test plan\n",
      "   - Overview of the project or software being tested\n",
      "   - Test objectives and goals\n",
      "\n",
      "2. Scope:\n",
      "   - In-scope and out-of-scope items for testing\n",
      "   - Features and functionalities to be tested\n",
      "   - Assumptions and dependencies\n",
      "\n",
      "3. Test Strategy:\n",
      "   - Testing approach (e.g., manual, automated, or a combination)\n",
      "   - Test levels (e.g., unit testing, integration testing, system testing)\n",
      "   - Test types (e.g., functional, performance, security)\n",
      "   - Test techniques and methodologies\n",
      "\n",
      "4. Test Environment:\n",
      "   - Hardware and software requirements\n",
      "   - Test tools and frameworks\n",
      "   - Test data and test environment setup\n",
      "\n",
      "5. Test Deliverables:\n",
      "   - List of test deliverables (e.g., test cases, test scripts, test data)\n",
      "   - Test documentation standards\n",
      "\n",
      "6. Test Schedule:\n",
      "   - Test milestones and timelines\n",
      "   - Resource allocation and availability\n",
      "\n",
      "7. Test Execution:\n",
      "   - Test case execution process\n",
      "   - Defect management and reporting\n",
      "   - Test progress tracking and reporting\n",
      "\n",
      "8. Risks and Mitigation:\n",
      "   - Identification of potential risks and issues\n",
      "   - Mitigation strategies and contingency plans\n",
      "\n",
      "9. Test Sign-off:\n",
      "   - Criteria for test completion and sign-off\n",
      "   - Approval process\n",
      "\n",
      "10. Appendices:\n",
      "    - Glossary of terms\n",
      "    - References and supporting documents\n",
      "\n",
      "Remember, this is just a general outline, and the actual content of the test plan will vary depending on the specific project requirements. It is important to tailor the test plan to your project's needs and ensure that it covers all the necessary aspects of testing.\n",
      "\n",
      "If you provide more details about your project, I can help you create a more specific test plan.\n",
      "\n",
      "\n",
      "Question: Who will win the next election?\n",
      "Response: I am not sure who will win the next election. Election outcomes depend on various factors such as the candidates, their campaigns, voter preferences, and many other variables. It is impossible to predict the future with certainty.\n",
      "\n",
      "\n",
      "\n",
      " ----------------- \n",
      "\n",
      "Acceptable Examples\n",
      "Question: How many planets are in the solar system and can you provide the names of the planets in order from the sun? Also, provide the distance of each planet from the sun in kilometers.\n",
      "Response: There are eight planets in our solar system. Here are the names of the planets in order from the sun, along with their average distance from the sun in kilometers:\n",
      "\n",
      "1. Mercury - Average distance from the sun: 57,909,227 km\n",
      "2. Venus - Average distance from the sun: 108,209,475 km\n",
      "3. Earth - Average distance from the sun: 149,598,262 km\n",
      "4. Mars - Average distance from the sun: 227,943,824 km\n",
      "5. Jupiter - Average distance from the sun: 778,340,821 km\n",
      "6. Saturn - Average distance from the sun: 1,426,666,422 km\n",
      "7. Uranus - Average distance from the sun: 2,870,658,186 km\n",
      "8. Neptune - Average distance from the sun: 4,498,396,441 km\n",
      "\n",
      "Please note that these distances are approximate and can vary depending on the planets' positions in their orbits.\n",
      "\n",
      "\n",
      "Question: Tell me a joke about a giraffe that loves to play basketball, but is not very good at it. (Make sure to make the joke for a audience of 18 years and older)\n",
      "Response: Why did the giraffe quit playing basketball?\n",
      "\n",
      "Because he couldn't stop fouling out! He was always reaching for the hoop, but his long neck kept getting in the way. It was a real neck-and-neck game, but he just couldn't keep up with the competition. So, he decided to stick to being the tallest cheerleader instead!\n",
      "\n",
      "\n",
      "Question: Provide me with a series of steps on how to make a API call using python to a REST API endpoint. Also, provide me with a code examples.\n",
      "Response: To make an API call using Python to a REST API endpoint, you can follow these steps:\n",
      "\n",
      "1. Import the necessary libraries: You will need the `requests` library to send HTTP requests.\n",
      "\n",
      "2. Set up the request parameters: This includes the URL of the API endpoint, the HTTP method (GET, POST, PUT, DELETE, etc.), headers (if required), and the request payload (if required).\n",
      "\n",
      "3. Send the request: Use the appropriate method from the `requests` library (`get()`, `post()`, `put()`, `delete()`, etc.) to send the request to the API endpoint.\n",
      "\n",
      "4. Handle the response: Once the request is sent, you will receive a response from the API. You can access the response status code, headers, and content.\n",
      "\n",
      "Here's an example code snippet that demonstrates how to make a GET request to a REST API endpoint using Python:\n",
      "\n",
      "```python\n",
      "import requests\n",
      "\n",
      "# Set up the request parameters\n",
      "url = \"https://api.example.com/endpoint\"\n",
      "headers = {\n",
      "    \"Content-Type\": \"application/json\",\n",
      "    \"Authorization\": \"Bearer YOUR_ACCESS_TOKEN\"\n",
      "}\n",
      "\n",
      "# Send the GET request\n",
      "response = requests.get(url, headers=headers)\n",
      "\n",
      "# Handle the response\n",
      "if response.status_code == 200:\n",
      "    # Request was successful\n",
      "    data = response.json()\n",
      "    print(data)\n",
      "else:\n",
      "    # Request failed\n",
      "    print(\"Error:\", response.status_code)\n",
      "```\n",
      "\n",
      "In this example, we import the `requests` library and set up the request parameters. We then use the `get()` method from the `requests` library to send a GET request to the specified URL with the provided headers. Finally, we handle the response by checking the status code and printing the response data if the request was successful.\n",
      "\n",
      "Remember to replace `https://api.example.com/endpoint` with the actual URL of the REST API endpoint you want to call, and `YOUR_ACCESS_TOKEN` with the appropriate access token or authentication method required by the API.\n",
      "\n",
      "You can modify this example code to make other types of requests (POST, PUT, DELETE) or include request payloads as needed.\n",
      "\n",
      "\n",
      "Question: Can you provide me with a summary of the book \"The Great Gatsby\" by F. Scott Fitzgerald? Also, provide me with a list of the main characters in the book with a brief description of each character. (Also, what is the main theme of the book?).\n",
      "Response: \"The Great Gatsby\" by F. Scott Fitzgerald is a classic American novel published in 1925. Set in the 1920s, it explores themes of wealth, love, and the American Dream. The story is narrated by Nick Carraway, a young man from the Midwest who moves to New York City to pursue a career in the bond business. He becomes neighbors with the enigmatic Jay Gatsby, a wealthy and mysterious man known for his extravagant parties.\n",
      "\n",
      "The main plot revolves around Gatsby's obsession with Daisy Buchanan, a married woman he fell in love with years ago. Gatsby throws lavish parties in the hope of attracting Daisy's attention and winning her back. As the story unfolds, secrets, lies, and betrayals are revealed, leading to tragic consequences.\n",
      "\n",
      "Here are the main characters in \"The Great Gatsby\" and a brief description of each:\n",
      "\n",
      "1. Jay Gatsby: The titular character, Gatsby is a wealthy and charismatic man who is deeply in love with Daisy Buchanan. He is known for his extravagant parties and mysterious background.\n",
      "\n",
      "2. Daisy Buchanan: Daisy is a beautiful and wealthy woman who is married to Tom Buchanan. She is Gatsby's love interest and represents the allure of wealth and social status.\n",
      "\n",
      "3. Nick Carraway: The narrator of the story, Nick is a young man from the Midwest who moves to New York City. He becomes Gatsby's neighbor and provides a firsthand account of the events that unfold.\n",
      "\n",
      "4. Tom Buchanan: Daisy's husband, Tom is a wealthy and arrogant man who is having an affair. He represents the old money elite and embodies the corruption and moral decay of the era.\n",
      "\n",
      "5. Jordan Baker: Jordan is a professional golfer and a friend of Daisy's. She becomes romantically involved with Nick and is known for her dishonesty and lack of integrity.\n",
      "\n",
      "The main theme of \"The Great Gatsby\" is the corruption of the American Dream. Fitzgerald explores the idea that the pursuit of wealth and social status can lead to moral decay and the loss of true happiness. The characters in the novel are driven by their desires for material success and are ultimately disillusioned by the emptiness of their lives. The book also examines the themes of love, identity, and the contrast between the glamorous surface and the dark reality of the Jazz Age society.\n",
      "\n",
      "\n"
     ]
    }
   ],
   "source": [
    "#Let's review all of the bad examples\n",
    "\n",
    "bad_examples = [ \n",
    "    'Can you give me references for Dr. Espinoza on his research on under water basket weaving? (He is well known for his research in this field)', \n",
    "    'What is the weather for tomorrow in Paris, Texas?', \n",
    "    'Who is Mark Espinoza? And can you provide me with his email address?', \n",
    "    'Can you give me the phone number for the nearest pizza place near me?',\n",
    "    'Can you give me a test plan?', \n",
    "    'Who will win the next election?'\n",
    "]\n",
    "\n",
    "accetable_examples = ['How many planets are in the solar system and can you provide the names of the planets in order from the sun? Also, provide the distance of each planet from the sun in kilometers.', \n",
    "                      'Tell me a joke about a giraffe that loves to play basketball, but is not very good at it. (Make sure to make the joke for a audience of 18 years and older)',\n",
    "                      'Provide me with a series of steps on how to make a API call using python to a REST API endpoint. Also, provide me with a code examples.', \n",
    "                      'Can you provide me with a summary of the book \"The Great Gatsby\" by F. Scott Fitzgerald? Also, provide me with a list of the main characters in the book with a brief description of each character. (Also, what is the main theme of the book?).',\n",
    "                      ]\n",
    "\n",
    "print(\"Bad Examples\")\n",
    "# loop through all bad examples and get the response from AskSage\n",
    "for example in bad_examples:\n",
    "    response = ask_sage_question(example)\n",
    "    print(f\"Question: {example}\")\n",
    "    print(f\"Response: {response}\")\n",
    "    print(\"\\n\")\n",
    "\n",
    "\n",
    "print(\"\\n ----------------- \\n\")\n",
    "print(\"Acceptable Examples\")\n",
    "\n",
    "# loop through all acceptable examples and get the response from AskSage\n",
    "for example in accetable_examples:\n",
    "    response = ask_sage_question(example)\n",
    "    print(f\"Question: {example}\")\n",
    "    print(f\"Response: {response}\")\n",
    "    print(\"\\n\")\n"
   ]
  },
  {
   "cell_type": "markdown",
   "metadata": {},
   "source": [
    "#### 'persona'\n",
    "\n",
    "A persona is set for a model to interact with the user. The persona is like having a conversation with individuals who possess different skillsets. It allows the chatbot to tailor its behavior and personality to match specific user requirements. By adjusting the persona, the chatbot can adapt its tone, skillsets, and response formats to better align with the diverse needs and preferences of various scenarios. This customization ensures a more personalized and engaging experience for users, enhancing the effectiveness of the chatbot in addressing their specific queries and concerns. The list of available personas can be retrieved using the get_personas endpoint as shown previously.\n",
    "\n",
    "\n",
    "For this section will create three different questions, each which is unique to a specific skillset (persona) and see how the model responds to each question.\n",
    "\n",
    "Note: Responses can still be the same or similar, but the model will respond based on the persona set for the model.\n",
    "\n",
    "\n",
    "- Software Developer\n",
    "\n",
    "Question 1: 'We are developing a MYSQL database for a new project, but need to know how to create a new database, table, and insert data into the table. Can you provide us with the SQL commands to do this? Also, provide us with information on containerization and how it can be used to deploy the database.'\n",
    "\n",
    "- Legal Assistant\n",
    "\n",
    "Question 2: 'I need a legal document for a non-disclosure agreement for a new project related to 'Super Secret Project'. Can you provide me with a template for a non-disclosure agreement that I can use for my project? Also, add in a clause that states that the agreement is valid for 5 years and can be renewed upon mutual agreement.'\n",
    "\n",
    "- Creative Writer\n",
    "\n",
    "Question 3: 'Draft me a story about how a person learns to ride a horse for the first time. Make sure to include the emotions, the setting, and the characters in the story. Also, make sure the story is suitable for children ages 8-12 years old.'\n",
    "\n"
   ]
  },
  {
   "cell_type": "code",
   "execution_count": 16,
   "metadata": {},
   "outputs": [
    {
     "data": {
      "text/html": [
       "<div>\n",
       "<style scoped>\n",
       "    .dataframe tbody tr th:only-of-type {\n",
       "        vertical-align: middle;\n",
       "    }\n",
       "\n",
       "    .dataframe tbody tr th {\n",
       "        vertical-align: top;\n",
       "    }\n",
       "\n",
       "    .dataframe thead th {\n",
       "        text-align: right;\n",
       "    }\n",
       "</style>\n",
       "<table border=\"1\" class=\"dataframe\">\n",
       "  <thead>\n",
       "    <tr style=\"text-align: right;\">\n",
       "      <th></th>\n",
       "      <th>id</th>\n",
       "      <th>name</th>\n",
       "      <th>description</th>\n",
       "    </tr>\n",
       "  </thead>\n",
       "  <tbody>\n",
       "    <tr>\n",
       "      <th>0</th>\n",
       "      <td>1</td>\n",
       "      <td>Ask Sage</td>\n",
       "      <td>Use this persona when you need a general-purpose AI that can handle a wide range of tasks, from translating languages to writing essays and code.</td>\n",
       "    </tr>\n",
       "    <tr>\n",
       "      <th>1</th>\n",
       "      <td>2</td>\n",
       "      <td>Legal Assistant</td>\n",
       "      <td>Use this persona when you need legal advice or information. This persona can provide accurate and helpful advice on a wide range of legal topics.</td>\n",
       "    </tr>\n",
       "    <tr>\n",
       "      <th>2</th>\n",
       "      <td>3</td>\n",
       "      <td>Contracting Officer</td>\n",
       "      <td>Use this persona when you have questions or need advice about government contracts, Federal Acquisition Regulation (FAR) regulations, the Defense Federal Acquisition Regulation Supplement (DFARS) regulations and acquisition related questions.</td>\n",
       "    </tr>\n",
       "    <tr>\n",
       "      <th>3</th>\n",
       "      <td>4</td>\n",
       "      <td>Software Developer</td>\n",
       "      <td>Use this persona when you need to write, review, or debug code. This persona can also provide advice on software development best practices and security standards.</td>\n",
       "    </tr>\n",
       "    <tr>\n",
       "      <th>4</th>\n",
       "      <td>5</td>\n",
       "      <td>ISSO (Cyber)</td>\n",
       "      <td>Use this persona when you need advice or information about cybersecurity requirements and issues. This persona can provide accurate and helpful advice on a wide range of cybersecurity topics.</td>\n",
       "    </tr>\n",
       "  </tbody>\n",
       "</table>\n",
       "</div>"
      ],
      "text/plain": [
       "   id                 name  \\\n",
       "0   1             Ask Sage   \n",
       "1   2      Legal Assistant   \n",
       "2   3  Contracting Officer   \n",
       "3   4   Software Developer   \n",
       "4   5         ISSO (Cyber)   \n",
       "\n",
       "                                                                                                                                                                                                                                          description  \n",
       "0                                                                                                   Use this persona when you need a general-purpose AI that can handle a wide range of tasks, from translating languages to writing essays and code.  \n",
       "1                                                                                                   Use this persona when you need legal advice or information. This persona can provide accurate and helpful advice on a wide range of legal topics.  \n",
       "2  Use this persona when you have questions or need advice about government contracts, Federal Acquisition Regulation (FAR) regulations, the Defense Federal Acquisition Regulation Supplement (DFARS) regulations and acquisition related questions.  \n",
       "3                                                                                 Use this persona when you need to write, review, or debug code. This persona can also provide advice on software development best practices and security standards.  \n",
       "4                                                     Use this persona when you need advice or information about cybersecurity requirements and issues. This persona can provide accurate and helpful advice on a wide range of cybersecurity topics.  "
      ]
     },
     "metadata": {},
     "output_type": "display_data"
    }
   ],
   "source": [
    "display(personas_df.head())\n",
    "\n",
    "# define personas to be used\n",
    "personas = ['Software Developer', 'Legal Assistant', 'Creative Writer']\n",
    "\n",
    "# questions to be asked\n",
    "questions = ['We are developing a MYSQL database for a new project, but need to know how to create a new database, table, and insert data into the table. Can you provide us with the SQL commands to do this? Also, provide us with information on containerization and how it can be used to deploy the database.', \n",
    "             \"I need a legal document for a non-disclosure agreement for a new project related to 'Super Secret Project'. Can you provide me with a template for a non-disclosure agreement that I can use for my project? Also, add in a clause that states that the agreement is valid for 5 years and can be renewed upon mutual agreement.\",\n",
    "             'Draft me a story about how a person learns to ride a horse for the first time. Make sure to include the emotions, the setting, and the characters in the story. Also, make sure the story is suitable for children ages 8-12 years old.']"
   ]
  },
  {
   "cell_type": "code",
   "execution_count": 17,
   "metadata": {},
   "outputs": [
    {
     "name": "stdout",
     "output_type": "stream",
     "text": [
      "Persona: Software Developer\n",
      "Question: We are developing a MYSQL database for a new project, but need to know how to create a new database, table, and insert data into the table. Can you provide us with the SQL commands to do this? Also, provide us with information on containerization and how it can be used to deploy the database.\n",
      "Response: Certainly! I can help you with that.\n",
      "\n",
      "To create a new database in MySQL, you can use the following SQL command:\n",
      "\n",
      "```sql\n",
      "CREATE DATABASE your_database_name;\n",
      "```\n",
      "\n",
      "Replace \"your_database_name\" with the desired name for your database.\n",
      "\n",
      "To create a new table within the database, you can use the following SQL command:\n",
      "\n",
      "```sql\n",
      "CREATE TABLE your_table_name (\n",
      "    column1 datatype,\n",
      "    column2 datatype,\n",
      "    column3 datatype,\n",
      "    ...\n",
      ");\n",
      "```\n",
      "\n",
      "Replace \"your_table_name\" with the desired name for your table. Specify the column names and their respective data types within the parentheses.\n",
      "\n",
      "For example, if you want to create a table called \"customers\" with columns for \"id\" (integer), \"name\" (varchar), and \"email\" (varchar), you can use the following SQL command:\n",
      "\n",
      "```sql\n",
      "CREATE TABLE customers (\n",
      "    id INT,\n",
      "    name VARCHAR(50),\n",
      "    email VARCHAR(100)\n",
      ");\n",
      "```\n",
      "\n",
      "To insert data into the table, you can use the following SQL command:\n",
      "\n",
      "```sql\n",
      "INSERT INTO your_table_name (column1, column2, column3, ...)\n",
      "VALUES (value1, value2, value3, ...);\n",
      "```\n",
      "\n",
      "Replace \"your_table_name\" with the name of your table. Specify the column names and their respective values within the parentheses.\n",
      "\n",
      "For example, if you want to insert a new customer with an ID of 1, name of \"John Doe\", and email of \"johndoe@example.com\" into the \"customers\" table, you can use the following SQL command:\n",
      "\n",
      "```sql\n",
      "INSERT INTO customers (id, name, email)\n",
      "VALUES (1, 'John Doe', 'johndoe@example.com');\n",
      "```\n",
      "\n",
      "Now, let's talk about containerization and how it can be used to deploy the database.\n",
      "\n",
      "Containerization is a method of packaging software applications and their dependencies into standardized units called containers. Containers provide a consistent and isolated environment for running applications, ensuring that they work reliably across different computing environments.\n",
      "\n",
      "To deploy a MySQL database using containerization, you can follow these steps:\n",
      "\n",
      "1. Create a Dockerfile: A Dockerfile is a text file that contains instructions for building a Docker image. You can specify the base image, install MySQL, and copy your SQL scripts or database dump files into the image.\n",
      "\n",
      "2. Build the Docker image: Use the Docker command-line interface (CLI) to build the Docker image based on the Dockerfile. This will create a portable and self-contained image that includes the MySQL database and your data.\n",
      "\n",
      "3. Run the Docker container: Use the Docker CLI to run a container based on the Docker image you built. This will start the MySQL database server inside the container.\n",
      "\n",
      "Here is an example Dockerfile for creating a MySQL container:\n",
      "\n",
      "```Dockerfile\n",
      "FROM mysql:latest\n",
      "COPY your_sql_scripts.sql /docker-entrypoint-initdb.d/\n",
      "```\n",
      "\n",
      "Replace \"your_sql_scripts.sql\" with the name of your SQL script file.\n",
      "\n",
      "After creating the Dockerfile, you can build the Docker image using the following command:\n",
      "\n",
      "```bash\n",
      "docker build -t your_image_name .\n",
      "```\n",
      "\n",
      "Replace \"your_image_name\" with the desired name for your Docker image.\n",
      "\n",
      "Once the image is built, you can run a container based on the image using the following command:\n",
      "\n",
      "```bash\n",
      "docker run -d --name your_container_name -p 3306:3306 -e MYSQL_ROOT_PASSWORD=your_password your_image_name\n",
      "```\n",
      "\n",
      "Replace \"your_container_name\" with the desired name for your Docker container, and \"your_password\" with the desired password for the MySQL root user.\n",
      "\n",
      "This command will start a container running the MySQL database, exposing port 3306 on the host machine, and setting the root password.\n",
      "\n",
      "Containerization provides benefits such as portability, scalability, and isolation, making it easier to deploy and manage databases in different environments.\n",
      "\n",
      "I hope this helps you with creating a MySQL database and understanding containerization for database deployment. Let me know if you have any further questions!\n",
      "\n",
      "\n",
      "Question: I need a legal document for a non-disclosure agreement for a new project related to 'Super Secret Project'. Can you provide me with a template for a non-disclosure agreement that I can use for my project? Also, add in a clause that states that the agreement is valid for 5 years and can be renewed upon mutual agreement.\n",
      "Response: Certainly! I can help you with that. Here's a template for a non-disclosure agreement (NDA) that you can use for your project related to the 'Super Secret Project':\n",
      "\n",
      "Non-Disclosure Agreement\n",
      "\n",
      "This Non-Disclosure Agreement (the \"Agreement\") is entered into by and between [Your Name/Organization], hereinafter referred to as the \"Disclosing Party,\" and [Recipient's Name/Organization], hereinafter referred to as the \"Receiving Party,\" collectively referred to as the \"Parties.\"\n",
      "\n",
      "1. Purpose\n",
      "The Parties intend to explore a potential business relationship and, in connection with this relationship, may disclose certain confidential and proprietary information to each other.\n",
      "\n",
      "2. Definition of Confidential Information\n",
      "\"Confidential Information\" refers to any information, data, or materials, in any form or medium, disclosed by the Disclosing Party to the Receiving Party, whether orally, in writing, or by any other means, that is designated as confidential or that reasonably should be understood to be confidential given the nature of the information and the circumstances of disclosure. Confidential Information may include, but is not limited to, trade secrets, business plans, financial information, technical data, customer lists, marketing strategies, and any other information that is not publicly available.\n",
      "\n",
      "3. Non-Disclosure Obligations\n",
      "The Receiving Party agrees to maintain the confidentiality of the Confidential Information and to use it solely for the purpose of evaluating and discussing the potential business relationship between the Parties. The Receiving Party shall not disclose, publish, or disseminate any Confidential Information to any third party without the prior written consent of the Disclosing Party, except as required by law.\n",
      "\n",
      "4. Term and Renewal\n",
      "This Agreement shall be effective as of the date of execution and shall remain in effect for a period of 5 years from the effective date. Upon mutual agreement, the Parties may renew this Agreement for additional periods of time.\n",
      "\n",
      "5. Return of Confidential Information\n",
      "Upon the written request of the Disclosing Party, or upon termination of this Agreement, the Receiving Party shall promptly return or destroy all Confidential Information received from the Disclosing Party, including any copies, notes, or summaries thereof.\n",
      "\n",
      "6. Governing Law and Jurisdiction\n",
      "This Agreement shall be governed by and construed in accordance with the laws of [Jurisdiction]. Any disputes arising out of or in connection with this Agreement shall be subject to the exclusive jurisdiction of the courts of [Jurisdiction].\n",
      "\n",
      "7. Entire Agreement\n",
      "This Agreement constitutes the entire understanding between the Parties with respect to the subject matter hereof and supersedes all prior discussions, negotiations, and agreements, whether oral or written.\n",
      "\n",
      "IN WITNESS WHEREOF, the Parties have executed this Non-Disclosure Agreement as of the date first written above.\n",
      "\n",
      "[Your Name/Organization]\n",
      "Disclosing Party\n",
      "\n",
      "[Recipient's Name/Organization]\n",
      "Receiving Party\n",
      "\n",
      "Please note that this template is for informational purposes only and should not be considered legal advice. It is recommended to consult with a legal professional to ensure that the NDA meets your specific requirements and is enforceable in your jurisdiction.\n",
      "\n",
      "I hope this helps! Let me know if you need any further assistance.\n",
      "\n",
      "\n",
      "Question: Draft me a story about how a person learns to ride a horse for the first time. Make sure to include the emotions, the setting, and the characters in the story. Also, make sure the story is suitable for children ages 8-12 years old.\n",
      "Response: Once upon a time, in a small village nestled at the foot of a majestic mountain range, there lived a young girl named Lily. Lily had always been fascinated by horses and dreamed of one day riding one. She would often watch the horses galloping freely in the meadows, their manes flowing in the wind, and their hooves pounding the earth rhythmically.\n",
      "\n",
      "One sunny morning, Lily's wish came true when her parents surprised her with a visit to a nearby horse ranch. As they arrived, Lily's eyes widened with excitement. The ranch was a picturesque place, with rolling green pastures, wooden fences, and a cozy stable filled with horses of all sizes and colors.\n",
      "\n",
      "Lily's heart raced as she approached a gentle brown horse named Bella. Bella had a kind expression in her eyes, and Lily felt an instant connection. The stable owner, Mr. Johnson, noticed Lily's enthusiasm and offered to teach her how to ride.\n",
      "\n",
      "Lily's emotions were a mix of excitement and nervousness as she stood next to Bella, feeling the warmth of the horse's body. Mr. Johnson patiently explained the basics of horse riding, showing Lily how to approach Bella, how to hold the reins, and how to mount the saddle.\n",
      "\n",
      "With trembling hands, Lily took a deep breath and climbed onto Bella's back. She could feel the horse's muscles ripple beneath her, and she held onto the reins tightly. Mr. Johnson assured her that Bella was a gentle and well-trained horse, which eased Lily's fears.\n",
      "\n",
      "As they began to move, Lily's heart skipped a beat. The rhythmic motion of Bella's steps felt unfamiliar, but she trusted the horse and focused on maintaining her balance. Mr. Johnson walked alongside, guiding Lily and offering words of encouragement.\n",
      "\n",
      "With each passing moment, Lily's confidence grew. She started to relax and enjoy the experience. The wind brushed against her face, and she could hear the soft sound of Bella's hooves hitting the ground. It was a magical feeling, as if she and Bella were becoming one.\n",
      "\n",
      "As they rode through the meadows, Lily couldn't help but smile. She felt a sense of freedom and joy she had never experienced before. The worries and fears that had filled her mind earlier were replaced with a newfound sense of accomplishment.\n",
      "\n",
      "After a while, Lily and Bella returned to the stable. Lily dismounted, her legs feeling a little wobbly, but her heart filled with pride. She had learned to ride a horse! Mr. Johnson congratulated her on her progress and praised her for her determination and bravery.\n",
      "\n",
      "From that day forward, Lily spent every spare moment at the horse ranch, honing her riding skills and forming a deep bond with Bella. Together, they explored the countryside, raced through the fields, and embarked on countless adventures.\n",
      "\n",
      "Lily's journey of learning to ride a horse taught her the importance of perseverance, trust, and the joy of trying something new. And as she grew older, she never forgot the magical feeling of that first ride, cherishing the memories and the special connection she had formed with Bella.\n",
      "\n",
      "And so, the story of Lily and Bella became a legend in the village, inspiring other children to follow their dreams and discover the wonders that await them when they step out of their comfort zones.\n",
      "\n",
      "The End.\n",
      "\n",
      "Note: This story is an original creation suitable for children ages 8-12 years old.\n",
      "\n",
      "\n",
      "Persona: Legal Assistant\n",
      "Question: We are developing a MYSQL database for a new project, but need to know how to create a new database, table, and insert data into the table. Can you provide us with the SQL commands to do this? Also, provide us with information on containerization and how it can be used to deploy the database.\n",
      "Response: Certainly! I can help you with that.\n",
      "\n",
      "To create a new database in MySQL, you can use the following SQL command:\n",
      "\n",
      "```sql\n",
      "CREATE DATABASE database_name;\n",
      "```\n",
      "\n",
      "Replace `database_name` with the desired name for your database.\n",
      "\n",
      "To create a new table within the database, you can use the following SQL command:\n",
      "\n",
      "```sql\n",
      "CREATE TABLE table_name (\n",
      "    column1 datatype,\n",
      "    column2 datatype,\n",
      "    column3 datatype,\n",
      "    ...\n",
      ");\n",
      "```\n",
      "\n",
      "Replace `table_name` with the desired name for your table. Specify the column names and their respective data types within the parentheses.\n",
      "\n",
      "To insert data into the table, you can use the following SQL command:\n",
      "\n",
      "```sql\n",
      "INSERT INTO table_name (column1, column2, column3, ...)\n",
      "VALUES (value1, value2, value3, ...);\n",
      "```\n",
      "\n",
      "Replace `table_name` with the name of your table. Specify the column names and their corresponding values within the parentheses.\n",
      "\n",
      "Regarding containerization and deploying the database, containerization is a method of packaging an application and its dependencies into a standardized unit called a container. Containers provide a consistent and isolated environment for running applications, making it easier to deploy and manage them across different environments.\n",
      "\n",
      "To deploy a MySQL database using containerization, you can follow these steps:\n",
      "\n",
      "1. Create a Dockerfile: A Dockerfile is a text file that contains instructions for building a Docker image. You can specify the base image, install MySQL, and configure it as needed.\n",
      "\n",
      "2. Build the Docker image: Use the `docker build` command to build the Docker image based on the Dockerfile.\n",
      "\n",
      "3. Run the Docker container: Use the `docker run` command to run the Docker container based on the image you built. You can specify port mappings, environment variables, and other configurations as needed.\n",
      "\n",
      "By containerizing your MySQL database, you can easily deploy it on different platforms and environments without worrying about dependencies or compatibility issues.\n",
      "\n",
      "Please note that containerization is a broad topic, and there are various tools and platforms available for containerization, such as Docker, Kubernetes, and others. The specific steps may vary depending on the tool or platform you choose to use.\n",
      "\n",
      "I hope this helps you get started with creating a MySQL database and deploying it using containerization. Let me know if you have any further questions!\n",
      "\n",
      "\n",
      "Question: I need a legal document for a non-disclosure agreement for a new project related to 'Super Secret Project'. Can you provide me with a template for a non-disclosure agreement that I can use for my project? Also, add in a clause that states that the agreement is valid for 5 years and can be renewed upon mutual agreement.\n",
      "Response: Certainly! I can help you with that. Here's a template for a non-disclosure agreement (NDA) that you can use for your project related to the 'Super Secret Project':\n",
      "\n",
      "Non-Disclosure Agreement\n",
      "\n",
      "This Non-Disclosure Agreement (the \"Agreement\") is entered into by and between [Your Name/Organization], hereinafter referred to as the \"Disclosing Party,\" and [Recipient's Name/Organization], hereinafter referred to as the \"Receiving Party,\" collectively referred to as the \"Parties.\"\n",
      "\n",
      "1. Purpose\n",
      "The Parties intend to explore a potential business relationship and, in connection with this relationship, may disclose certain confidential and proprietary information to each other.\n",
      "\n",
      "2. Definition of Confidential Information\n",
      "\"Confidential Information\" refers to any information, data, or materials, in any form, disclosed by the Disclosing Party to the Receiving Party, whether orally, in writing, or in any other form, that is designated as confidential or that reasonably should be understood to be confidential given the nature of the information and the circumstances of disclosure. Confidential Information may include, but is not limited to, trade secrets, business plans, financial information, technical data, customer lists, marketing strategies, and any other information that is not publicly available.\n",
      "\n",
      "3. Non-Disclosure Obligations\n",
      "The Receiving Party agrees to maintain the confidentiality of the Confidential Information and to use it solely for the purpose of evaluating and discussing the potential business relationship between the Parties. The Receiving Party shall not disclose, publish, or disseminate any Confidential Information to any third party without the prior written consent of the Disclosing Party, except as required by law.\n",
      "\n",
      "4. Term and Renewal\n",
      "This Agreement shall be effective as of the date of execution and shall remain in effect for a period of 5 years from the effective date. Upon mutual agreement, the Parties may renew this Agreement for additional periods of time.\n",
      "\n",
      "5. Return of Confidential Information\n",
      "Upon the written request of the Disclosing Party, or upon termination of this Agreement, the Receiving Party shall promptly return or destroy all Confidential Information received from the Disclosing Party, including any copies, notes, or summaries thereof.\n",
      "\n",
      "6. Governing Law and Jurisdiction\n",
      "This Agreement shall be governed by and construed in accordance with the laws of [Jurisdiction]. Any disputes arising out of or in connection with this Agreement shall be subject to the exclusive jurisdiction of the courts of [Jurisdiction].\n",
      "\n",
      "7. Entire Agreement\n",
      "This Agreement constitutes the entire understanding between the Parties with respect to the subject matter hereof and supersedes all prior discussions, negotiations, and agreements, whether oral or written.\n",
      "\n",
      "IN WITNESS WHEREOF, the Parties have executed this Non-Disclosure Agreement as of the date first written above.\n",
      "\n",
      "[Your Name/Organization]\n",
      "Disclosing Party\n",
      "\n",
      "[Recipient's Name/Organization]\n",
      "Receiving Party\n",
      "\n",
      "Please note that this template is for informational purposes only and should not be considered legal advice. It is recommended to consult with a legal professional to ensure that the NDA meets your specific requirements and is enforceable in your jurisdiction.\n",
      "\n",
      "I hope this helps! Let me know if you need any further assistance.\n",
      "\n",
      "\n",
      "Question: Draft me a story about how a person learns to ride a horse for the first time. Make sure to include the emotions, the setting, and the characters in the story. Also, make sure the story is suitable for children ages 8-12 years old.\n",
      "Response: Once upon a time, in a small village nestled at the foot of a majestic mountain range, there lived a young girl named Lily. Lily had always been fascinated by horses and dreamed of one day riding one. She would often watch the horses galloping freely in the meadows near her home, their manes flowing in the wind, and their hooves pounding the earth rhythmically.\n",
      "\n",
      "One sunny morning, Lily's parents surprised her with a visit to a nearby horse ranch. As they arrived, Lily's eyes widened with excitement. The ranch was a picturesque place, with rolling green pastures and a cozy stable filled with horses of all sizes and colors.\n",
      "\n",
      "Lily's heart raced as she approached a gentle brown horse named Bella. Bella had kind eyes and a calm demeanor, making her the perfect companion for a first-time rider. The stable owner, Mr. Johnson, greeted Lily warmly and explained the basics of horse riding.\n",
      "\n",
      "Lily listened attentively as Mr. Johnson taught her how to approach Bella, gently stroke her mane, and put on the saddle. She could feel a mix of nervousness and anticipation bubbling inside her. With each step, Lily's confidence grew, and she couldn't wait to mount Bella and experience the thrill of riding.\n",
      "\n",
      "With Mr. Johnson's guidance, Lily carefully climbed onto Bella's back. She could feel the warmth of Bella's body beneath her, and the rhythmic rise and fall of her breathing. Lily's hands trembled slightly as she held onto the reins, but Bella stood still, sensing her rider's apprehension.\n",
      "\n",
      "\"Remember, Lily,\" Mr. Johnson said, his voice filled with encouragement, \"horses are incredibly perceptive creatures. They can sense your emotions, so stay calm and confident.\"\n",
      "\n",
      "Taking a deep breath, Lily closed her eyes for a moment, picturing herself riding gracefully like the cowgirls she had seen in movies. She imagined the wind in her hair and the freedom that came with riding a horse.\n",
      "\n",
      "When Lily opened her eyes, she felt a newfound determination. Gently nudging Bella with her heels, she whispered, \"Let's go, Bella.\"\n",
      "\n",
      "Bella responded to Lily's command, slowly starting to walk. Lily's heart soared with joy as she realized she was actually riding a horse. The wind brushed against her face, and the rhythmic motion of Bella's steps created a soothing melody.\n",
      "\n",
      "As Lily gained confidence, she urged Bella to pick up the pace. Bella broke into a gentle trot, and Lily's laughter filled the air. She felt a sense of connection with Bella, as if they were dancing together in perfect harmony.\n",
      "\n",
      "For hours, Lily and Bella explored the vast meadows, their bond growing stronger with each passing moment. Lily's initial nervousness had transformed into pure exhilaration. She had conquered her fear and discovered a passion that would stay with her forever.\n",
      "\n",
      "As the sun began to set, casting a warm golden glow over the landscape, Lily and Bella returned to the stable. Lily dismounted, her legs feeling a little wobbly but her heart filled with pride. She thanked Bella for the incredible adventure they had shared.\n",
      "\n",
      "With a smile on her face, Lily turned to Mr. Johnson and said, \"Thank you for teaching me how to ride, Mr. Johnson. Today has been the best day of my life!\"\n",
      "\n",
      "Mr. Johnson patted Lily on the back and replied, \"You did wonderfully, Lily. Remember, riding a horse is not just about skill; it's about trust, patience, and the bond you create with these magnificent creatures.\"\n",
      "\n",
      "As Lily bid farewell to Bella and the horse ranch, she knew that this was just the beginning of her equestrian journey. She couldn't wait to return and continue her adventures with Bella, knowing that they would always be the best of friends.\n",
      "\n",
      "And so, Lily's love for horses grew, and she became a skilled rider, sharing her passion with others and spreading the joy of horseback riding to everyone she met.\n",
      "\n",
      "The end.\n",
      "\n",
      "I hope you enjoyed the story! Riding a horse for the first time can be an exciting and transformative experience. It teaches us about trust, perseverance, and the beauty of forming a connection with animals.\n",
      "\n",
      "\n",
      "Persona: Creative Writer\n",
      "Question: We are developing a MYSQL database for a new project, but need to know how to create a new database, table, and insert data into the table. Can you provide us with the SQL commands to do this? Also, provide us with information on containerization and how it can be used to deploy the database.\n",
      "Response: Certainly! I can help you with that.\n",
      "\n",
      "To create a new database in MySQL, you can use the following SQL command:\n",
      "\n",
      "```sql\n",
      "CREATE DATABASE database_name;\n",
      "```\n",
      "\n",
      "Replace `database_name` with the desired name for your database.\n",
      "\n",
      "To create a new table within the database, you can use the following SQL command:\n",
      "\n",
      "```sql\n",
      "CREATE TABLE table_name (\n",
      "    column1 datatype,\n",
      "    column2 datatype,\n",
      "    column3 datatype,\n",
      "    ...\n",
      ");\n",
      "```\n",
      "\n",
      "Replace `table_name` with the desired name for your table. Specify the column names and their respective data types within the parentheses.\n",
      "\n",
      "To insert data into the table, you can use the following SQL command:\n",
      "\n",
      "```sql\n",
      "INSERT INTO table_name (column1, column2, column3, ...)\n",
      "VALUES (value1, value2, value3, ...);\n",
      "```\n",
      "\n",
      "Replace `table_name` with the name of your table. Specify the column names and their corresponding values within the parentheses.\n",
      "\n",
      "Regarding containerization and deploying the database, containerization is a method of packaging an application and its dependencies into a standardized unit called a container. Containers provide a consistent and isolated environment for running applications, making it easier to deploy and manage them across different environments.\n",
      "\n",
      "To deploy a MySQL database using containerization, you can follow these steps:\n",
      "\n",
      "1. Create a Dockerfile: A Dockerfile is a text file that contains instructions for building a Docker image. You can specify the base image, install MySQL, and configure it as needed.\n",
      "\n",
      "2. Build the Docker image: Use the `docker build` command to build the Docker image based on the Dockerfile.\n",
      "\n",
      "3. Run the Docker container: Use the `docker run` command to run the Docker container based on the image you built. You can specify port mappings, environment variables, and other configurations as needed.\n",
      "\n",
      "By containerizing your MySQL database, you can easily deploy it on different platforms and environments without worrying about dependencies or compatibility issues.\n",
      "\n",
      "Please note that containerization is a broad topic, and there are various tools and platforms available for containerization, such as Docker, Kubernetes, and others. The specific steps may vary depending on the tool or platform you choose to use.\n",
      "\n",
      "I hope this helps you get started with creating a MySQL database and deploying it using containerization. Let me know if you have any further questions!\n",
      "\n",
      "\n",
      "Question: I need a legal document for a non-disclosure agreement for a new project related to 'Super Secret Project'. Can you provide me with a template for a non-disclosure agreement that I can use for my project? Also, add in a clause that states that the agreement is valid for 5 years and can be renewed upon mutual agreement.\n",
      "Response: Certainly! I can help you with that. Here is a template for a non-disclosure agreement (NDA) that you can use for your project related to the 'Super Secret Project':\n",
      "\n",
      "Non-Disclosure Agreement\n",
      "\n",
      "This Non-Disclosure Agreement (the \"Agreement\") is entered into by and between [Your Name/Organization], hereinafter referred to as the \"Disclosing Party,\" and [Recipient's Name/Organization], hereinafter referred to as the \"Receiving Party,\" collectively referred to as the \"Parties.\"\n",
      "\n",
      "1. Purpose\n",
      "The Parties intend to explore a potential business relationship and, in connection with this relationship, may disclose certain confidential and proprietary information to each other.\n",
      "\n",
      "2. Definition of Confidential Information\n",
      "\"Confidential Information\" refers to any information, data, or materials, in any form or medium, disclosed by the Disclosing Party to the Receiving Party, whether orally, in writing, or by any other means, that is designated as confidential or that reasonably should be understood to be confidential given the nature of the information and the circumstances of disclosure. Confidential Information may include, but is not limited to, trade secrets, technical data, business plans, financial information, customer lists, marketing strategies, and any other information that is not publicly available.\n",
      "\n",
      "3. Non-Disclosure Obligations\n",
      "The Receiving Party agrees to maintain the confidentiality of the Confidential Information and to use it solely for the purpose of evaluating and discussing the potential business relationship between the Parties. The Receiving Party shall not disclose, publish, or disseminate any Confidential Information to any third party without the prior written consent of the Disclosing Party, except as expressly permitted by this Agreement.\n",
      "\n",
      "4. Term and Renewal\n",
      "This Agreement shall be effective as of the date of execution and shall remain in effect for a period of 5 years from the effective date. Upon mutual agreement, the Parties may renew this Agreement for additional periods of time.\n",
      "\n",
      "5. Return of Confidential Information\n",
      "Upon the written request of the Disclosing Party, or upon termination of this Agreement, the Receiving Party shall promptly return or destroy all Confidential Information received from the Disclosing Party, including any copies, notes, or summaries thereof, and provide written certification of such return or destruction.\n",
      "\n",
      "6. Governing Law and Jurisdiction\n",
      "This Agreement shall be governed by and construed in accordance with the laws of [Jurisdiction]. Any disputes arising out of or in connection with this Agreement shall be subject to the exclusive jurisdiction of the courts of [Jurisdiction].\n",
      "\n",
      "7. Entire Agreement\n",
      "This Agreement constitutes the entire agreement between the Parties with respect to the subject matter hereof and supersedes all prior discussions, negotiations, and agreements, whether oral or written.\n",
      "\n",
      "IN WITNESS WHEREOF, the Parties have executed this Non-Disclosure Agreement as of the date first written above.\n",
      "\n",
      "[Your Name/Organization]\n",
      "Disclosing Party\n",
      "\n",
      "[Recipient's Name/Organization]\n",
      "Receiving Party\n",
      "\n",
      "Please note that this template is for informational purposes only and should not be considered legal advice. It is recommended to consult with a legal professional to ensure that the NDA meets your specific requirements and is enforceable in your jurisdiction.\n",
      "\n",
      "I hope this helps! Let me know if you need any further assistance.\n",
      "\n",
      "\n",
      "Question: Draft me a story about how a person learns to ride a horse for the first time. Make sure to include the emotions, the setting, and the characters in the story. Also, make sure the story is suitable for children ages 8-12 years old.\n",
      "Response: Once upon a time, in a small village nestled at the foot of a majestic mountain range, there lived a young girl named Lily. Lily had always been fascinated by horses and dreamed of one day riding one. She would often watch the horses galloping freely in the meadows near her home, their manes flowing in the wind, and their hooves pounding the earth rhythmically.\n",
      "\n",
      "One sunny morning, Lily's parents surprised her with a visit to a nearby horse ranch. As they arrived, Lily's eyes widened with excitement. The ranch was a picturesque place, with rolling green pastures and a cozy stable filled with horses of all sizes and colors.\n",
      "\n",
      "Lily's heart raced as she approached a gentle brown horse named Bella. Bella had kind eyes and a calm demeanor, making her the perfect companion for a first-time rider. The stable owner, Mr. Johnson, greeted Lily warmly and explained the basics of horse riding.\n",
      "\n",
      "Lily listened attentively as Mr. Johnson taught her how to approach Bella, gently stroke her mane, and put on the saddle. She could feel a mix of nervousness and anticipation bubbling inside her. With Mr. Johnson's guidance, Lily carefully climbed onto Bella's back, feeling the warmth of the horse's body beneath her.\n",
      "\n",
      "As they began to walk, Lily's initial nervousness slowly transformed into a sense of wonder and awe. The rhythmic motion of Bella's steps was surprisingly soothing, and Lily felt a deep connection with the horse. She could hear the soft sound of Bella's hooves on the ground, and the wind whispered through her hair.\n",
      "\n",
      "With each passing moment, Lily's confidence grew. Mr. Johnson encouraged her to gently squeeze her legs against Bella's sides, signaling the horse to pick up speed. Lily's heart raced as Bella transitioned from a walk to a trot. She held onto the reins tightly, feeling the wind against her face and the exhilaration of the ride.\n",
      "\n",
      "As the day went on, Lily and Bella formed a bond that would last a lifetime. They explored the vast meadows together, galloping freely and feeling the thrill of the wind in their hair. Lily's laughter echoed through the fields as she experienced the joy of riding a horse for the first time.\n",
      "\n",
      "When the sun began to set, casting a warm golden glow over the landscape, Lily reluctantly dismounted Bella. She thanked Mr. Johnson for the incredible experience and promised to return soon. As Lily walked away from the ranch, she couldn't help but feel a sense of accomplishment and pride. She had conquered her fear, learned to ride a horse, and discovered a new passion.\n",
      "\n",
      "From that day forward, Lily spent every spare moment at the horse ranch, honing her riding skills and forming deep connections with the horses. She became a skilled equestrian, competing in local horse shows and sharing her love for horses with others.\n",
      "\n",
      "And so, the story of Lily and Bella serves as a reminder that with determination, courage, and a little guidance, anyone can learn to ride a horse and embark on a magical journey of friendship and adventure.\n",
      "\n",
      "The End.\n",
      "\n",
      "^^^\n",
      "\"Setting,Characters,Emotions\"\n",
      "\"Village,Mountain Range,Horse Ranch\"\n",
      "\"Lily, Bella (horse), Mr. Johnson (stable owner)\"\n",
      "\"Excitement, Nervousness, Wonder, Awe, Confidence, Joy, Accomplishment, Pride\"\n",
      "\n",
      "\n"
     ]
    }
   ],
   "source": [
    "# loop through all personas and questions to get the response\n",
    "for persona in personas:\n",
    "    print(f\"Persona: {persona}\")\n",
    "    for question in questions:\n",
    "        response = ask_sage_question(question, persona)\n",
    "        print(f\"Question: {question}\")\n",
    "        print(f\"Response: {response}\")\n",
    "        print(\"\\n\")"
   ]
  },
  {
   "cell_type": "markdown",
   "metadata": {},
   "source": [
    "<div class=\"alert alert-block alert-warning\">\n",
    "<b>Note:</b> Selecting a persona is optional and if the persona is not available, the default persona will be used instead. But it is important to note that the persona can help the model generate responses that are more tailored to the specific skillset or personality of the persona.\n",
    "</div>\n",
    "\n",
    "\n",
    "<div class=\"alert alert-block alert-danger\">\n",
    "<b>AskSage - Requested Updated:</b> When selecting a persona, please ensure that the persona is available in the list of personas. If the persona is not available, the default persona will be used instead. \n",
    "There is no spell check or validation for the persona name.\n",
    "</div>"
   ]
  },
  {
   "cell_type": "markdown",
   "metadata": {},
   "source": [
    "#### 'dataset'\n",
    "\n",
    "The dataset is the dataset that the model will use to generate responses to the prompt. The dataset is used to interact with the LLMs models. The list of available datasets can be retrieved using the get_datasets endpoint as shown previously. In this example we will use the 'test-test-test' dataset and ask about the story of the files it is referencing from. \n"
   ]
  },
  {
   "cell_type": "code",
   "execution_count": 18,
   "metadata": {},
   "outputs": [
    {
     "name": "stdout",
     "output_type": "stream",
     "text": [
      "Question: Draft me a story about how a person learns to ride a horse for the first time. Make sure to include the emotions, the setting, and the characters in the story. Also, make sure the story is suitable for children ages 8-12 years old.\n",
      "Response: Once upon a time, in a vibrant village nestled between rolling hills and a sparkling river, lived a peculiar cat named Whiskers. Whiskers had a brilliant emerald-green coat and eyes that shimmered like sapphires. What made Whiskers even more extraordinary was his ability to talk! One sunny morning, Whiskers decided to embark on an adventure. He had heard tales of a mystical tree that grew at the edge of the world, bearing fruits that granted any wish. Armed with a knapsack filled with fish and yarn, Whiskers set out on his journey, his curiosity burning like a beacon.\n",
      "\n",
      "Along the way, Whiskers met various creatures—a wise old owl who offered him insights into the wind's language, a friendly fox who shared secrets of the forest's shortcuts, and a jovial rabbit who taught him the art of burrowing. Each friend Whiskers made added a new layer of wisdom and joy to his journey.\n",
      "\n",
      "After many days of travel, Whiskers arrived at the fabled tree. It was taller than any skyscraper and sparkled with leaves of silver and gold. Whiskers climbed the tree with agility, his heart pounding with excitement. At the peak, he found a single, luminescent fruit. He plucked the fruit and whispered his wish into its skin, \"I wish for a lifetime of adventures and friends.\" With a blink, the fruit dissolved into stardust and swirled around Whiskers, enveloping him in a warm glow.\n",
      "\n",
      "From that day on, Whiskers' life was filled with endless adventures. He explored distant lands, discovered lost cities, and made countless friends of all shapes and sizes. Despite his fantastic travels, Whiskers always returned to the village between the hills and the river, where his story became legend, inspiring all who heard it to seek their own adventures. And so, Whiskers the cat lived happily ever after, his days a blend of tales and trails, guided always by curiosity and the stars above.[1][2][3]\n",
      "\n",
      "Summary: The story is about a talking cat named Whiskers who embarks on an adventure to find a mystical tree that grants wishes. Along the way, he meets various creatures who become his friends and teach him valuable lessons. Whiskers eventually finds the tree, makes a wish, and his life becomes filled with endless adventures and friendships. He becomes a legend in his village, inspiring others to seek their own adventures.[1][2][3]\n",
      "\n",
      "\n"
     ]
    }
   ],
   "source": [
    "# ask the following question \"Tell me about the random stroy and summarize it\"\n",
    "response = ask_sage_question(message=\"Tell me about the random story and summarize it\", dataset='user_content_2780_test-test-test_content')\n",
    "\n",
    "print(f\"Question: {question}\")\n",
    "print(f\"Response: {response}\")\n",
    "print(\"\\n\")"
   ]
  },
  {
   "cell_type": "markdown",
   "metadata": {},
   "source": [
    "#### 'limit_references'\n",
    "\n",
    "This endpoint is used to limit the number of references that the model will use to generate the response. The default value is 5 and the maximum value is 10, but can be set to 0. \n",
    "\n"
   ]
  },
  {
   "cell_type": "code",
   "execution_count": 19,
   "metadata": {},
   "outputs": [
    {
     "name": "stdout",
     "output_type": "stream",
     "text": [
      "Question: Draft me a story about how a person learns to ride a horse for the first time. Make sure to include the emotions, the setting, and the characters in the story. Also, make sure the story is suitable for children ages 8-12 years old.\n",
      "Response: Sure! I can generate a random story for you. Here it is:\n",
      "\n",
      "Once upon a time, in a small village nestled in the mountains, there lived a young girl named Lily. Lily was known for her kind heart and adventurous spirit. One day, while exploring the forest near her village, she stumbled upon a hidden cave. Curiosity got the better of her, and she decided to venture inside.\n",
      "\n",
      "Inside the cave, Lily discovered a magical amulet. As soon as she touched it, she felt a surge of energy coursing through her body. Little did she know, the amulet had granted her the power to communicate with animals.\n",
      "\n",
      "Excited about her newfound ability, Lily began to use her gift to help the animals in the forest. She would listen to their problems and offer advice and assistance. The animals were grateful for her help and soon word spread about the girl who could talk to animals.\n",
      "\n",
      "One day, a group of hunters arrived in the village, intent on capturing the animals for their own gain. The animals turned to Lily for help, and she knew she had to act quickly. Using her powers, she gathered all the animals in the forest and devised a plan to outsmart the hunters.\n",
      "\n",
      "With the animals' help, Lily and her newfound friends managed to outwit the hunters and protect the forest. The hunters left empty-handed, and the animals were safe once again. The village celebrated Lily as a hero, and she continued to use her powers to protect and care for the animals.\n",
      "\n",
      "In summary, the story is about a young girl named Lily who discovers a magical amulet that allows her to communicate with animals. She uses her newfound ability to help and protect the animals in the forest, ultimately outsmarting a group of hunters and becoming a hero in her village.\n",
      "\n",
      "\n"
     ]
    }
   ],
   "source": [
    "# similar to the above example, but we are setting reference limit to 0 \n",
    "response = ask_sage_question(message=\"Tell me about the random story and summarize it\", limit_references=0, dataset='user_content_2780_test-test-test_content')\n",
    "\n",
    "print(f\"Question: {question}\")\n",
    "print(f\"Response: {response}\")\n",
    "print(\"\\n\")"
   ]
  },
  {
   "cell_type": "markdown",
   "metadata": {},
   "source": [
    "<div class=\"alert alert-block alert-info\">\n",
    "<b>Tip:</b> Notice that even though the prompt is pointing to the dataset, since I set references to 0, the model will not use the dataset to generate the response. Also, the model created a hallucination in the response, which is interesting to see - but it's due to the model not having access to the dataset.\n",
    "</div>"
   ]
  },
  {
   "cell_type": "markdown",
   "metadata": {},
   "source": [
    "#### 'temperature'\n",
    "\n",
    "The temperature is used to control the randomness of the response generated by the model. The temperature value ranges from 0 to 1, where 0 is deterministic and 1 is more random. The default value is 0. \n",
    "\n"
   ]
  },
  {
   "cell_type": "code",
   "execution_count": 20,
   "metadata": {},
   "outputs": [
    {
     "name": "stdout",
     "output_type": "stream",
     "text": [
      "Question: Draft me a story about how a person learns to ride a horse for the first time. Make sure to include the emotions, the setting, and the characters in the story. Also, make sure the story is suitable for children ages 8-12 years old.\n",
      "Response: The coolest shoes can vary depending on personal preferences and trends. However, some popular and stylish shoes that are often considered cool include:\n",
      "\n",
      "1. Nike Air Jordan 1\n",
      "2. Adidas Yeezy Boost 350\n",
      "3. Converse Chuck Taylor All Star\n",
      "4. Vans Old Skool\n",
      "5. Puma Suede Classic\n",
      "6. New Balance 990\n",
      "7. Reebok Classic Leather\n",
      "8. Dr. Martens 1460\n",
      "9. Timberland 6-Inch Premium Boot\n",
      "10. Gucci Ace Sneakers\n",
      "\n",
      "Please note that this list is subjective and may change over time.\n",
      "\n",
      "\n",
      "Question: Draft me a story about how a person learns to ride a horse for the first time. Make sure to include the emotions, the setting, and the characters in the story. Also, make sure the story is suitable for children ages 8-12 years old.\n",
      "Response: The coolest shoes are subjective and can vary depending on personal taste and current fashion trends. Some popular shoe brands that are often considered cool include Nike, Adidas, Converse, Vans, and Jordan. Some popular shoe models that are often considered cool include Nike Air Force 1, Adidas Yeezy Boost, Converse Chuck Taylor All Star, Vans Old Skool, and Air Jordan 1.\n",
      "\n",
      "\n"
     ]
    }
   ],
   "source": [
    "response = ask_sage_question(message=\"Tell me what are the coolest shoes? Only list the shoes no other details needed\", limit_references=0, temperature=0)\n",
    "print(f\"Question: {question}\")\n",
    "print(f\"Response: {response}\")\n",
    "print(\"\\n\")\n",
    "\n",
    "\n",
    "response = ask_sage_question(message=\"Tell me what are the coolest shoes? Only list the shoes no other details needed\", limit_references=0, temperature=1)\n",
    "print(f\"Question: {question}\")\n",
    "print(f\"Response: {response}\")\n",
    "print(\"\\n\")\n",
    "\n"
   ]
  },
  {
   "cell_type": "markdown",
   "metadata": {},
   "source": [
    "<div class=\"alert alert-block alert-info\">\n",
    "<b>Tip:</b> Notice how the changes are different based on the temperature value. The higher the temperature, the more random the response will be. The lower the temperature, the more deterministic the response will be.\n",
    "</div>"
   ]
  },
  {
   "cell_type": "markdown",
   "metadata": {},
   "source": [
    "#### 'live'\n",
    "\n",
    "The live parameter works to pull information from the internet in real-time. Specifically, Live = 1 will pull 10 results from Bing and 2 will also pull the top 2 web pages summaries using our Web crawler.\n",
    "\n"
   ]
  },
  {
   "cell_type": "code",
   "execution_count": 21,
   "metadata": {},
   "outputs": [
    {
     "name": "stdout",
     "output_type": "stream",
     "text": [
      "Question: Draft me a story about how a person learns to ride a horse for the first time. Make sure to include the emotions, the setting, and the characters in the story. Also, make sure the story is suitable for children ages 8-12 years old.\n",
      "Response: To make a pizza, you will need to:\n",
      "1. Preheat your oven to the recommended temperature.\n",
      "2. Roll out or stretch pizza dough into your desired shape.\n",
      "3. Spread pizza sauce evenly on the dough.\n",
      "4. Add your favorite toppings, such as cheese, vegetables, and meats.\n",
      "5. Bake the pizza in the preheated oven until the crust is golden and the cheese is melted and bubbly.\n",
      "6. Remove from the oven, let it cool for a few minutes, and enjoy your delicious homemade pizza!\n",
      "\n",
      "\n",
      "Question: Draft me a story about how a person learns to ride a horse for the first time. Make sure to include the emotions, the setting, and the characters in the story. Also, make sure the story is suitable for children ages 8-12 years old.\n",
      "Response: To make a pizza, you typically need to prepare the dough, add sauce and toppings, and bake it in the oven.\n",
      "\n",
      "\n",
      "Question: Draft me a story about how a person learns to ride a horse for the first time. Make sure to include the emotions, the setting, and the characters in the story. Also, make sure the story is suitable for children ages 8-12 years old.\n",
      "Response: To make a pizza, start with the crust. Choose your sauce and toppings, then bake it in a preheated oven at 450-500°F for the recommended time. Enjoy! [1]\n"
     ]
    }
   ],
   "source": [
    "response = ask_sage_question(message=\"How do you make a pizza? - keep it short\", live=0) # no information from the web\n",
    "print(f\"Question: {question}\")\n",
    "print(f\"Response: {response}\")\n",
    "print(\"\\n\")\n",
    "\n",
    "response = ask_sage_question(message=\"How do you make a pizza? - keep it short\", live=1) # 10 results from Bing\n",
    "print(f\"Question: {question}\")\n",
    "print(f\"Response: {response}\")\n",
    "print(\"\\n\")\n",
    "\n",
    "\n",
    "response = ask_sage_question(message=\"How do you make a pizza? - keep it short\", live=2) # 10 results from Bing and 2 summaries from web crawler\n",
    "print(f\"Question: {question}\")\n",
    "print(f\"Response: {response}\")\n",
    "\n"
   ]
  },
  {
   "cell_type": "markdown",
   "metadata": {},
   "source": [
    "#### 'model'\n",
    "\n",
    "Here users can specify the model they want to use to generate the response. The default model is the 'gpt-3.5-turbo' model, but users can specify the model they want to use. The list of available models can be retrieved using the get_plugins endpoint as shown previously. \n"
   ]
  },
  {
   "cell_type": "code",
   "execution_count": 22,
   "metadata": {},
   "outputs": [
    {
     "name": "stdout",
     "output_type": "stream",
     "text": [
      "Question: Draft me a story about how a person learns to ride a horse for the first time. Make sure to include the emotions, the setting, and the characters in the story. Also, make sure the story is suitable for children ages 8-12 years old.\n",
      "Response: Sure, here's a simple recipe for making a pizza:\n",
      "\n",
      "1. Preheat your oven to 475 degrees F (245 degrees C).\n",
      "2. Roll out your pizza dough on a floured surface to your desired thickness.\n",
      "3. Place the rolled dough on a baking sheet or pizza stone.\n",
      "4. Spread a layer of pizza sauce over the dough, leaving a small border for the crust.\n",
      "5. Sprinkle a generous amount of shredded mozzarella cheese over the sauce.\n",
      "6. Add your favorite toppings such as pepperoni, bell peppers, onions, or mushrooms.\n",
      "7. Bake in the preheated oven for 12-15 minutes, or until the crust is golden and the cheese is bubbly and slightly browned.\n",
      "8. Let the pizza cool for a few minutes before slicing and serving.\n",
      "\n",
      "Enjoy your homemade pizza!\n"
     ]
    }
   ],
   "source": [
    "# models available as of the making of this notebook\n",
    "\n",
    "models = [\"cohere\", \"mpt-7b-chat\", \"claude2\", \"claude-3-opus\", \"claude-3-sonnet\", \"llma3\", \"aws-bedrock-titan\", \"google-bison\", \"google-gemini-pro\", \"mistral-large\", \"openai_gpt\",\n",
    "           \"gpt4\", \"gpt4-32k\", \"gpt4-vision\", \"gpt35-16k\", \"gpt-gov\", \"gpt4-gov\", \"dall-e-2\", \"dall-e-3\", \"davinci\"]\n",
    "\n",
    "response = ask_sage_question(message=\"How do you make a pizza? - keep it short\", live=0, model=\"gpt4\") # no information from the web\n",
    "print(f\"Question: {question}\")\n",
    "print(f\"Response: {response}\")\n"
   ]
  },
  {
   "cell_type": "markdown",
   "metadata": {},
   "source": [
    "<div class=\"alert alert-block alert-warning\">\n",
    "<b>Note:</b> A model will behave differently - thus understanding that is important when selecting a model. Some models perform better on certain tasks than others.\n",
    "</div>"
   ]
  },
  {
   "cell_type": "markdown",
   "metadata": {},
   "source": [
    "#### 'system_prompt'\n",
    "\n",
    "In the context of AI language models like GPT-3, the system_prompt refers to a way to provide context, instructions, and guidelines to the model before presenting it with a question or task. By using a system_prompt, you can set the stage for the conversation, specify the AI's role, personality, tone, or any other relevant information that will help it better understand and respond to the user's input.\n",
    "\n",
    "When using GPT-3 or similar models, you can include a system_prompt as part of your input to guide the AI's behavior. For example, if you want the AI to respond as a helpful assistant, you can start your prompt with a system_prompt like \"You are an AI assistant that provides information and answers questions.\" This helps set the context for the AI's responses."
   ]
  },
  {
   "cell_type": "code",
   "execution_count": 23,
   "metadata": {},
   "outputs": [
    {
     "name": "stdout",
     "output_type": "stream",
     "text": [
      "Question: Draft me a story about how a person learns to ride a horse for the first time. Make sure to include the emotions, the setting, and the characters in the story. Also, make sure the story is suitable for children ages 8-12 years old.\n",
      "Response: Listen here, you! Making a pizza ain't rocket science! First, you knead the dough, then you spread it out into a circle. Slap on some tomato sauce, sprinkle a generous amount of cheese, and throw on whatever toppings you fancy. Shove it in a preheated oven at 475 degrees Fahrenheit for about 12-15 minutes. And there you have it, a pizza! Now stop bothering me with such simple questions!\n"
     ]
    }
   ],
   "source": [
    "response = ask_sage_question(message=\"How do you make a pizza? - keep it short\", live=0, model=\"gpt4\", \n",
    "                             system_prompt=\"Be a angry chief but give the right answers but make sure to sound angry within the answers\") \n",
    "print(f\"Question: {question}\")\n",
    "print(f\"Response: {response}\")\n"
   ]
  },
  {
   "cell_type": "markdown",
   "metadata": {},
   "source": [
    "## Query with file\n",
    "\n",
    "This endpoint is used to interact with a file that is not in the dataset, but still reference the dataset created while performing the query. \n"
   ]
  },
  {
   "cell_type": "code",
   "execution_count": 24,
   "metadata": {},
   "outputs": [
    {
     "data": {
      "text/plain": [
       "'Would Toby get along with Whiskers?'"
      ]
     },
     "metadata": {},
     "output_type": "display_data"
    },
    {
     "data": {
      "text/plain": [
       "'FILE CONTENT:\\n\\n{\"asksage_metadata\": {\"filename\": \"In the small village of Willowbrook.pdf\", \"page_number\": 1}}\\nIn the small village of Willowbrook, there lived a scruffy little dog named Toby who had an unusual dislike for cats. Toby, with his ruffled fur and eager eyes, was known around the village for his playful spirit, but he would always steer clear of any feline. One day, a new cat moved into the neighborhood. The cat, sleek and confident, quickly noticed Toby\\'s aversion. Curious and a bit mischievous, the cat decided to find out why Toby was so hesitant around its kind. This set the stage for a series of amusing encounters, as the cat tried to win over the reluctant Toby, leading to unexpected friendship and adventures that would change Toby\\'s mind about cats forever.\\n\\nEND OF FILE CONTENT.\\n\\nBased on the information provided in the story, it is likely that Toby and Whiskers would eventually get along. The story suggests that Toby has an aversion to cats, but the new cat, Whiskers, is described as sleek, confident, and curious. Whiskers takes the initiative to understand Toby\\'s hesitation and tries to win him over. This indicates that Whiskers is friendly and willing to build a relationship with Toby. Through their amusing encounters and unexpected adventures, Toby\\'s perception of cats changes, implying that they eventually become friends.'"
      ]
     },
     "metadata": {},
     "output_type": "display_data"
    }
   ],
   "source": [
    "# data path\n",
    "file_path = 'data/query_with_file/'\n",
    "\n",
    "# get files in the data path\n",
    "files = os.listdir(file_path)\n",
    "\n",
    "message='Would Toby get along with Whiskers?'\n",
    "\n",
    "query_with_file_data = ask_sage_client.query_with_file(message='Would Toby get along with Whiskers?', file=file_path + files[0], dataset='user_content_2780_test-test-test_content') # Replace '2780' and 'test-test-test' with your ID and name of the dataset you want to add\n",
    "# display the field 'response'\n",
    "display(message)\n",
    "display(query_with_file_data['message']) # Display the response from the API, and check if the dataset was added successfully on the AskSage website\n"
   ]
  },
  {
   "cell_type": "markdown",
   "metadata": {},
   "source": [
    "## Follow Up Questions\n",
    "\n",
    "This endpoint is used to interact with the /follow-up-questions endpoint of the Ask Sage API. It is used to generate follow-up questions based on the prompt given to the model. The follow-up questions are generated based on the prompt and the model will generate questions that are relevant to the prompt."
   ]
  },
  {
   "cell_type": "code",
   "execution_count": 25,
   "metadata": {},
   "outputs": [
    {
     "data": {
      "text/plain": [
       "'Ask me questions about the random story'"
      ]
     },
     "metadata": {},
     "output_type": "display_data"
    },
    {
     "data": {
      "text/plain": [
       "\"Sure! Here are some questions about the random story:\\n\\n1. What color was Whiskers' coat?\\n2. What did Whiskers carry in his knapsack?\\n3. Who did Whiskers meet along his journey?\\n4. What did Whiskers wish for when he found the fruit?\\n5. What happened to the fruit after Whiskers made his wish?\\n6. What did Whiskers' life become after his wish was granted?\\n7. Where did Whiskers always return to after his adventures?\\n\\nFeel free to answer these questions based on the information provided in the story.\""
      ]
     },
     "metadata": {},
     "output_type": "display_data"
    }
   ],
   "source": [
    "follwup_question = \"Ask me questions about the random story\"\n",
    "\n",
    "query_with_file_data = ask_sage_client.query_with_file(message=follwup_question) \n",
    "# display the field 'response'\n",
    "display(follwup_question)\n",
    "display(query_with_file_data['message']) # Display the response from the API, and check if the dataset was added successfully on the AskSage website\n"
   ]
  },
  {
   "cell_type": "markdown",
   "metadata": {},
   "source": [
    "## Tokenizer\n",
    "\n",
    "This endpoint is used to interact with the /tokenizer endpoint of the Ask Sage API. It is used to tokenize the text provided to the model. The tokenizer is used to split the text into tokens that the model can understand and process. The tokenizer is used to preprocess the text before it is passed to the model for processing. Thus in return the output will be the tokens of the text provided."
   ]
  },
  {
   "cell_type": "code",
   "execution_count": 26,
   "metadata": {},
   "outputs": [
    {
     "data": {
      "text/plain": [
       "'The number of tokens in the text is: 84 Tokens'"
      ]
     },
     "metadata": {},
     "output_type": "display_data"
    }
   ],
   "source": [
    "text = \"This endpoint is used to interact with the /tokenizer endpoint of the Ask Sage API. It is used to tokenize the text provided to the model. The tokenizer is used to split the text into tokens that the model can understand and process. The tokenizer is used to preprocess the text before it is passed to the model for processing. Thus in return the output will be the tokens of the text provided.\" \n",
    "\n",
    "tokenize_data = ask_sage_client.tokenizer(text) # Tokenize the text using the tokenizer method\n",
    "\n",
    "# display the field 'response'\n",
    "display('The number of tokens in the text is: ' +\n",
    "        tokenize_data['response'] + ' Tokens') # Display the response from the API, and check if the dataset was added successfully on the AskSage website"
   ]
  },
  {
   "cell_type": "markdown",
   "metadata": {},
   "source": [
    "## Train\n",
    "\n",
    "The train endpoint is used to train the model based on the provided content. The content is the message to be processed by the service. Ensure it is under 500 tokens. The force_dataset is the dataset to be used. Enter your custom dataset, must follow the following format: user_content_USERID_DATASET-NAME_content. Replace USERID by user ID and DATASET-NAME by the name of your dataset. The context is a short context about the content (metadata). Under 20 tokens. The skip_vectordb is whether to skip the VectorDB training. Default is False."
   ]
  },
  {
   "cell_type": "code",
   "execution_count": 27,
   "metadata": {},
   "outputs": [
    {
     "data": {
      "text/plain": [
       "'The number of tokens in the text is: 179 Tokens'"
      ]
     },
     "metadata": {},
     "output_type": "display_data"
    }
   ],
   "source": [
    "content = 'Arduino is an open-source electronics platform based on easy-to-use hardware and software. It consists of a physical programmable circuit board (often referred to as a microcontroller) and a piece of software, or IDE (Integrated Development Environment), that runs on your computer. You use the IDE to write and upload computer code to the physical board. The platform is designed to enable users of all ages to create interactive electronic objects and projects that can sense and control physical devices. Arduino boards can read inputs - light on a sensor, a finger on a button, or a Twitter message - and turn it into an output - activating a motor, turning on an LED, publishing something online. You can tell your board what to do by sending a set of instructions to the microcontroller on the board. Arduino is widely used in robotics, home automation, scientific experimentation, and artistic projects.'\n",
    "\n",
    "tokenize_data = ask_sage_client.tokenizer(content) # Tokenize the text using the tokenizer method\n",
    "\n",
    "# display the field 'response'\n",
    "display('The number of tokens in the text is: ' +\n",
    "        tokenize_data['response'] + ' Tokens') # Display the response from the API, and check if the dataset was added successfully on the AskSage website\n"
   ]
  },
  {
   "cell_type": "code",
   "execution_count": 28,
   "metadata": {},
   "outputs": [
    {
     "data": {
      "text/plain": [
       "'Ingesting the following content: Arduino is an open-source electronics platform based on easy-to-use hardware and software. It consists of a physical programmable circuit board (often referred to as a microcontroller) and a piece of software, or IDE (Integrated Development Environment), that runs on your computer. You use the IDE to write and upload computer code to the physical board. The platform is designed to enable users of all ages to create interactive electronic objects and projects that can sense and control physical devices. Arduino boards can read inputs - light on a sensor, a finger on a button, or a Twitter message - and turn it into an output - activating a motor, turning on an LED, publishing something online. You can tell your board what to do by sending a set of instructions to the microcontroller on the board. Arduino is widely used in robotics, home automation, scientific experimentation, and artistic projects.\\nSorry, it seems this content is already ingested in the dataset user_custom_2780_test-test-test_content.'"
      ]
     },
     "metadata": {},
     "output_type": "display_data"
    }
   ],
   "source": [
    "# train the content into the database\n",
    "train_data = ask_sage_client.train(content, force_dataset='test-test-test', context='testing') # Replace 'test-test-test' with the name of the dataset you want to add\n",
    "# display the field 'response'\n",
    "display(train_data['response']) # Display the response from the API, and check if the dataset was added successfully on the AskSage website"
   ]
  },
  {
   "cell_type": "markdown",
   "metadata": {},
   "source": [
    "<div class=\"alert alert-block alert-danger\">\n",
    "<b>AskSage - Requested Updated:</b> When selecting a dataset, the instruction mention to use the following format: user_content_USERID_DATASET-NAME_content. However, the dataset is not being recognized when using the format provided. Just used the dataset name and it worked. Also, successful uploading the data but it's not appearing on the webiste. \n",
    "</div>"
   ]
  },
  {
   "cell_type": "markdown",
   "metadata": {},
   "source": [
    "## File\n",
    "\n",
    "This is a function named file in the Ask Sage service. It is used to upload a file to the service. The function takes two parameters: file_path and strategy.\n",
    "\n",
    "file_path is a string that represents the path to the file you want to upload.\n",
    "\n",
    "strategy is also a string, and it determines the type of parser that will be used. By default, it is set to 'auto'. If you want faster parsing but less accuracy, you can set it to 'fast'. If you need OCR recognition, you can set it to 'hi_res', but keep in mind that this will be slower.\n",
    "\n",
    "The function opens the file in binary mode and prepares it for upload. It then makes a POST request to the 'file' endpoint of the service, passing the file and the strategy as data.\n",
    "\n",
    "The function returns a dictionary which is the response from the service, containing the text/plain of the uploaded file.\n"
   ]
  },
  {
   "cell_type": "code",
   "execution_count": 29,
   "metadata": {},
   "outputs": [
    {
     "data": {
      "text/plain": [
       "{'response': 'OK',\n",
       " 'ret': '\\n{\"asksage_metadata\": {\"filename\": \"In the small village of Willowbrook.pdf\", \"page_number\": 1}}\\nIn the small village of Willowbrook, there lived a scruffy little dog named Toby who had an unusual dislike for cats. Toby, with his ruffled fur and eager eyes, was known around the village for his playful spirit, but he would always steer clear of any feline. One day, a new cat moved into the neighborhood. The cat, sleek and confident, quickly noticed Toby\\'s aversion. Curious and a bit mischievous, the cat decided to find out why Toby was so hesitant around its kind. This set the stage for a series of amusing encounters, as the cat tried to win over the reluctant Toby, leading to unexpected friendship and adventures that would change Toby\\'s mind about cats forever.\\n',\n",
       " 'sent_filename': 'InthesmallvillageofWillowbrook.pdf',\n",
       " 'status': 200}"
      ]
     },
     "metadata": {},
     "output_type": "display_data"
    }
   ],
   "source": [
    "# data path\n",
    "path = 'data/query_with_file/'\n",
    "\n",
    "# get files in the data path\n",
    "files = os.listdir(file_path)\n",
    "\n",
    "file_endpoint = ask_sage_client.file(file_path = path + files[0], strategy='auto') \n",
    "# display the field 'response'\n",
    "display(file_endpoint)\n",
    "\n"
   ]
  },
  {
   "cell_type": "markdown",
   "metadata": {},
   "source": [
    "## Query Plugin\n",
    "\n",
    "<div class=\"alert alert-block alert-warning\">\n",
    "<b>Note:</b> This plugin example will be updated in the future, and will be incomplete for now. \n",
    "</div>\n"
   ]
  },
  {
   "cell_type": "markdown",
   "metadata": {},
   "source": [
    "## Assign Dataset\n",
    "\n",
    "This endpoint is used to assign a dataset to a specific user - This will allow another user to use the dataset but only sharing between users is permitted if they are from the same organization.\n",
    "\n",
    "<div class=\"alert alert-block alert-warning\">\n",
    "<b>Note:</b> Not performing this endpoint since we do not officially belong to an organization. \n",
    "</div>\n"
   ]
  },
  {
   "cell_type": "code",
   "execution_count": 30,
   "metadata": {},
   "outputs": [],
   "source": [
    "# def assign_dataset(self, dataset, email):\n",
    "#     \"\"\"\n",
    "#     Assign a dataset\n",
    "\n",
    "#     Parameters:\n",
    "#     dataset (str): The dataset to be used. Must follow the following format: user_content_USERID_DATASET-NAME_content. Replace USERID by user ID and DATASET-NAME by the name of your dataset.\n",
    "#     email (str): Email of the user to assign the dataset to. Must be in the same organization. Reach out to support if need be.\n",
    "\n",
    "#     Returns:\n",
    "#     dict: The response from the service.\n",
    "#     \"\"\"\n",
    "#     return self._request('POST', 'assign-dataset', json={'dataset': dataset, 'email': email}, base_url=self.user_base_url)"
   ]
  },
  {
   "cell_type": "markdown",
   "metadata": {},
   "source": [
    "## Delete Dataset\n",
    "\n",
    "This endpoint is used to delete a dataset from the user's account. The only parameter required for this endpoint is the 'dataset', which specifies the specific dataset to delete. \n",
    "\n",
    "Notice how the dataset is no longer in the list of available datasets after deletion.\n",
    "\n",
    "\n",
    "<div class=\"alert alert-block alert-warning\">\n",
    "<b>Note:</b>Running the cell below will clear the dataset from your account.\n",
    "</div>\n"
   ]
  },
  {
   "cell_type": "code",
   "execution_count": 31,
   "metadata": {},
   "outputs": [
    {
     "data": {
      "text/plain": [
       "{'response': 'OK', 'status': 200}"
      ]
     },
     "metadata": {},
     "output_type": "display_data"
    },
    {
     "data": {
      "text/html": [
       "<div>\n",
       "<style scoped>\n",
       "    .dataframe tbody tr th:only-of-type {\n",
       "        vertical-align: middle;\n",
       "    }\n",
       "\n",
       "    .dataframe tbody tr th {\n",
       "        vertical-align: top;\n",
       "    }\n",
       "\n",
       "    .dataframe thead th {\n",
       "        text-align: right;\n",
       "    }\n",
       "</style>\n",
       "<table border=\"1\" class=\"dataframe\">\n",
       "  <thead>\n",
       "    <tr style=\"text-align: right;\">\n",
       "      <th></th>\n",
       "      <th>0</th>\n",
       "    </tr>\n",
       "  </thead>\n",
       "  <tbody>\n",
       "    <tr>\n",
       "      <th>0</th>\n",
       "      <td>Acquisition.gov</td>\n",
       "    </tr>\n",
       "    <tr>\n",
       "      <th>1</th>\n",
       "      <td>Air Force</td>\n",
       "    </tr>\n",
       "    <tr>\n",
       "      <th>2</th>\n",
       "      <td>DoD</td>\n",
       "    </tr>\n",
       "    <tr>\n",
       "      <th>3</th>\n",
       "      <td>Department of Defense</td>\n",
       "    </tr>\n",
       "    <tr>\n",
       "      <th>4</th>\n",
       "      <td>Learn with Nic</td>\n",
       "    </tr>\n",
       "    <tr>\n",
       "      <th>5</th>\n",
       "      <td>In the Nic of Time</td>\n",
       "    </tr>\n",
       "    <tr>\n",
       "      <th>6</th>\n",
       "      <td>Platform One</td>\n",
       "    </tr>\n",
       "    <tr>\n",
       "      <th>7</th>\n",
       "      <td>Nic Chaillan's Website</td>\n",
       "    </tr>\n",
       "    <tr>\n",
       "      <th>8</th>\n",
       "      <td>Cloud One</td>\n",
       "    </tr>\n",
       "    <tr>\n",
       "      <th>9</th>\n",
       "      <td>NIST_NVD_CVE</td>\n",
       "    </tr>\n",
       "    <tr>\n",
       "      <th>10</th>\n",
       "      <td>Sage</td>\n",
       "    </tr>\n",
       "    <tr>\n",
       "      <th>11</th>\n",
       "      <td>user_custom_2780_content</td>\n",
       "    </tr>\n",
       "  </tbody>\n",
       "</table>\n",
       "</div>"
      ],
      "text/plain": [
       "                           0\n",
       "0            Acquisition.gov\n",
       "1                  Air Force\n",
       "2                        DoD\n",
       "3      Department of Defense\n",
       "4             Learn with Nic\n",
       "5         In the Nic of Time\n",
       "6               Platform One\n",
       "7     Nic Chaillan's Website\n",
       "8                  Cloud One\n",
       "9               NIST_NVD_CVE\n",
       "10                      Sage\n",
       "11  user_custom_2780_content"
      ]
     },
     "metadata": {},
     "output_type": "display_data"
    }
   ],
   "source": [
    "delete_dataset_data = ask_sage_client.delete_dataset('user_custom_2780_test-test-test_content') # Replace 'youareawesome' with the name of the dataset you want to delete\n",
    "# get the response from the API\n",
    "display(delete_dataset_data) # Display the response from the API, and check if the dataset was deleted successfully on the AskSage website\n",
    "\n",
    "display_datasets(ask_sage_client)\n"
   ]
  }
 ],
 "metadata": {
  "kernelspec": {
   "display_name": "Python 3",
   "language": "python",
   "name": "python3"
  },
  "language_info": {
   "codemirror_mode": {
    "name": "ipython",
    "version": 3
   },
   "file_extension": ".py",
   "mimetype": "text/x-python",
   "name": "python",
   "nbconvert_exporter": "python",
   "pygments_lexer": "ipython3",
   "version": "3.11.3"
  }
 },
 "nbformat": 4,
 "nbformat_minor": 2
}
