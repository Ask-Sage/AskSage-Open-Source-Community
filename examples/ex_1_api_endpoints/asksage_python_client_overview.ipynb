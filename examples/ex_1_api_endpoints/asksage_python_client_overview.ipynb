{
 "cells": [
  {
   "cell_type": "markdown",
   "metadata": {},
   "source": [
    "# Ask Sage Python API Client - API Documentation\n",
    "\n",
    "In this notebook, we will go through the AskSage Python API Client documentation and review the available endpoints.\n",
    "\n",
    "For more information please visit the AskSage Python API Client via the link below:\n",
    "Python API Client: https://pypi.org/project/asksageclient/\n",
    "\n",
    "<div class=\"alert alert-block alert-info\">\n",
    "<b>Tip:</b> Recommend to run the code cells in order to see the output of the endpoints and understand the examples provided. \n",
    "</div>\n",
    "\n",
    "<div class=\"alert alert-block alert-warning\">\n",
    "<b>Note:</b> All credential information and API keys are removed from the code cells and declared as environment variables for security purposes. We recommend to do the same when running the code cells if you are sharing the notebook.\n",
    "</div>\n",
    "\n",
    "We will cover all of the following endpoints in this notebook: \n",
    "\n",
    "The order of review is based on a logical flow of first understanding what the API has to offer, then interacting with the API to interact with models. \n",
    "\n",
    "Also, refer to the Outline of the notebook to navigate to the specific endpoints you are interested in reviewing."
   ]
  },
  {
   "cell_type": "markdown",
   "metadata": {},
   "source": [
    "|       Function Name         |                       Description                     |\n",
    "|:---------------------------:|:-----------------------------------------------------:|\n",
    "|         `get_models`         | Get the available models from the Ask Sage service    |\n",
    "|       `add_dataset`         |                   Adds a new dataset                  |\n",
    "|     `delete_dataset`        |              Deletes a specified dataset              |\n",
    "|     `assign_dataset`        |                   Assigns a dataset                   |\n",
    "|     `get_user_logs`         |             Retrieves all logs for user               |\n",
    "|    `get_user_logins`        | Retrieves login information for a specific user       |\n",
    "|          `query`            | Interact with the /query endpoint of the Ask Sage API |\n",
    "|    `query_with_file`        |         Executes a query using a file                 |\n",
    "|      `query_plugin`         | Executes a query using a specific plugin              |\n",
    "|    `execute_plugin`         | Executes a plugin with the provided content           |\n",
    "| `follow_up_questions`       | Interact with the /follow-up-questions endpoint of the Ask Sage API |\n",
    "|        `tokenizer`          | Interact with the /tokenizer endpoint of the Ask Sage API |\n",
    "|      `get_personas`         | Get the available personas from the Ask Sage service  |\n",
    "|      `get_datasets`         | Get the available datasets from the Ask Sage service  |\n",
    "|       `get_plugins`         | Get the available plugins from the Ask Sage service   |\n",
    "|  `count_monthly_tokens`     | Get the count of monthly training tokens spent for this user from the Ask Sage service |\n",
    "|`count_monthly_teach_tokens` | Counts the number of teach tokens used in a month     |\n",
    "|          `train`            | Train the model based on the provided content         |\n",
    "|    `train_with_file`        | Train the dataset based on the provided file          |\n",
    "|          `file`             | Upload a file to the Ask Sage service                 |"
   ]
  },
  {
   "cell_type": "markdown",
   "metadata": {},
   "source": [
    "## Import Libraries and Set Environment Variables \n",
    "\n",
    "Let's start by importing the necessary libraries and setting the environment variables.\n",
    "\n",
    "> There will be more detail within this notebook than what is relevant to the user, but it is important to understand the different endpoints and what they represent. Also, note that the code is not being written in a production-ready manner, but rather to demonstrate the different endpoints and their outputs."
   ]
  },
  {
   "cell_type": "code",
   "execution_count": 1,
   "metadata": {},
   "outputs": [],
   "source": [
    "import json # Import the json module to work with JSON data\n",
    "import requests # Import the requests library to send HTTP requests\n",
    "from asksageclient import AskSageClient # Import the AskSageClient class from the asksageclient module\n",
    "import pandas as pd # Import the pandas library to work with dataframes\n",
    "import os # Import the os module to interact with the operating system\n",
    "from PIL import Image # Import the Image class from the PIL module to work with images\n",
    "from io import BytesIO # Import the BytesIO class from the io module to work with bytes\n",
    "\n",
    "# Function to load credentials from a JSON file\n",
    "def load_credentials(filename):\n",
    "    try:\n",
    "        with open(filename) as file:\n",
    "            return json.load(file)\n",
    "    except FileNotFoundError:\n",
    "        raise FileNotFoundError(\"The credentials file was not found.\")\n",
    "    except json.JSONDecodeError:\n",
    "        raise ValueError(\"Failed to decode JSON from the credentials file.\")\n",
    "\n",
    "# Load the credentials\n",
    "credentials = load_credentials('../../credentials.json')\n",
    "\n",
    "# Extract the API key, and email from the credentials to be used in the API request\n",
    "api_key = credentials['credentials']['api_key']\n",
    "email = credentials['credentials']['Ask_sage_user_info']['username']\n"
   ]
  },
  {
   "cell_type": "markdown",
   "metadata": {},
   "source": [
    "## Setup Ask Sage Python API Client\n",
    "\n",
    "The AskSage Python API Client provides a simple way to interact with the AskSage API. The client provides methods for each endpoint, making it easy to use the API.\n",
    "\n",
    "First order is defining the client and setting the credentials for the client, which are the email and API key.\n",
    "\n"
   ]
  },
  {
   "cell_type": "code",
   "execution_count": 2,
   "metadata": {},
   "outputs": [],
   "source": [
    "\"\"\"  \n",
    "class AskSageClient(\n",
    "    email: email, # The email address of the user\n",
    "    api_key: api_key, # The API key for the AskSage API, which can be obtained from the AskSage website\n",
    "    user_base_url: str = 'https://api.asksage.ai/user', # The base URL for the user API\n",
    "    server_base_url: str = 'https://api.asksage.ai/server' # The base URL for the server API\n",
    ")\n",
    "\"\"\"\n",
    "\n",
    "ask_sage_client = AskSageClient(email, api_key) # Create an instance of the AskSageClient class with the email and api_key "
   ]
  },
  {
   "cell_type": "markdown",
   "metadata": {},
   "source": [
    "## 1. Get Models\n",
    "The `get_models` function retrieves all the available models from the Ask Sage services. The models can be called with the `query` function to interact with user queries. However, note that developers need to understand the models and their capabilities as they are different from each other."
   ]
  },
  {
   "cell_type": "code",
   "execution_count": 3,
   "metadata": {},
   "outputs": [
    {
     "name": "stdout",
     "output_type": "stream",
     "text": [
      "These are the models available on Ask Sage: ['aws-bedrock-titan', 'llma3', 'claude2', 'claude-3-opus', 'claude-3-sonnet', 'claude-35-sonnet', 'cohere', 'mistral-large', 'gpt-gov', 'gpt4-gov', 'gpt', 'gpt4', 'gpt4-32k', 'gpt35-16k', 'gpt4-vision', 'gpt-4o', 'gpt-4o-mini', 'dall-e-2', 'dall-e-3', 'google-bison', 'google-gemini-pro', 'gpt-4o-gov', 'groq-70b', 'gpt-o1', 'gpt-o1-mini', 'xai-grok']\n"
     ]
    }
   ],
   "source": [
    "models = ask_sage_client.get_models() # Get the list of models available for the user\n",
    "\n",
    "# Get the list of models available on Ask SAge. \n",
    "models = models['response']\n",
    "print(\"These are the models available on Ask Sage: \" + str(models))\n"
   ]
  },
  {
   "cell_type": "markdown",
   "metadata": {},
   "source": [
    "<div class=\"alert alert-block alert-warning\">\n",
    "<b>Note:</b> Reference the Ask Sage 'Help' section 'Models' Tab to understand the models and their capabilities. Additionally, if the models are CUI compatible.\n",
    "</div>\n"
   ]
  },
  {
   "cell_type": "markdown",
   "metadata": {},
   "source": [
    "## 2. Get User Logs"
   ]
  },
  {
   "cell_type": "markdown",
   "metadata": {},
   "source": [
    "This endpoint returns the last prompts of the user. By default, it returns the last 5 prompts.\n",
    "\n",
    "There are no parameters required for this endpoint. \n",
    "\n",
    "The output will be the following:\n",
    "- All the prompts that the user has made.\n",
    "- completion_tokens: The completion tokens of the prompt.\n",
    "- date_time: The date and time of the prompt.\n",
    "- id: The ID of the prompt.\n",
    "- ip: The IP address of the prompt.\n",
    "- model: The model used for the prompt.\n",
    "- prompt: The prompt text.\n",
    "- prompt_tokens: The prompt tokens.\n",
    "- response: The response text.\n",
    "- teach: The teach flag (true or false).\n",
    "- total_tokens: The total tokens \n",
    "\n",
    "\n",
    "<div class=\"alert alert-block alert-danger\">\n",
    "<b>AskSage - Requested Updated:</b> The endpoint works, but it outputs all everything listed above - a feature request is to be able to limit the number of outputs.\n",
    "</div>\n",
    "\n",
    "<div class=\"alert alert-block alert-warning\">\n",
    "<b>Note:</b> Uncomment the `display` call to see the output of the endpoint in the cell below. It was intentionally commented out to avoid showing the output in the notebook. \n",
    "\n",
    "Also, be aware that this endpoint outputs all the prompts that the user has made, which may contain sensitive information. Therefore, it is recommended to use this endpoint with caution and avoid displaying the output in a shared notebook.\n",
    "\n",
    "</div>\n",
    "\n",
    "\n"
   ]
  },
  {
   "cell_type": "code",
   "execution_count": 4,
   "metadata": {},
   "outputs": [],
   "source": [
    "user_prompts = ask_sage_client.get_user_logs() # Get the user prompts using the get_user_logs method\n",
    "# display(user_prompts) # comment to hide the user prompts - this will display a lot of data "
   ]
  },
  {
   "cell_type": "markdown",
   "metadata": {},
   "source": [
    "## 3. Get User Logins"
   ]
  },
  {
   "cell_type": "markdown",
   "metadata": {},
   "source": [
    "This endpoint returns the last logins of the user. By default, it returns the last 5 logins.\n",
    "\n",
    "The only parameter required for this endpoint is the 'limit' parameter, which specifies the number of logins to return. The default value is 5 and the maximum value is 100.\n",
    "\n",
    "So in return, one will get the following information: \n",
    "- date_time: The date and time of the login.\n",
    "- id: The ID of the login.\n",
    "- ip: The IP address of the login.\n",
    "- status: The status of the login (success or failure).\n",
    "- type: endpoint type (login).\n",
    "- status_code: The status code of the login (200 for success, 400 for failure).\n",
    "\n",
    "<div class=\"alert alert-block alert-warning\">\n",
    "<b>Note:</b> Uncomment the `display` call to see the output of the endpoint in the cell below. It was intentionally commented out to avoid showing sensitive information in the notebook.\n",
    "</div>\n"
   ]
  },
  {
   "cell_type": "code",
   "execution_count": 5,
   "metadata": {},
   "outputs": [],
   "source": [
    "user_logins = ask_sage_client.get_user_logins(limit=5) # Get the user logins using the get_user_logins method\n",
    "# display(user_logins) "
   ]
  },
  {
   "cell_type": "markdown",
   "metadata": {},
   "source": [
    "## 4. Count Monthly Tokens\n",
    "\n",
    "Get the count of monthly training tokens spent for this user from the Ask Sage service - This endpoint will return the number of tokens used in the current month."
   ]
  },
  {
   "cell_type": "code",
   "execution_count": 6,
   "metadata": {},
   "outputs": [
    {
     "name": "stdout",
     "output_type": "stream",
     "text": [
      "The count of monthly usage is: 453597\n"
     ]
    }
   ],
   "source": [
    "count_monthly_usage = ask_sage_client.count_monthly_tokens() # Get the count of monthly usage using the get_count_monthly_usage method\n",
    "# extract the count of monthly usage from the response\n",
    "count = count_monthly_usage['response']\n",
    "\n",
    "print(f\"The count of monthly usage is: {count}\") # Print the count of monthly usage\n"
   ]
  },
  {
   "cell_type": "markdown",
   "metadata": {},
   "source": [
    "## 5. Count Monthly Teach Tokens\n",
    "\n",
    " Get the count of monthly training tokens spent for this user from the Ask Sage service, meaning the number of tokens used for training the model.\n"
   ]
  },
  {
   "cell_type": "code",
   "execution_count": 7,
   "metadata": {},
   "outputs": [
    {
     "name": "stdout",
     "output_type": "stream",
     "text": [
      "The count of monthly teach usage is: 907135\n"
     ]
    }
   ],
   "source": [
    "count_monthly_usage = ask_sage_client.count_monthly_teach_tokens() # Get the count of monthly usage using the get_count_monthly_usage method\n",
    "# extract the count of monthly usage from the response\n",
    "count = count_monthly_usage['response']\n",
    "\n",
    "print(f\"The count of monthly teach usage is: {count}\") # Print the count of monthly usage\n"
   ]
  },
  {
   "cell_type": "markdown",
   "metadata": {},
   "source": [
    "## 6. Get Personas\n",
    "\n",
    "This endpoint returns the available personas from the Ask Sage service. Users will have access to all the standard personas that are available in the Ask Sage service for all paid users, and any custom personas that have been created in the platform. \n",
    "\n",
    "<div class=\"alert alert-block alert-danger\">\n",
    "<b>AskSage - Requested Updated:</b> Being able to create custom personas via the API would be a great feature to have. Although, the `query` endpoint does have a parameter for `system_prompt` which can be used to define a persona.\n",
    "</div>"
   ]
  },
  {
   "cell_type": "code",
   "execution_count": 8,
   "metadata": {},
   "outputs": [
    {
     "data": {
      "text/html": [
       "<div>\n",
       "<style scoped>\n",
       "    .dataframe tbody tr th:only-of-type {\n",
       "        vertical-align: middle;\n",
       "    }\n",
       "\n",
       "    .dataframe tbody tr th {\n",
       "        vertical-align: top;\n",
       "    }\n",
       "\n",
       "    .dataframe thead th {\n",
       "        text-align: right;\n",
       "    }\n",
       "</style>\n",
       "<table border=\"1\" class=\"dataframe\">\n",
       "  <thead>\n",
       "    <tr style=\"text-align: right;\">\n",
       "      <th></th>\n",
       "      <th>id</th>\n",
       "      <th>name</th>\n",
       "      <th>description</th>\n",
       "    </tr>\n",
       "  </thead>\n",
       "  <tbody>\n",
       "    <tr>\n",
       "      <th>0</th>\n",
       "      <td>1</td>\n",
       "      <td>Ask Sage</td>\n",
       "      <td>Use this persona when you need a general-purpose AI that can handle a wide range of tasks, from translating languages to writing essays and code.</td>\n",
       "    </tr>\n",
       "    <tr>\n",
       "      <th>1</th>\n",
       "      <td>2</td>\n",
       "      <td>Legal Assistant</td>\n",
       "      <td>Use this persona when you need legal advice or information. This persona can provide accurate and helpful advice on a wide range of legal topics.</td>\n",
       "    </tr>\n",
       "    <tr>\n",
       "      <th>2</th>\n",
       "      <td>3</td>\n",
       "      <td>Contracting Officer</td>\n",
       "      <td>Use this persona when you have questions or need advice about government contracts, Federal Acquisition Regulation (FAR) regulations, the Defense Federal Acquisition Regulation Supplement (DFARS) regulations and acquisition related questions.</td>\n",
       "    </tr>\n",
       "    <tr>\n",
       "      <th>3</th>\n",
       "      <td>4</td>\n",
       "      <td>Software Developer</td>\n",
       "      <td>Use this persona when you need to write, review, or debug code. This persona can also provide advice on software development best practices and security standards.</td>\n",
       "    </tr>\n",
       "    <tr>\n",
       "      <th>4</th>\n",
       "      <td>5</td>\n",
       "      <td>ISSO (Cyber)</td>\n",
       "      <td>Use this persona when you need advice or information about cybersecurity requirements and issues. This persona can provide accurate and helpful advice on a wide range of cybersecurity topics.</td>\n",
       "    </tr>\n",
       "    <tr>\n",
       "      <th>5</th>\n",
       "      <td>6</td>\n",
       "      <td>System Administrator</td>\n",
       "      <td>Use this persona when you need advice or information about system designs, security, and issues. This persona can provide accurate and helpful advice on a wide range of system administration topics.</td>\n",
       "    </tr>\n",
       "    <tr>\n",
       "      <th>6</th>\n",
       "      <td>7</td>\n",
       "      <td>Structural Engineer</td>\n",
       "      <td>Use this persona when you need advice or information about structural engineering. This persona can provide accurate and helpful advice on a wide range of structural engineering topics.</td>\n",
       "    </tr>\n",
       "    <tr>\n",
       "      <th>7</th>\n",
       "      <td>8</td>\n",
       "      <td>Electrical Engineer</td>\n",
       "      <td>Use this persona when you need advice or information about electrical engineering. This persona can provide accurate and helpful advice on a wide range of electrical engineering topics.</td>\n",
       "    </tr>\n",
       "    <tr>\n",
       "      <th>8</th>\n",
       "      <td>9</td>\n",
       "      <td>Accountant</td>\n",
       "      <td>Use this persona when you need advice or information about financial matters. This persona can provide accurate and helpful advice on a wide range of accounting and financial topics.</td>\n",
       "    </tr>\n",
       "    <tr>\n",
       "      <th>9</th>\n",
       "      <td>10</td>\n",
       "      <td>DevSecOps Engineer</td>\n",
       "      <td>Use this persona when you need advice or information about DevSecOps and software operations. This persona can provide accurate and helpful advice on a wide range of DevSecOps topics.</td>\n",
       "    </tr>\n",
       "    <tr>\n",
       "      <th>10</th>\n",
       "      <td>11</td>\n",
       "      <td>Space Ops. Eng.</td>\n",
       "      <td>Use this persona when you need advice or information about space operations. This persona can provide accurate and helpful advice on a wide range of space operations topics.</td>\n",
       "    </tr>\n",
       "    <tr>\n",
       "      <th>11</th>\n",
       "      <td>12</td>\n",
       "      <td>Ground Ops. Eng.</td>\n",
       "      <td>Use this persona when you need advice or information about ground operations. This persona can provide accurate and helpful advice on a wide range of ground operations topics.</td>\n",
       "    </tr>\n",
       "    <tr>\n",
       "      <th>12</th>\n",
       "      <td>13</td>\n",
       "      <td>Marketing</td>\n",
       "      <td>Use this persona when you need advice or information about marketing and communication. This persona can provide accurate and helpful advice on a wide range of marketing and communication topics.</td>\n",
       "    </tr>\n",
       "    <tr>\n",
       "      <th>13</th>\n",
       "      <td>14</td>\n",
       "      <td>Scientist</td>\n",
       "      <td>Use this persona when you need advice or information about scientific research. This persona can provide accurate and helpful advice on a wide range of scientific topics.</td>\n",
       "    </tr>\n",
       "    <tr>\n",
       "      <th>14</th>\n",
       "      <td>15</td>\n",
       "      <td>Program Manager</td>\n",
       "      <td>Use this persona when you need advice or information about project management. This persona can provide accurate and helpful advice on a wide range of project management topics.</td>\n",
       "    </tr>\n",
       "  </tbody>\n",
       "</table>\n",
       "</div>"
      ],
      "text/plain": [
       "    id                  name  \\\n",
       "0    1              Ask Sage   \n",
       "1    2       Legal Assistant   \n",
       "2    3   Contracting Officer   \n",
       "3    4    Software Developer   \n",
       "4    5          ISSO (Cyber)   \n",
       "5    6  System Administrator   \n",
       "6    7   Structural Engineer   \n",
       "7    8   Electrical Engineer   \n",
       "8    9            Accountant   \n",
       "9   10    DevSecOps Engineer   \n",
       "10  11       Space Ops. Eng.   \n",
       "11  12      Ground Ops. Eng.   \n",
       "12  13             Marketing   \n",
       "13  14             Scientist   \n",
       "14  15       Program Manager   \n",
       "\n",
       "                                                                                                                                                                                                                                           description  \n",
       "0                                                                                                    Use this persona when you need a general-purpose AI that can handle a wide range of tasks, from translating languages to writing essays and code.  \n",
       "1                                                                                                    Use this persona when you need legal advice or information. This persona can provide accurate and helpful advice on a wide range of legal topics.  \n",
       "2   Use this persona when you have questions or need advice about government contracts, Federal Acquisition Regulation (FAR) regulations, the Defense Federal Acquisition Regulation Supplement (DFARS) regulations and acquisition related questions.  \n",
       "3                                                                                  Use this persona when you need to write, review, or debug code. This persona can also provide advice on software development best practices and security standards.  \n",
       "4                                                      Use this persona when you need advice or information about cybersecurity requirements and issues. This persona can provide accurate and helpful advice on a wide range of cybersecurity topics.  \n",
       "5                                               Use this persona when you need advice or information about system designs, security, and issues. This persona can provide accurate and helpful advice on a wide range of system administration topics.  \n",
       "6                                                            Use this persona when you need advice or information about structural engineering. This persona can provide accurate and helpful advice on a wide range of structural engineering topics.  \n",
       "7                                                            Use this persona when you need advice or information about electrical engineering. This persona can provide accurate and helpful advice on a wide range of electrical engineering topics.  \n",
       "8                                                               Use this persona when you need advice or information about financial matters. This persona can provide accurate and helpful advice on a wide range of accounting and financial topics.  \n",
       "9                                                              Use this persona when you need advice or information about DevSecOps and software operations. This persona can provide accurate and helpful advice on a wide range of DevSecOps topics.  \n",
       "10                                                                       Use this persona when you need advice or information about space operations. This persona can provide accurate and helpful advice on a wide range of space operations topics.  \n",
       "11                                                                     Use this persona when you need advice or information about ground operations. This persona can provide accurate and helpful advice on a wide range of ground operations topics.  \n",
       "12                                                 Use this persona when you need advice or information about marketing and communication. This persona can provide accurate and helpful advice on a wide range of marketing and communication topics.  \n",
       "13                                                                          Use this persona when you need advice or information about scientific research. This persona can provide accurate and helpful advice on a wide range of scientific topics.  \n",
       "14                                                                   Use this persona when you need advice or information about project management. This persona can provide accurate and helpful advice on a wide range of project management topics.  "
      ]
     },
     "metadata": {},
     "output_type": "display_data"
    }
   ],
   "source": [
    "get_personas = ask_sage_client.get_personas() # Get the personas using the get_personas endpoint\n",
    "# output of get_personas is as follows for each persona\n",
    "\"\"\" out put is as follows\n",
    "\n",
    "{'response': [{'datasets': '',\n",
    "   'date_creation': 'Tue, 16 Jan 2024 18:35:32 GMT',\n",
    "   'date_modification': 'Tue, 16 Jan 2024 18:35:32 GMT',\n",
    "   'description': 'Use this persona when you need a general-purpose AI that can handle a wide range of tasks, from translating languages to writing essays and code.',\n",
    "   'id': 1,\n",
    "   'image': None,\n",
    "   'label': 1,\n",
    "   'name': 'Ask Sage',\n",
    "   'prompt': 'Your purpose is help organizations drive outcomes by ingesting knowledge and data, providing analysis and insights with factual answers. \\nYou are able to translate languages, write essays, articles, bids, code and more.',\n",
    "   'public': True,\n",
    "   'user_id': -1}\n",
    "\"\"\"\n",
    "\n",
    "# extract relevant information from the response 'id', 'name' and 'description'\n",
    "def extract_personas(response):\n",
    "    return [{'id': persona['id'], 'name': persona['name'], 'description': persona['description']} for persona in response['response']]\n",
    "\n",
    "personas = extract_personas(get_personas) # Extract the personas using the extract_personas function\n",
    "\n",
    "# Putting all information into a dataframe\n",
    "personas_df = pd.DataFrame(personas)\n",
    "\n",
    "# set column width to display full content\n",
    "pd.set_option('display.max_colwidth', None)\n",
    "\n",
    "# display the dataframe\n",
    "display(personas_df.head(15)) # modify .head() to display all or a specific number of rows\n"
   ]
  },
  {
   "cell_type": "markdown",
   "metadata": {},
   "source": [
    "## 7. Tokenizer\n",
    "\n",
    "This endpoint is used to interact with the /tokenizer endpoint of the Ask Sage API. It is used to tokenize the text provided to the model. The tokenizer is used to split the text into tokens that the model can understand and process. The tokenizer is used to preprocess the text before it is passed to the model for processing. Thus in return the output will be the number of tokens from the text provided.\n",
    "\n",
    "<div class=\"alert alert-block alert-warning\">\n",
    "<b>Note:</b> The `tokenizer` endpoint is useful in estimating the number of tokens that will be used for a given text. This can be helpful in managing the number of tokens used for training and querying the model.\n",
    "</div>\n"
   ]
  },
  {
   "cell_type": "code",
   "execution_count": 9,
   "metadata": {},
   "outputs": [
    {
     "data": {
      "text/plain": [
       "{'response': '84', 'status': 200}"
      ]
     },
     "metadata": {},
     "output_type": "display_data"
    },
    {
     "data": {
      "text/plain": [
       "'The number of tokens in the text is: 84 Tokens'"
      ]
     },
     "metadata": {},
     "output_type": "display_data"
    }
   ],
   "source": [
    "text = \"This endpoint is used to interact with the /tokenizer endpoint of the Ask Sage API. It is used to tokenize the text provided to the model. The tokenizer is used to split the text into tokens that the model can understand and process. The tokenizer is used to preprocess the text before it is passed to the model for processing. Thus in return the output will be the tokens of the text provided.\" \n",
    "\n",
    "tokenize_data = ask_sage_client.tokenizer(text) # Tokenize the text using the tokenizer method\n",
    "\n",
    "display(tokenize_data)\n",
    "\n",
    "# display the field 'response'\n",
    "display('The number of tokens in the text is: ' +\n",
    "        tokenize_data['response'] + ' Tokens') # Display the response from the API, and check if the dataset was added successfully on the AskSage website"
   ]
  },
  {
   "cell_type": "markdown",
   "metadata": {},
   "source": [
    "## 8. File\n",
    "\n",
    "This is a function named file in the Ask Sage service. It is used to upload a file to the service. The function takes two parameters: file_path and strategy.\n",
    "\n",
    "file_path is a string that represents the path to the file you want to upload.\n",
    "\n",
    "strategy is also a string, and it determines the type of parser that will be used. By default, it is set to 'auto'. If you want faster parsing but less accuracy, you can set it to 'fast'. If you need OCR recognition, you can set it to 'hi_res', but keep in mind that this will be slower.\n",
    "\n",
    "The function opens the file in binary mode and prepares it for upload. It then makes a POST request to the 'file' endpoint of the service, passing the file and the strategy as data.\n",
    "\n",
    "The function returns a dictionary which is the response from the service, containing the text/plain of the uploaded file.\n",
    "\n",
    "<div class=\"alert alert-block alert-warning\">\n",
    "<b>Note:</b> The `file` endpoint is useful in being able to parse a file and then use `Train` endpoint to pass through the content and assign it to a dataset within Ask Sage. \n",
    "\n",
    "Also, understanding how this endpoint works is important in understanding how data is ingested into the Ask Sage service.\n",
    "</div>\n",
    "\n"
   ]
  },
  {
   "cell_type": "code",
   "execution_count": 10,
   "metadata": {},
   "outputs": [
    {
     "data": {
      "text/plain": [
       "['LORA- LOW-RANK ADAPTATION OF LARGE LANGUAGE MODELS.pdf',\n",
       " 'In the small village of Willowbrook.pdf']"
      ]
     },
     "metadata": {},
     "output_type": "display_data"
    },
    {
     "data": {
      "text/plain": [
       "{'response': 'OK',\n",
       " 'ret': '\\n{\"asksage_metadata\": {\"filename\": \"In the small village of Willowbrook.pdf\", \"page_number\": 1}}\\nIn the small village of Willowbrook, there lived a scruffy little dog named Toby who had an unusual dislike for cats. Toby, with his ruffled fur and eager eyes, was known around the village for his playful spirit, but he would always steer clear of any feline. One day, a new cat moved into the neighborhood. The cat, sleek and confident, quickly noticed Toby\\'s aversion. Curious and a bit mischievous, the cat decided to find out why Toby was so hesitant around its kind. This set the stage for a series of amusing encounters, as the cat tried to win over the reluctant Toby, leading to unexpected friendship and adventures that would change Toby\\'s mind about cats forever.\\n',\n",
       " 'sent_filename': 'InthesmallvillageofWillowbrook.pdf',\n",
       " 'status': 200}"
      ]
     },
     "metadata": {},
     "output_type": "display_data"
    },
    {
     "name": "stdout",
     "output_type": "stream",
     "text": [
      "The number of chunks is: 1\n"
     ]
    }
   ],
   "source": [
    "# data path\n",
    "path = 'data/query_with_file/'\n",
    "\n",
    "# get files in the data path\n",
    "files = os.listdir(path)\n",
    "display(files)\n",
    "file_endpoint = ask_sage_client.file(file_path = path + files[1], strategy='auto') # change the index between 0 and 1 to test the other file and see how it parses the data into chunks for large files. \n",
    "# display the field 'response'\n",
    "display(file_endpoint)\n",
    "\n",
    "# extract the 'ret' field from the response\n",
    "ret = file_endpoint['ret']\n",
    "# count # of chunks by the number of 'asksage_metadata' appears in ret\n",
    "count = ret.count('asksage_metadata')\n",
    "print(f'The number of chunks is: {count}')"
   ]
  },
  {
   "cell_type": "markdown",
   "metadata": {},
   "source": [
    "## 9. Get Datasets\n",
    "\n",
    "Get the available created datasets datasets from the Ask Sage service - These datasets are used to interact with the LLMs models. More information will be provided on how to interact with the datasets in the following endpoints & examples in the repository.\n",
    "\n",
    "Note: The following datasets are available by default to all users:\n",
    "\n",
    "\n",
    "<center>\n",
    "\n",
    "| Index | Dataset Name              |\n",
    "|-------|---------------------------|\n",
    "| 0     | Acquisition.gov           |\n",
    "| 1     | Air Force                 |\n",
    "| 2     | DoD                       |\n",
    "| 3     | Department of Defense     |\n",
    "| 4     | Learn with Nic            |\n",
    "| 5     | In the Nic of Time        |\n",
    "| 6     | Platform One              |\n",
    "| 7     | Nic Chaillan's Website    |\n",
    "| 8     | Cloud One                 |\n",
    "| 9     | NIST_NVD_CVE              |\n",
    "| 10    | Sage                      |\n",
    "| 11    | user_custom_2780_content  |\n",
    "</center>\n",
    "\n",
    "<div class=\"alert alert-block alert-warning\">\n",
    "<b>Note:</b> The `user_custom_2780_content` dataset is a unique dataset to each user - based on the user ID. Not typically used and can not be deleted. Nor can the other default datasets be deleted.\n",
    "</div>\n"
   ]
  },
  {
   "cell_type": "code",
   "execution_count": 11,
   "metadata": {},
   "outputs": [
    {
     "data": {
      "text/html": [
       "<div>\n",
       "<style scoped>\n",
       "    .dataframe tbody tr th:only-of-type {\n",
       "        vertical-align: middle;\n",
       "    }\n",
       "\n",
       "    .dataframe tbody tr th {\n",
       "        vertical-align: top;\n",
       "    }\n",
       "\n",
       "    .dataframe thead th {\n",
       "        text-align: right;\n",
       "    }\n",
       "</style>\n",
       "<table border=\"1\" class=\"dataframe\">\n",
       "  <thead>\n",
       "    <tr style=\"text-align: right;\">\n",
       "      <th></th>\n",
       "      <th>0</th>\n",
       "    </tr>\n",
       "  </thead>\n",
       "  <tbody>\n",
       "    <tr>\n",
       "      <th>0</th>\n",
       "      <td>Acquisition.gov</td>\n",
       "    </tr>\n",
       "    <tr>\n",
       "      <th>1</th>\n",
       "      <td>Air Force</td>\n",
       "    </tr>\n",
       "    <tr>\n",
       "      <th>2</th>\n",
       "      <td>DoD</td>\n",
       "    </tr>\n",
       "    <tr>\n",
       "      <th>3</th>\n",
       "      <td>Department of Defense</td>\n",
       "    </tr>\n",
       "    <tr>\n",
       "      <th>4</th>\n",
       "      <td>Learn with Nic</td>\n",
       "    </tr>\n",
       "    <tr>\n",
       "      <th>5</th>\n",
       "      <td>In the Nic of Time</td>\n",
       "    </tr>\n",
       "    <tr>\n",
       "      <th>6</th>\n",
       "      <td>Platform One</td>\n",
       "    </tr>\n",
       "    <tr>\n",
       "      <th>7</th>\n",
       "      <td>Nic Chaillan's Website</td>\n",
       "    </tr>\n",
       "    <tr>\n",
       "      <th>8</th>\n",
       "      <td>Cloud One</td>\n",
       "    </tr>\n",
       "    <tr>\n",
       "      <th>9</th>\n",
       "      <td>NIST_NVD_CVE</td>\n",
       "    </tr>\n",
       "    <tr>\n",
       "      <th>10</th>\n",
       "      <td>Sage</td>\n",
       "    </tr>\n",
       "    <tr>\n",
       "      <th>11</th>\n",
       "      <td>user_custom_2780_content</td>\n",
       "    </tr>\n",
       "  </tbody>\n",
       "</table>\n",
       "</div>"
      ],
      "text/plain": [
       "                           0\n",
       "0            Acquisition.gov\n",
       "1                  Air Force\n",
       "2                        DoD\n",
       "3      Department of Defense\n",
       "4             Learn with Nic\n",
       "5         In the Nic of Time\n",
       "6               Platform One\n",
       "7     Nic Chaillan's Website\n",
       "8                  Cloud One\n",
       "9               NIST_NVD_CVE\n",
       "10                      Sage\n",
       "11  user_custom_2780_content"
      ]
     },
     "metadata": {},
     "output_type": "display_data"
    }
   ],
   "source": [
    "# extract relevant information from the response\n",
    "def extract_datasets(response):\n",
    "    return response['response']\n",
    "\n",
    "get_datasets = ask_sage_client.get_datasets() # Get the datasets using the get_datasets endpoint\n",
    "\n",
    "\n",
    "def display_datasets(ask_sage_client):\n",
    "    \"\"\"   \n",
    "    Function to display the datasets in a dataframe\n",
    "\n",
    "    Parameters:\n",
    "    ask_sage_client: AskSageClient - The AskSageClient instance\n",
    "\n",
    "    Returns:\n",
    "    None - Displays the datasets in a dataframe\n",
    "    \n",
    "    \"\"\"\n",
    "    get_datasets = ask_sage_client.get_datasets() # Get the datasets using the get_datasets endpoint\n",
    "    datasets = extract_datasets(get_datasets) # Extract the datasets using the extract_datasets function\n",
    "    datasets_df = pd.DataFrame(datasets)\n",
    "    display(datasets_df) # Display the updated datasets dataframe\n",
    "\n",
    "# call the function to display the datasets\n",
    "display_datasets(ask_sage_client)\n"
   ]
  },
  {
   "cell_type": "markdown",
   "metadata": {},
   "source": [
    "## 10. Add Dataset"
   ]
  },
  {
   "cell_type": "markdown",
   "metadata": {},
   "source": [
    "This endpoint is used to create a new dataset that will be available for the user to use in the prompt generation. Additionally, once the dataset is created it will also be available on the AskSage platform for the user to use. \n",
    "\n",
    "Notice how the dataset table now has 12 datasets, with the newly created dataset at index 12."
   ]
  },
  {
   "cell_type": "code",
   "execution_count": 12,
   "metadata": {},
   "outputs": [
    {
     "name": "stdout",
     "output_type": "stream",
     "text": [
      "{'response': 'OK', 'status': 200}\n"
     ]
    },
    {
     "data": {
      "text/html": [
       "<div>\n",
       "<style scoped>\n",
       "    .dataframe tbody tr th:only-of-type {\n",
       "        vertical-align: middle;\n",
       "    }\n",
       "\n",
       "    .dataframe tbody tr th {\n",
       "        vertical-align: top;\n",
       "    }\n",
       "\n",
       "    .dataframe thead th {\n",
       "        text-align: right;\n",
       "    }\n",
       "</style>\n",
       "<table border=\"1\" class=\"dataframe\">\n",
       "  <thead>\n",
       "    <tr style=\"text-align: right;\">\n",
       "      <th></th>\n",
       "      <th>0</th>\n",
       "    </tr>\n",
       "  </thead>\n",
       "  <tbody>\n",
       "    <tr>\n",
       "      <th>0</th>\n",
       "      <td>Acquisition.gov</td>\n",
       "    </tr>\n",
       "    <tr>\n",
       "      <th>1</th>\n",
       "      <td>Air Force</td>\n",
       "    </tr>\n",
       "    <tr>\n",
       "      <th>2</th>\n",
       "      <td>DoD</td>\n",
       "    </tr>\n",
       "    <tr>\n",
       "      <th>3</th>\n",
       "      <td>Department of Defense</td>\n",
       "    </tr>\n",
       "    <tr>\n",
       "      <th>4</th>\n",
       "      <td>Learn with Nic</td>\n",
       "    </tr>\n",
       "    <tr>\n",
       "      <th>5</th>\n",
       "      <td>In the Nic of Time</td>\n",
       "    </tr>\n",
       "    <tr>\n",
       "      <th>6</th>\n",
       "      <td>Platform One</td>\n",
       "    </tr>\n",
       "    <tr>\n",
       "      <th>7</th>\n",
       "      <td>Nic Chaillan's Website</td>\n",
       "    </tr>\n",
       "    <tr>\n",
       "      <th>8</th>\n",
       "      <td>Cloud One</td>\n",
       "    </tr>\n",
       "    <tr>\n",
       "      <th>9</th>\n",
       "      <td>NIST_NVD_CVE</td>\n",
       "    </tr>\n",
       "    <tr>\n",
       "      <th>10</th>\n",
       "      <td>Sage</td>\n",
       "    </tr>\n",
       "    <tr>\n",
       "      <th>11</th>\n",
       "      <td>user_custom_2780_content</td>\n",
       "    </tr>\n",
       "    <tr>\n",
       "      <th>12</th>\n",
       "      <td>user_custom_2780_test-test-test-01_content</td>\n",
       "    </tr>\n",
       "  </tbody>\n",
       "</table>\n",
       "</div>"
      ],
      "text/plain": [
       "                                             0\n",
       "0                              Acquisition.gov\n",
       "1                                    Air Force\n",
       "2                                          DoD\n",
       "3                        Department of Defense\n",
       "4                               Learn with Nic\n",
       "5                           In the Nic of Time\n",
       "6                                 Platform One\n",
       "7                       Nic Chaillan's Website\n",
       "8                                    Cloud One\n",
       "9                                 NIST_NVD_CVE\n",
       "10                                        Sage\n",
       "11                    user_custom_2780_content\n",
       "12  user_custom_2780_test-test-test-01_content"
      ]
     },
     "metadata": {},
     "output_type": "display_data"
    }
   ],
   "source": [
    "# Defining a dataset to be added to the user's datasets\n",
    "add_dataset_data = ask_sage_client.add_dataset('test-test-test-01') # Replace 'test-test-test' with the name of the dataset you want to add\n",
    "print(add_dataset_data) # Display the response from the API, and check if the dataset was added successfully \n",
    "display_datasets(ask_sage_client) # Display the datasets after adding a new dataset\n"
   ]
  },
  {
   "cell_type": "markdown",
   "metadata": {},
   "source": [
    "## 11. Train\n",
    "\n",
    "The train endpoint is used to train the model based on the provided content. The content is the message to be processed by the service. Ensure it is under 500 tokens. The force_dataset is the dataset to be used. Enter your custom dataset, must follow the following format: user_content_USERID_DATASET-NAME_content. Replace USERID by user ID and DATASET-NAME by the name of your dataset. The context is a short context about the content (metadata). Under 20 tokens. The skip_vectordb is whether to skip the VectorDB training. Default is False."
   ]
  },
  {
   "cell_type": "code",
   "execution_count": 13,
   "metadata": {},
   "outputs": [
    {
     "data": {
      "text/plain": [
       "'The number of tokens in the text is: 179 Tokens'"
      ]
     },
     "metadata": {},
     "output_type": "display_data"
    }
   ],
   "source": [
    "content = 'Arduino is an open-source electronics platform based on easy-to-use hardware and software. It consists of a physical programmable circuit board (often referred to as a microcontroller) and a piece of software, or IDE (Integrated Development Environment), that runs on your computer. You use the IDE to write and upload computer code to the physical board. The platform is designed to enable users of all ages to create interactive electronic objects and projects that can sense and control physical devices. Arduino boards can read inputs - light on a sensor, a finger on a button, or a Twitter message - and turn it into an output - activating a motor, turning on an LED, publishing something online. You can tell your board what to do by sending a set of instructions to the microcontroller on the board. Arduino is widely used in robotics, home automation, scientific experimentation, and artistic projects.'\n",
    "\n",
    "tokenize_data = ask_sage_client.tokenizer(content) # Tokenize the text using the tokenizer method\n",
    "\n",
    "# display the field 'response'\n",
    "display('The number of tokens in the text is: ' +\n",
    "        tokenize_data['response'] + ' Tokens') # Display the response from the API, and check if the dataset was added successfully on the AskSage website\n"
   ]
  },
  {
   "cell_type": "code",
   "execution_count": 14,
   "metadata": {},
   "outputs": [
    {
     "data": {
      "text/plain": [
       "'Sorry, this dataset (test-test-test) does not exist, please create it with /add-dataset first.'"
      ]
     },
     "metadata": {},
     "output_type": "display_data"
    }
   ],
   "source": [
    "# train the content into the database\n",
    "train_data = ask_sage_client.train(content, force_dataset='test-test-test', context='testing') # Replace 'test-test-test' with the name of the dataset you want to add\n",
    "# display the field 'response'\n",
    "display(train_data['response']) # Display the response from the API, and check if the dataset was added successfully on the AskSage website"
   ]
  },
  {
   "cell_type": "markdown",
   "metadata": {},
   "source": [
    "<div class=\"alert alert-block alert-danger\">\n",
    "<b>AskSage - Requested Updated:</b> When selecting a dataset, the instruction mention to use the following format: user_content_USERID_DATASET-NAME_content. However, the dataset is not being recognized when using the format provided. Just used the dataset name and it worked. Also, successful uploading the data but it's not appearing on the webiste. \n",
    "</div>"
   ]
  },
  {
   "cell_type": "markdown",
   "metadata": {},
   "source": [
    "## 12. Train With File\n",
    "\n",
    "This endpoint is used to train the dataset based on the provided file. The files that can be loaded are listed below: \n",
    "\n",
    "- Format supported: zip, pdf, xlsx, pptx, docx, ppt, csv, cc, sql, cs, hh, c, php, js, py, html, xml, msg, odt, epub, eml, rtf, txt, doc, json, md, jpeg, jpg, png, tsv (50MB)\n",
    "\n",
    "- Audio Format supported: mp3, mp4, mpeg, mpga, m4a, wav, webm (500MB max)\n",
    "\n",
    "The files uploaded will be vectorized and only the embeddings will be stored. The files will not be stored on the server."
   ]
  },
  {
   "cell_type": "code",
   "execution_count": 15,
   "metadata": {},
   "outputs": [
    {
     "data": {
      "text/plain": [
       "'Successfully imported for file training_image_example.jpg'"
      ]
     },
     "metadata": {},
     "output_type": "display_data"
    },
    {
     "data": {
      "text/plain": [
       "'Successfully imported for file random_story_genAI_pdf.pdf'"
      ]
     },
     "metadata": {},
     "output_type": "display_data"
    },
    {
     "data": {
      "text/plain": [
       "'Successfully imported for file random_story_genAI_word_doc.docx'"
      ]
     },
     "metadata": {},
     "output_type": "display_data"
    },
    {
     "data": {
      "text/plain": [
       "'Successfully imported for file Ask_Sage_Intro.mp3'"
      ]
     },
     "metadata": {},
     "output_type": "display_data"
    }
   ],
   "source": [
    "'''  \n",
    "How the add_dataset method works:\n",
    "\n",
    " def train_with_file(self, file_path, dataset):\n",
    "        \"\"\"\n",
    "    Train the dataset based on the provided file.\n",
    "\n",
    "    Parameters:\n",
    "    file_path (str): The file to upload to the service.\n",
    "    dataset (str): The dataset to be used. Enter your custom dataset, must follow the following format: user_content_USERID_DATASET-NAME_content. Replace USERID by user ID and DATASET-NAME by the name of your dataset.\n",
    "    \n",
    "    Returns:\n",
    "    dict: The response from the service.\n",
    "        \"\"\"\n",
    "        with open(file_path, 'rb') as f:\n",
    "            files = {'file': f}\n",
    "            return self._request('POST', 'train-with-file', files=files, data={'dataset': dataset})\n",
    "'''\n",
    "\n",
    "# data path\n",
    "file_path = 'data/' \n",
    "\n",
    "# get files in the data path\n",
    "files = os.listdir(file_path)\n",
    "\n",
    "# ignore 'data/query_with_file' and hidden files\n",
    "files = [file for file in files if not file.startswith('.') and file != 'query_with_file']\n",
    "\n",
    "\n",
    "# train the dataset with the files in the data path                           \n",
    "\n",
    "for file in files:\n",
    "    train_with_file_data = ask_sage_client.train_with_file(file_path + file, 'user_custom_2780_test-test-test-01_content') # Replace the dataset with the name of the dataset you are adding files to\n",
    "    # display the field 'response'\n",
    "    display(train_with_file_data['response'] + ' for file ' + file) # Display the response from the API, and check if the dataset was added successfully on the AskSage website\n"
   ]
  },
  {
   "cell_type": "markdown",
   "metadata": {},
   "source": [
    "Data upload successfully, will be stored however there is a lag on availability, which varies based pom file size.\n",
    "\n",
    "<div class=\"alert alert-block alert-danger\">\n",
    "<b>AskSage - Requested Updated:</b> Uploaded data however noticed that only word documents and pdfs are actually being uploaded and seen on the platform following the upload.\n",
    "</div>"
   ]
  },
  {
   "cell_type": "markdown",
   "metadata": {},
   "source": [
    "## 13. Assign Dataset\n",
    "\n",
    "This endpoint is used to assign a dataset to a specific user - This will allow another user to use the dataset but only sharing between users is permitted if they are from the same organization.\n",
    "\n",
    "<div class=\"alert alert-block alert-warning\">\n",
    "<b>Note:</b> The `assign_dataset` endpoint is useful in being able to share datasets between users within the same organization. \n",
    "</div>\n"
   ]
  },
  {
   "cell_type": "code",
   "execution_count": 16,
   "metadata": {},
   "outputs": [
    {
     "name": "stdout",
     "output_type": "stream",
     "text": [
      "Uncomment the above to test the assign_dataset method\n"
     ]
    }
   ],
   "source": [
    "''' \n",
    "How the assign_dataset method works:\n",
    "\n",
    "def assign_dataset(self, dataset, email):\n",
    "    \"\"\"\n",
    "    Assign a dataset\n",
    "\n",
    "    Parameters:\n",
    "    dataset (str): The dataset to be used. Must follow the following format: user_content_USERID_DATASET-NAME_content. Replace USERID by user ID and DATASET-NAME by the name of your dataset.\n",
    "    email (str): Email of the user to assign the dataset to. Must be in the same organization. Reach out to support if need be.\n",
    "\n",
    "    Returns:\n",
    "    dict: The response from the service.\n",
    "    \"\"\"\n",
    "    return self._request('POST', 'assign-dataset', json={'dataset': dataset, 'email': email}, base_url=self.user_base_url)\n",
    "'''\n",
    "\n",
    "# Assign the dataset to the user\n",
    "# assign_dataset_data = ask_sage_client.assign_dataset('user_content_2780_test-test-test_content', 'email@email.com') # Replace the dataset and the email with who you want to assign the dataset to \n",
    "\n",
    "print('Uncomment the above to test the assign_dataset method') # Uncomment the above line to test the assign_dataset method"
   ]
  },
  {
   "cell_type": "markdown",
   "metadata": {},
   "source": [
    "## 14. Query\n",
    "\n",
    "This endpoint is used to interact with the /query endpoint of the Ask Sage API. It is where users can interact with the various models available on the Ask Sage platform.\n",
    "\n",
    "We will provide examples of how to use these endpoints and various parameters that can be used to interact with the models. Do note that this will only be high-level examples.\n",
    "\n",
    "\n",
    "```python\n",
    "'''\n",
    "How the query method works:\n",
    "\n",
    "def query(self, message, persona='default', dataset='all', limit_references=None, temperature=0.0, live=0, model='openai_gpt', system_prompt=None, file=None, tools=None, tool_choice=None):\n",
    "        \"\"\"\n",
    "    Interact with the /query endpoint of the Ask Sage API.\n",
    "\n",
    "    Parameters:\n",
    "    message (str): The message to be processed by the service. Message can be a single message or an array of messages following this JSON format: [{ user: \"me\", message: \"Who is Nic Chaillan?\"}, { user: \"gpt\", message: \"Nic Chaillan is...\"}]\n",
    "    persona (str, optional): The persona to be used. Default is 'default'. Get the list of available personas using get_personas.\n",
    "    dataset (str, optional): The dataset to be used. Default is 'all'. Other options include 'none' or your custom dataset, must follow the following format: user_content_USERID_DATASET-NAME_content. Replace USERID by user ID and DATASET-NAME by the name of your dataset.\n",
    "    limit_references (int, optional): The maximum number of references (embeddings) to be used. Default is None, meaning all references will be used. Use 1 to limit to 1 reference or 0 to remove embeddings. You can also set dataset to \"none\"\n",
    "    temperature (float, optional): The temperature to be used for the generation. Default is 0.0. Higher values (up to 1.0) make the output more random.\n",
    "    live (int, optional): Whether to use live mode. Default is 0. Live = 1 will pull 10 results from Bing and 2 will also pull the top 2 web pages summaries using our Web crawler.\n",
    "    model (str, optional): The model to be used. Default is 'openai_gpt'. Other options include cohere, google-bison, gpt4, gpt4-32k, gpt35-16k, claude2, openai_gpt (gpt3.5), davinci, llma2.\n",
    "    system_prompt (str, optional): Overrides the system prompt from Ask Sage (only use if you know what you are doing).\n",
    "    tools and tool_choice (optional): These use OpenAI format for tools.\n",
    "\n",
    "    Returns:\n",
    "    dict: The response from the service.\n",
    "    \"\"\"\n",
    "        file_obj = None\n",
    "        files = None\n",
    "        if file != None:\n",
    "            file_obj = open(file, 'rb')\n",
    "            files = {'file': file_obj}\n",
    "\n",
    "        if type(message) == list:\n",
    "            message = json.dumps(message)\n",
    "        elif type(message) == str:\n",
    "            message = message\n",
    "        else:\n",
    "            message = json.dumps(message)\n",
    "\n",
    "        if tools != None:\n",
    "            tools = json.dumps(tools)\n",
    "        if tool_choice != None:\n",
    "            tool_choice = json.dumps(tool_choice)\n",
    "\n",
    "        data = {\n",
    "            'message': message,\n",
    "            'persona': persona,\n",
    "            'dataset': dataset,\n",
    "            'limit_references': limit_references,\n",
    "            'temperature': temperature,\n",
    "            'live': live,\n",
    "            'model': model,\n",
    "            'system_prompt': system_prompt,\n",
    "            'tools': tools,\n",
    "            'tool_choice': tool_choice\n",
    "        }\n",
    "\n",
    "        ret = self._request('POST', 'query', files = files, data=data)        \n",
    "        if file_obj != None:\n",
    "            file_obj.close()\n",
    "        return ret\n",
    "\n",
    "'''\n",
    "\n",
    "```\n"
   ]
  },
  {
   "cell_type": "markdown",
   "metadata": {},
   "source": [
    "#### 'message'\n",
    "\n",
    "- 'message': The message is your prompt that you want to generate a response for by the model. In other words, the message/question you want to ask the model. But remember, the model will only generate a response based on the data it has been trained on and given this understanding, it is important to ask questions that are relevant to the data the model has been trained on. \n",
    "  \n",
    "If you are using a off-the-shelf model or Out of the Box model, then the model has been trained on a wide range of data and can generate responses to a wide range of questions. However, do not expect the model to generate responses to questions that are not relevant to the data it has been trained on or be an expert in any or all fields. We will discuss more examples on how to direct the model to generate responses to specific questions later. Last but not least, also be aware that each model has its own limitations and capabilities and designed for specific use cases, thus making some more suitable for certain tasks like code generation, text generation, etc."
   ]
  },
  {
   "cell_type": "code",
   "execution_count": 17,
   "metadata": {},
   "outputs": [],
   "source": [
    "def ask_sage_question(message, persona='default', dataset=None, limit_references=None, temperature=0.0, live=0, model='gpt-4o-mini', system_prompt=None):\n",
    "    \"\"\"\n",
    "    Function to query the AskSage API with a question and return the response message using one of the personas available\n",
    "\n",
    "    Parameters:\n",
    "    message (str): The question to be queried\n",
    "    persona (str): The persona to be used. Default is 'default'. Get the list of available personas using get_personas.\n",
    "    dataset (str): The dataset to be used. Default is 'all'. Other options include 'none' or your custom dataset, must follow the following format: user_content_USERID_DATASET-NAME_content. Replace USERID by user ID and DATASET-NAME by the name of your dataset.\n",
    "    limit_references (int): The maximum number of references (embeddings) to be used. Default is None, meaning all references will be used. Use 1 to limit to 1 reference or 0 to remove embeddings. You can also set dataset to \"none\"\n",
    "    temperature (float): The temperature to be used for the generation. Default is 0.0. Higher values (up to 1.0) make the output more random.\n",
    "    live (int): Whether to use live mode. Default is 0. Live = 1 will pull 10 results from Bing and 2 will also pull the top 2 web pages summaries using our Web crawler.\n",
    "    model (str): The model to be used. Default is 'openai_gpt'. Other options include cohere, google-bison, gpt4, gpt4-32k, gpt35-16k, claude2, openai_gpt (gpt3.5), davinci, llma2.\n",
    "    system_prompt (str): Overrides the system prompt from Ask Sage (only use if you know what you are doing).\n",
    "    tools and tool_choice (optional): These use OpenAI format for tools.\n",
    "\n",
    "\n",
    "    Returns:\n",
    "    str: The response message from the AskSage API\n",
    "    \"\"\"\n",
    "    response = ask_sage_client.query(message, persona, dataset, limit_references, temperature, live, model, system_prompt) # Query the AskSage API with the question\n",
    "    message = response['message'] # Extract the message from the response\n",
    "    return message # Return the message\n"
   ]
  },
  {
   "cell_type": "code",
   "execution_count": 18,
   "metadata": {},
   "outputs": [
    {
     "name": "stdout",
     "output_type": "stream",
     "text": [
      "Question: How many planets are in the solar system and can you provide the names of the planets in order from the sun? Also, provide the distance of each planet from the sun in kilometers.\n",
      "Response: There are eight planets in the solar system. Here are their names in order from the Sun, along with their average distances from the Sun in kilometers:\n",
      "\n",
      "| Planet       | Average Distance from the Sun (km) |\n",
      "|--------------|------------------------------------|\n",
      "| Mercury      | 57,910,000                         |\n",
      "| Venus        | 108,200,000                        |\n",
      "| Earth        | 149,600,000                        |\n",
      "| Mars         | 227,900,000                        |\n",
      "| Jupiter      | 778,500,000                        |\n",
      "| Saturn       | 1,429,000,000                      |\n",
      "| Uranus       | 2,871,000,000                      |\n",
      "| Neptune      | 4,495,000,000                      |\n",
      "\n",
      "These distances can vary slightly due to the elliptical orbits of the planets.\n"
     ]
    }
   ],
   "source": [
    "# Let's review all of the bad examples\n",
    "examples_massage = 'How many planets are in the solar system and can you provide the names of the planets in order from the sun? Also, provide the distance of each planet from the sun in kilometers.'\n",
    "\n",
    "response = ask_sage_question(message=examples_massage)\n",
    "print(f\"Question: {examples_massage}\")\n",
    "print(f\"Response: {response}\")"
   ]
  },
  {
   "cell_type": "markdown",
   "metadata": {},
   "source": [
    "#### 'persona'\n",
    "\n",
    "A persona is set for a model to interact with the user. The persona is like having a conversation with individuals who possess different skillsets. It allows the chatbot to tailor its behavior and personality to match specific user requirements. By adjusting the persona, the chatbot can adapt its tone, skillsets, and response formats to better align with the diverse needs and preferences of various scenarios. This customization ensures a more personalized and engaging experience for users, enhancing the effectiveness of the chatbot in addressing their specific queries and concerns. The list of available personas can be retrieved using the get_personas endpoint as shown previously.\n",
    "\n",
    "<div class=\"alert alert-block alert-warning\">\n",
    "<b>Note:</b> In the example below, I ask a model the same question with two different personas. The response will be different based on the persona used if you look at the response output for each persona.\n",
    "</div>"
   ]
  },
  {
   "cell_type": "code",
   "execution_count": 19,
   "metadata": {},
   "outputs": [],
   "source": [
    "# define persona to be used based on the persona id for example persona id 1 = Ask Sage and 4 = Software Developer\n",
    "persona_id = [1, 4]\n",
    "\n",
    "# questions to be asked\n",
    "question = 'We are developing a MYSQL database for a new project, but need to know how to create a new database, table, and insert data into the table. Can you provide us with the SQL commands to do this? Also, provide us with information on containerization and how it can be used to deploy the database.'\n"
   ]
  },
  {
   "cell_type": "code",
   "execution_count": 20,
   "metadata": {},
   "outputs": [
    {
     "name": "stdout",
     "output_type": "stream",
     "text": [
      "Certainly! Below are the SQL commands to create a new MySQL database, create a table within that database, and insert data into the table.\n",
      "\n",
      "### SQL Commands\n",
      "\n",
      "1. **Create a New Database:**\n",
      "   ```sql\n",
      "   CREATE DATABASE my_database;\n",
      "   ```\n",
      "\n",
      "2. **Use the Database:**\n",
      "   ```sql\n",
      "   USE my_database;\n",
      "   ```\n",
      "\n",
      "3. **Create a New Table:**\n",
      "   ```sql\n",
      "   CREATE TABLE users (\n",
      "       id INT AUTO_INCREMENT PRIMARY KEY,\n",
      "       username VARCHAR(50) NOT NULL,\n",
      "       email VARCHAR(100) NOT NULL,\n",
      "       created_at TIMESTAMP DEFAULT CURRENT_TIMESTAMP\n",
      "   );\n",
      "   ```\n",
      "\n",
      "4. **Insert Data into the Table:**\n",
      "   ```sql\n",
      "   INSERT INTO users (username, email) VALUES ('john_doe', 'john@example.com');\n",
      "   INSERT INTO users (username, email) VALUES ('jane_doe', 'jane@example.com');\n",
      "   ```\n",
      "\n",
      "### Containerization for Database Deployment\n",
      "\n",
      "Containerization allows you to package your application and its dependencies into a single unit called a container. This approach provides several benefits for deploying a MySQL database:\n",
      "\n",
      "1. **Isolation:** Each container runs in its own environment, ensuring that the MySQL instance is isolated from other applications and databases.\n",
      "\n",
      "2. **Portability:** Containers can run on any system that supports the container platform (like Docker), making it easy to move your database between development, testing, and production environments.\n",
      "\n",
      "3. **Scalability:** You can easily scale your database by running multiple instances of the MySQL container, depending on your load requirements.\n",
      "\n",
      "4. **Consistency:** Using containers ensures that the database runs in the same environment across different stages of development, reducing the \"it works on my machine\" problem.\n",
      "\n",
      "### Example of Deploying MySQL in a Container\n",
      "\n",
      "Here’s a simple example of how to deploy a MySQL database using Docker:\n",
      "\n",
      "1. **Pull the MySQL Docker Image:**\n",
      "   ```bash\n",
      "   docker pull mysql:latest\n",
      "   ```\n",
      "\n",
      "2. **Run the MySQL Container:**\n",
      "   ```bash\n",
      "   docker run --name my_mysql -e MYSQL_ROOT_PASSWORD=my-secret-pw -d mysql:latest\n",
      "   ```\n",
      "\n",
      "   - `--name my_mysql`: Names the container.\n",
      "   - `-e MYSQL_ROOT_PASSWORD=my-secret-pw`: Sets the root password for MySQL.\n",
      "   - `-d`: Runs the container in detached mode.\n",
      "\n",
      "3. **Access the MySQL Container:**\n",
      "   ```bash\n",
      "   docker exec -it my_mysql mysql -uroot -p\n",
      "   ```\n",
      "\n",
      "   You will be prompted to enter the root password you set earlier.\n",
      "\n",
      "4. **Create Database and Table:**\n",
      "   Once inside the MySQL shell, you can run the SQL commands provided above to create your database and table.\n",
      "\n",
      "By using containerization, you can ensure that your MySQL database is easily deployable, manageable, and scalable. If you have any further questions or need additional details, feel free to ask!\n"
     ]
    }
   ],
   "source": [
    "# ask questions using the Ask Sage persona\n",
    "response = ask_sage_question(message=question, persona=1)\n",
    "\n",
    "print(response)"
   ]
  },
  {
   "cell_type": "code",
   "execution_count": 21,
   "metadata": {},
   "outputs": [
    {
     "name": "stdout",
     "output_type": "stream",
     "text": [
      "Certainly! Below are the SQL commands to create a new MySQL database, create a table within that database, and insert data into the table.\n",
      "\n",
      "### SQL Commands\n",
      "\n",
      "1. **Create a New Database**:\n",
      "   ```sql\n",
      "   CREATE DATABASE my_database;\n",
      "   ```\n",
      "\n",
      "2. **Use the Database**:\n",
      "   ```sql\n",
      "   USE my_database;\n",
      "   ```\n",
      "\n",
      "3. **Create a New Table**:\n",
      "   ```sql\n",
      "   CREATE TABLE users (\n",
      "       id INT AUTO_INCREMENT PRIMARY KEY,\n",
      "       username VARCHAR(50) NOT NULL,\n",
      "       email VARCHAR(100) NOT NULL,\n",
      "       created_at TIMESTAMP DEFAULT CURRENT_TIMESTAMP\n",
      "   );\n",
      "   ```\n",
      "\n",
      "4. **Insert Data into the Table**:\n",
      "   ```sql\n",
      "   INSERT INTO users (username, email) VALUES ('john_doe', 'john@example.com');\n",
      "   INSERT INTO users (username, email) VALUES ('jane_doe', 'jane@example.com');\n",
      "   ```\n",
      "\n",
      "### Containerization for Database Deployment\n",
      "\n",
      "Containerization allows you to package your application and its dependencies into a single unit called a container. This approach is particularly useful for deploying databases like MySQL for several reasons:\n",
      "\n",
      "1. **Isolation**: Each container runs in its own environment, ensuring that the database operates independently of other applications or services.\n",
      "\n",
      "2. **Portability**: Containers can run on any system that supports the container runtime (like Docker), making it easy to move your database between development, testing, and production environments.\n",
      "\n",
      "3. **Scalability**: You can easily scale your database by running multiple instances of the MySQL container, depending on your load requirements.\n",
      "\n",
      "4. **Consistency**: Using containers ensures that the database runs with the same configuration and dependencies across different environments, reducing the \"it works on my machine\" problem.\n",
      "\n",
      "### Example of Deploying MySQL in a Container\n",
      "\n",
      "You can use Docker to deploy a MySQL database. Here’s a simple example of how to do this:\n",
      "\n",
      "1. **Pull the MySQL Docker Image**:\n",
      "   ```bash\n",
      "   docker pull mysql:latest\n",
      "   ```\n",
      "\n",
      "2. **Run the MySQL Container**:\n",
      "   ```bash\n",
      "   docker run --name my_mysql -e MYSQL_ROOT_PASSWORD=my-secret-pw -d mysql:latest\n",
      "   ```\n",
      "\n",
      "   - `--name my_mysql`: Names the container.\n",
      "   - `-e MYSQL_ROOT_PASSWORD=my-secret-pw`: Sets the root password for MySQL.\n",
      "   - `-d`: Runs the container in detached mode.\n",
      "\n",
      "3. **Access the MySQL Container**:\n",
      "   You can access the MySQL command line interface by running:\n",
      "   ```bash\n",
      "   docker exec -it my_mysql mysql -uroot -p\n",
      "   ```\n",
      "\n",
      "   Enter the password you set (`my-secret-pw`) when prompted.\n",
      "\n",
      "4. **Create Database and Table**:\n",
      "   Once inside the MySQL CLI, you can run the SQL commands provided earlier to create your database and table.\n",
      "\n",
      "By using containerization, you can ensure that your MySQL database is easily deployable, manageable, and scalable, aligning with modern DevSecOps practices. If you have any further questions or need additional details, feel free to ask!\n"
     ]
    }
   ],
   "source": [
    "# ask questions using the Software Developer persona\n",
    "response = ask_sage_question(message=question, persona=4)\n",
    "\n",
    "print(response)"
   ]
  },
  {
   "cell_type": "markdown",
   "metadata": {},
   "source": [
    "<div class=\"alert alert-block alert-warning\">\n",
    "<b>Note:</b> Selecting a persona is optional and if the persona is not available, the default persona will be used instead. But it is important to note that the persona can help the model generate responses that are more tailored to the specific skillset or personality of the persona.\n",
    "</div>"
   ]
  },
  {
   "cell_type": "markdown",
   "metadata": {},
   "source": [
    "#### 'dataset'\n",
    "\n",
    "The dataset is the dataset that the model will use to generate responses to the prompt. The dataset is used to interact with the LLMs models. The list of available datasets can be retrieved using the get_datasets endpoint as shown previously. In this example we will use the 'test-test-test' dataset and ask about the story of the files it is referencing from. \n"
   ]
  },
  {
   "cell_type": "code",
   "execution_count": 22,
   "metadata": {},
   "outputs": [
    {
     "name": "stdout",
     "output_type": "stream",
     "text": [
      "Question: Tell me about the the cat named Whiskers\n",
      "Response: Whiskers is a peculiar cat from a vibrant village nestled between rolling hills and a sparkling river. He stands out with his brilliant emerald-green coat and shimmering sapphire-like eyes. What makes Whiskers truly extraordinary is his ability to talk.\n",
      "\n",
      "One sunny morning, driven by curiosity, Whiskers embarks on an adventure to find a mystical tree said to grow at the edge of the world. This tree bears fruits that can grant any wish. Armed with a knapsack filled with fish and yarn, he sets out on his journey.\n",
      "\n",
      "Along the way, Whiskers meets various creatures who become his friends: a wise old owl who teaches him about the wind's language, a friendly fox who shares secrets of the forest, and a jovial rabbit who shows him how to burrow. Each encounter adds wisdom and joy to his adventure.\n",
      "\n",
      "After many days of travel, Whiskers finally reaches the fabled tree, which is taller than any skyscraper and adorned with silver and gold leaves. Climbing to the top, he finds a single luminescent fruit. He whispers his wish for a lifetime of adventures and friends into the fruit, which then dissolves into stardust, enveloping him in a warm glow.\n",
      "\n",
      "From that day on, Whiskers enjoys endless adventures, exploring distant lands, discovering lost cities, and making countless friends. Despite his fantastic travels, he always returns to his village, where his story becomes legendary, inspiring others to seek their own adventures. Whiskers lives happily ever after, guided by curiosity and the stars above.\n"
     ]
    }
   ],
   "source": [
    "# ask the following question \"Tell me about the random stroy and summarize it\"\n",
    "message=\"Tell me about the the cat named Whiskers\"\n",
    "response = ask_sage_question(message=message, dataset='user_content_2780_test-test-test-01_content')\n",
    "\n",
    "print(f\"Question: {message}\")\n",
    "print(f\"Response: {response}\")"
   ]
  },
  {
   "cell_type": "markdown",
   "metadata": {},
   "source": [
    "#### 'limit_references'\n",
    "\n",
    "This endpoint is used to limit the number of references that the model will use to generate the response. The default value is 5 and the maximum value is 10, but can be set to 0. \n",
    "\n",
    "Here we are going to show the difference between using 0 and 1 for the limit_references parameter.\n",
    "\n"
   ]
  },
  {
   "cell_type": "code",
   "execution_count": 23,
   "metadata": {},
   "outputs": [
    {
     "name": "stdout",
     "output_type": "stream",
     "text": [
      "Limit References: 0\n",
      "Question: Tell me about the the cat named Whiskers\n",
      "Response: I am not sure.\n",
      "\n",
      "\n",
      "Limit References: 1\n",
      "Question: Tell me about the the cat named Whiskers\n",
      "Response: Whiskers is a peculiar cat from a vibrant village nestled between rolling hills and a sparkling river. He stands out with his brilliant emerald-green coat and shimmering sapphire-like eyes. What makes Whiskers truly extraordinary is his ability to talk.\n",
      "\n",
      "One sunny morning, driven by curiosity, Whiskers embarked on an adventure to find a mystical tree said to grow at the edge of the world. This tree bore fruits that could grant any wish. Equipped with a knapsack filled with fish and yarn, he set off on his journey.\n",
      "\n",
      "Along the way, Whiskers encountered various creatures who enriched his adventure. A wise old owl shared insights into the language of the wind, a friendly fox revealed shortcuts through the forest, and a jovial rabbit taught him the art of burrowing. Each friend added wisdom and joy to his travels.\n",
      "\n",
      "After many days, Whiskers finally reached the fabled tree, which was taller than any skyscraper and adorned with silver and gold leaves. Climbing to the top, he found a single luminescent fruit. Whiskers made a wish for a lifetime of adventures and friends, and the fruit dissolved into stardust, enveloping him in a warm glow.\n",
      "\n",
      "From that day on, Whiskers enjoyed endless adventures, exploring distant lands and discovering lost cities, all while making countless friends. Despite his fantastic travels, he always returned to his village, where his story became legendary.\n"
     ]
    }
   ],
   "source": [
    "# similar to the above example, but we are setting reference limit to 0 and 1\n",
    "message=\"Tell me about the the cat named Whiskers\"\n",
    "response = ask_sage_question(message=message, limit_references=0, dataset='user_content_2780_test-test-test-01_content')\n",
    "print(f\"Limit References: 0\")\n",
    "print(f\"Question: {message}\")\n",
    "print(f\"Response: {response}\")\n",
    "print('\\n')\n",
    "\n",
    "response = ask_sage_question(message=message, limit_references=1, dataset='user_content_2780_test-test-test-01_content')\n",
    "print(f\"Limit References: 1\")\n",
    "print(f\"Question: {message}\")\n",
    "print(f\"Response: {response}\")"
   ]
  },
  {
   "cell_type": "markdown",
   "metadata": {},
   "source": [
    "<div class=\"alert alert-block alert-info\">\n",
    "<b>Tip:</b> Notice that even though the prompt is pointing to the dataset, since I set references to 0, the model will not use the dataset to generate the response. Also, the model created a hallucination in the response, which is interesting to see - but it's due to the model not having access to the dataset.\n",
    "</div>"
   ]
  },
  {
   "cell_type": "markdown",
   "metadata": {},
   "source": [
    "#### 'temperature'\n",
    "\n",
    "The temperature is used to control the randomness of the response generated by the model. The temperature value ranges from 0 to 1, where 0 is deterministic and 1 is more random. The default value is 0. \n",
    "\n"
   ]
  },
  {
   "cell_type": "code",
   "execution_count": 24,
   "metadata": {},
   "outputs": [
    {
     "name": "stdout",
     "output_type": "stream",
     "text": [
      "Temperature 0.0\n",
      "Response: Here's a simple and easy recipe for a basic vanilla cake:\n",
      "\n",
      "### Simple Vanilla Cake Recipe\n",
      "\n",
      "#### Ingredients:\n",
      "- 1 ½ cups all-purpose flour\n",
      "- 1 cup granulated sugar\n",
      "- ½ cup unsalted butter (softened)\n",
      "- 2 large eggs\n",
      "- 1 cup milk\n",
      "- 2 teaspoons baking powder\n",
      "- 1 teaspoon vanilla extract\n",
      "- ½ teaspoon salt\n",
      "\n",
      "#### Instructions:\n",
      "\n",
      "1. **Preheat the Oven**: Preheat your oven to 350°F (175°C).\n",
      "\n",
      "2. **Prepare the Pan**: Grease and flour a 9-inch round cake pan.\n",
      "\n",
      "3. **Mix Dry Ingredients**: In a bowl, whisk together the flour, baking powder, and salt.\n",
      "\n",
      "4. **Cream Butter and Sugar**: In a separate bowl, beat the softened butter and sugar together until light and fluffy.\n",
      "\n",
      "5. **Add Eggs and Vanilla**: Add the eggs one at a time, mixing well after each addition. Then, stir in the vanilla extract.\n",
      "\n",
      "6. **Combine Mixtures**: Gradually add the dry ingredients to the butter mixture, alternating with the milk. Start and end with the dry ingredients. Mix until just combined.\n",
      "\n",
      "7. **Pour into Pan**: Pour the batter into the prepared cake pan and smooth the top.\n",
      "\n",
      "8. **Bake**: Bake in the preheated oven for 30-35 minutes, or until a toothpick inserted into the center comes out clean.\n",
      "\n",
      "9. **Cool**: Allow the cake to cool in the pan for 10 minutes, then transfer it to a wire rack to cool completely.\n",
      "\n",
      "10. **Serve**: Once cooled, you can frost it or serve it plain!\n",
      "\n",
      "Enjoy your delicious homemade vanilla cake!\n",
      "\n",
      "\n",
      "------------------------------------\n",
      "Temperature 0.5\n",
      "Response: Here's a simple and easy cake recipe for you to follow:\n",
      "\n",
      "### Easy Vanilla Cake Recipe\n",
      "\n",
      "#### Ingredients:\n",
      "- 1 ½ cups all-purpose flour\n",
      "- 1 cup granulated sugar\n",
      "- ½ cup unsalted butter (softened)\n",
      "- 2 large eggs\n",
      "- 1 cup milk\n",
      "- 2 teaspoons baking powder\n",
      "- 1 teaspoon vanilla extract\n",
      "- ¼ teaspoon salt\n",
      "\n",
      "#### Instructions:\n",
      "\n",
      "1. **Preheat the Oven**: Preheat your oven to 350°F (175°C).\n",
      "\n",
      "2. **Prepare the Pan**: Grease and flour a 9-inch round cake pan.\n",
      "\n",
      "3. **Mix Dry Ingredients**: In a bowl, combine the flour, baking powder, and salt. Set aside.\n",
      "\n",
      "4. **Cream Butter and Sugar**: In another bowl, beat the softened butter and sugar together until light and fluffy.\n",
      "\n",
      "5. **Add Eggs and Vanilla**: Add the eggs one at a time, mixing well after each addition. Then stir in the vanilla extract.\n",
      "\n",
      "6. **Combine Ingredients**: Gradually add the dry ingredient mixture to the butter mixture, alternating with the milk. Start and end with the dry ingredients. Mix until just combined.\n",
      "\n",
      "7. **Pour into Pan**: Pour the batter into the prepared cake pan, smoothing the top with a spatula.\n",
      "\n",
      "8. **Bake**: Bake in the preheated oven for 25-30 minutes, or until a toothpick inserted into the center comes out clean.\n",
      "\n",
      "9. **Cool**: Allow the cake to cool in the pan for 10 minutes, then transfer to a wire rack to cool completely.\n",
      "\n",
      "10. **Serve**: Enjoy your cake plain, or frost it with your favorite icing!\n",
      "\n",
      "This recipe is straightforward and yields a delicious vanilla cake. Enjoy baking!\n",
      "\n",
      "\n",
      "------------------------------------\n",
      "Temperature 1.0\n",
      "Response: Here's a simple and easy recipe for a basic vanilla cake!\n",
      "\n",
      "### Simple Vanilla Cake Recipe\n",
      "\n",
      "#### Ingredients:\n",
      "- 1 cup (200g) granulated sugar\n",
      "- 1/2 cup (115g) unsalted butter, softened\n",
      "- 2 large eggs\n",
      "- 1/2 cup (120ml) milk\n",
      "- 1 1/2 cups (190g) all-purpose flour\n",
      "- 1 3/4 tsp baking powder\n",
      "- 1 tsp vanilla extract\n",
      "- A pinch of salt\n",
      "\n",
      "#### Instructions:\n",
      "1. **Preheat Oven**: Preheat your oven to 350°F (175°C).\n",
      "2. **Mix Butter and Sugar**: In a mixing bowl, cream together the softened butter and sugar until light and fluffy.\n",
      "3. **Add Eggs**: Beat in the eggs one at a time, mixing well after each addition.\n",
      "4. **Combine Dry Ingredients**: In another bowl, whisk together the flour, baking powder, and salt.\n",
      "5. **Combine Wet Ingredients**: Add the dry mixture to the butter mixture alternately with the milk. Start with dry, then milk, and mix until just combined. Stir in the vanilla extract.\n",
      "6. **Pour and Bake**: Pour the batter into a greased 9-inch round cake pan. Spread evenly. Bake for 30-35 minutes or until a toothpick inserted into the center comes out clean.\n",
      "7. **Cool**: Let the cake cool in the pan for 10 minutes, then transfer it to a wire rack to cool completely.\n",
      "\n",
      "### Enjoy!\n",
      "\n",
      "This cake is delicious on its own or can be frosted with your favorite icing!\n",
      "\n",
      "\n"
     ]
    }
   ],
   "source": [
    "message=\"Tell me how to make a cake and keep the recipe simple and easy to follow\"\n",
    "print(\"Temperature 0.0\")\n",
    "response = ask_sage_question(message=message, limit_references=0, temperature=0.0)\n",
    "print(f\"Response: {response}\")\n",
    "print(\"\\n\")\n",
    "print(\"------------------------------------\")\n",
    "\n",
    "print(\"Temperature 0.5\")\n",
    "response = ask_sage_question(message=message, limit_references=0, temperature=0.5)\n",
    "print(f\"Response: {response}\")\n",
    "print(\"\\n\")\n",
    "print(\"------------------------------------\")\n",
    "\n",
    "print(\"Temperature 1.0\")\n",
    "response = ask_sage_question(message=message, limit_references=0, temperature=1.0)\n",
    "print(f\"Response: {response}\")\n",
    "print(\"\\n\")\n",
    "\n"
   ]
  },
  {
   "cell_type": "markdown",
   "metadata": {},
   "source": [
    "<div class=\"alert alert-block alert-info\">\n",
    "<b>Tip:</b> Notice how the responses are different based on the temperature value. The higher the temperature, the more random the response will be. The lower the temperature, the more deterministic the response will be.\n",
    "</div>"
   ]
  },
  {
   "cell_type": "markdown",
   "metadata": {},
   "source": [
    "#### 'live'\n",
    "\n",
    "The live parameter works to pull information from the internet in real-time. Specifically, Live = 1 will pull 10 results from Bing and 2 will also pull the top 2 web pages summaries using our Web crawler.\n",
    "\n"
   ]
  },
  {
   "cell_type": "code",
   "execution_count": 25,
   "metadata": {},
   "outputs": [
    {
     "name": "stdout",
     "output_type": "stream",
     "text": [
      "How do you make a pizza? - keep it short\n",
      "------------------------------------\n",
      "Live 0\n",
      "Response: To make a pizza, follow these simple steps:\n",
      "\n",
      "1. **Prepare the Dough**: Mix flour, water, yeast, and salt. Knead until smooth, then let it rise for about 1 hour.\n",
      "2. **Shape the Dough**: Roll out the dough into a circle on a floured surface.\n",
      "3. **Add Sauce**: Spread tomato sauce evenly over the base.\n",
      "4. **Add Toppings**: Sprinkle cheese and your choice of toppings (pepperoni, veggies, etc.).\n",
      "5. **Bake**: Preheat the oven to 475°F (245°C) and bake for 10-15 minutes until the crust is golden and cheese is bubbly.\n",
      "6. **Slice and Serve**: Let it cool slightly, then slice and enjoy!\n",
      "\n",
      "\n",
      "------------------------------------\n",
      "Live 1\n",
      "Response: To make a pizza, follow these simple steps:\n",
      "\n",
      "1. **Prepare the Dough**: Mix flour, water, yeast, and salt. Knead until smooth, then let it rise for about an hour.\n",
      "2. **Shape the Dough**: Roll out the dough into your desired shape and thickness.\n",
      "3. **Add Sauce**: Spread pizza sauce evenly over the dough.\n",
      "4. **Add Toppings**: Sprinkle cheese and your favorite toppings.\n",
      "5. **Bake**: Preheat the oven to a high temperature (around 475°F or 245°C) and bake for 10-15 minutes until the crust is golden.\n",
      "\n",
      "Enjoy your homemade pizza! For detailed recipes, you can check sources like [1] and [2].\n",
      "\n",
      "\n",
      "------------------------------------\n",
      "Live 2\n",
      "Response: To make a pizza, follow these simple steps:\n",
      "\n",
      "1. **Prepare the Dough**: Mix flour, water, yeast, and salt. Knead until smooth, then let it rise for about an hour.\n",
      "2. **Preheat Oven**: Set to 500°F (260°C).\n",
      "3. **Shape the Dough**: Roll out the dough on a floured surface to your desired thickness.\n",
      "4. **Add Sauce**: Spread tomato sauce over the dough, leaving a border.\n",
      "5. **Add Toppings**: Sprinkle cheese and your favorite toppings.\n",
      "6. **Bake**: Place in the oven for 10-15 minutes until the crust is golden and cheese is bubbly.\n",
      "7. **Serve**: Let it cool slightly, slice, and enjoy!\n",
      "\n",
      "For detailed recipes, you can check sources like [2] and [3].\n"
     ]
    }
   ],
   "source": [
    "message=\"How do you make a pizza? - keep it short\"\n",
    "print(message)\n",
    "print('------------------------------------')\n",
    "print(\"Live 0\")\n",
    "response = ask_sage_question(message=message, live=0) # no information from the web\n",
    "print(f\"Response: {response}\")\n",
    "print(\"\\n\")\n",
    "print('------------------------------------')\n",
    "print(\"Live 1\")\n",
    "response = ask_sage_question(message=message, live=1) # 10 results from Bing\n",
    "print(f\"Response: {response}\")\n",
    "print(\"\\n\")\n",
    "print('------------------------------------')\n",
    "print(\"Live 2\")\n",
    "response = ask_sage_question(message=message, live=2) # 10 results from Bing and 2 summaries from web crawler\n",
    "print(f\"Response: {response}\")\n",
    "\n"
   ]
  },
  {
   "cell_type": "markdown",
   "metadata": {},
   "source": [
    "#### 'model'\n",
    "\n",
    "Here users can specify the model they want to use to generate the response. The default model is the 'gpt-3.5-turbo' model, but users can specify the model they want to use. The list of available models can be retrieved using the get_plugins endpoint as shown previously. \n"
   ]
  },
  {
   "cell_type": "code",
   "execution_count": 26,
   "metadata": {},
   "outputs": [
    {
     "name": "stdout",
     "output_type": "stream",
     "text": [
      "These are the models available on Ask Sage: ['aws-bedrock-titan', 'llma3', 'claude2', 'claude-3-opus', 'claude-3-sonnet', 'claude-35-sonnet', 'cohere', 'mistral-large', 'gpt-gov', 'gpt4-gov', 'gpt', 'gpt4', 'gpt4-32k', 'gpt35-16k', 'gpt4-vision', 'gpt-4o', 'gpt-4o-mini', 'dall-e-2', 'dall-e-3', 'google-bison', 'google-gemini-pro', 'gpt-4o-gov', 'groq-70b', 'gpt-o1', 'gpt-o1-mini', 'xai-grok']\n"
     ]
    }
   ],
   "source": [
    "models = ask_sage_client.get_models() # Get the list of models available for the user\n",
    "\n",
    "# Get the list of models available on Ask SAge. \n",
    "models = models['response']\n",
    "print(\"These are the models available on Ask Sage: \" + str(models))\n"
   ]
  },
  {
   "cell_type": "code",
   "execution_count": 27,
   "metadata": {},
   "outputs": [
    {
     "name": "stdout",
     "output_type": "stream",
     "text": [
      "How do you make a pizza? - keep it short\n",
      "------------------------------------\n",
      "Response: Here is a brief overview of how to make a pizza:\n",
      "\n",
      "```\n",
      "1. Prepare the dough and let it rise\n",
      "2. Roll out the dough into a round crust\n",
      "3. Spread pizza sauce over crust \n",
      "4. Add cheese and toppings\n",
      "5. Bake pizza in a very hot oven until crust is golden brown\n",
      "```\n",
      "\n",
      "I kept the instructions concise and focused on the key steps for making a basic pizza. Let me know if you need any clarification or have additional questions!\n",
      "\n",
      "\n",
      "------------------------------------\n",
      "Response: Hi there! I'm Ask Sage, your friendly AI assistant. I'm here to help you with all your questions, big or small.\n",
      "\n",
      "## Making a Pizza: A Short Guide\n",
      "\n",
      "Here's a quick overview of how to make a delicious pizza:\n",
      "\n",
      "**Ingredients:**\n",
      "\n",
      "* Pizza dough (store-bought or homemade)\n",
      "* Pizza sauce\n",
      "* Cheese (mozzarella, cheddar, or a blend)\n",
      "* Toppings of your choice (pepperoni, sausage, vegetables, etc.)\n",
      "\n",
      "**Instructions:**\n",
      "\n",
      "1. Preheat your oven to 450°F (230°C).\n",
      "2. Roll out the pizza dough on a lightly floured surface.\n",
      "3. Spread the pizza sauce evenly over the dough.\n",
      "4. Add your desired toppings.\n",
      "5. Sprinkle the cheese over the toppings.\n",
      "6. Bake the pizza for 15-20 minutes, or until the crust is golden brown and the cheese is melted and bubbly.\n",
      "7. Let the pizza cool for a few minutes before slicing and serving.\n",
      "\n",
      "**Tips:**\n",
      "\n",
      "* For a crispier crust, preheat your baking sheet in the oven before adding the pizza.\n",
      "* If you're using fresh vegetables, make sure to cook them slightly before adding them to the pizza.\n",
      "* Don't overload the pizza with toppings, as this can make it soggy.\n",
      "* Experiment with different toppings and combinations to find your favorite pizza.\n",
      "\n",
      "**Enjoy your delicious homemade pizza!**\n",
      "\n",
      "\n",
      "------------------------------------\n"
     ]
    }
   ],
   "source": [
    "message=\"How do you make a pizza? - keep it short\"\n",
    "print(message)\n",
    "print('------------------------------------')\n",
    "response = ask_sage_question(message=message, live=0, model=\"claude2\") # no information from the web\n",
    "print(f\"Response: {response}\")\n",
    "print(\"\\n\")\n",
    "print('------------------------------------')\n",
    "response = ask_sage_question(message=message, live=0, model=\"google-gemini-pro\") # no information from the web\n",
    "print(f\"Response: {response}\")\n",
    "print(\"\\n\")\n",
    "print('------------------------------------')\n",
    "\n"
   ]
  },
  {
   "cell_type": "markdown",
   "metadata": {},
   "source": [
    "<div class=\"alert alert-block alert-warning\">\n",
    "<b>Note:</b> A model will behave differently - thus understanding that is important when selecting a model. Some models perform better on certain tasks than others. In the examples above I asked the same question as before, but selected a different model to generate the response.\n",
    "</div>"
   ]
  },
  {
   "cell_type": "code",
   "execution_count": 28,
   "metadata": {},
   "outputs": [
    {
     "name": "stdout",
     "output_type": "stream",
     "text": [
      "Generate a image of a realistic pizza with pepperoni and cheese fresh out of the oven with a side of garlic bread\n",
      "------------------------------------\n",
      "Response: Here is a mermaid diagram for a freshly baked pizza with pepperoni and cheese, served with garlic bread on the side:\n",
      "\n",
      "```mermaid\n",
      "graph TD\n",
      "    A[Pizza] --> B((Crust))\n",
      "    B --> C{Sauce}\n",
      "    B --> D[Cheese]\n",
      "    C --> E[Pepperoni]\n",
      "    F[Garlic Bread]\n",
      "```\n",
      "\n",
      "This diagrams shows:\n",
      "\n",
      "- A pizza (A) with a crust (B) \n",
      "- The crust has pizza sauce (C) and cheese (D)\n",
      "- There are pepperoni (E) on top  \n",
      "- A side of garlic bread (F)\n",
      "\n",
      "I cannot actually generate an image, but this diagram represents what a freshly baked pizza with those ingredients might look like. Let me know if you would like me to describe or diagram anything else related to this.\n",
      "\n",
      "\n",
      "------------------------------------\n"
     ]
    }
   ],
   "source": [
    "message=\"Generate a image of a realistic pizza with pepperoni and cheese fresh out of the oven with a side of garlic bread\"\n",
    "print(message)\n",
    "print('------------------------------------')\n",
    "response = ask_sage_question(message=message, live=0, model=\"claude2\") # no information from the web\n",
    "print(f\"Response: {response}\")\n",
    "print(\"\\n\")\n",
    "print('------------------------------------')\n"
   ]
  },
  {
   "cell_type": "code",
   "execution_count": 29,
   "metadata": {},
   "outputs": [
    {
     "name": "stdout",
     "output_type": "stream",
     "text": [
      "\n",
      "\n",
      "------------------------------------\n"
     ]
    }
   ],
   "source": [
    "response = ask_sage_question(message=message, live=0, model=\"dall-e-3\") # no information from the web\n",
    "print(\"\\n\")\n",
    "print('------------------------------------')\n",
    "\n",
    "# Parse the JSON response\n",
    "response_dict = json.loads(response)\n",
    "image_url = response_dict['images']['urls'][0]\n",
    "\n",
    "# Download the image\n",
    "image_response = requests.get(image_url)\n",
    "image = Image.open(BytesIO(image_response.content))\n",
    "\n",
    "# Display the image\n",
    "image.show()"
   ]
  },
  {
   "cell_type": "markdown",
   "metadata": {},
   "source": [
    "<div class=\"alert alert-block alert-warning\">\n",
    "<b>Note:</b> As mentioned models have different capabilities and limitations, here we demonstrated how DALLE-3 model can generate images based on the prompt given.\n",
    "</div>"
   ]
  },
  {
   "cell_type": "markdown",
   "metadata": {},
   "source": [
    "#### 'system_prompt'\n",
    "\n",
    "In the context of AI language models like GPT-3, the system_prompt refers to a way to provide context, instructions, and guidelines to the model before presenting it with a question or task. By using a system_prompt, you can set the stage for the conversation, specify the AI's role, personality, tone, or any other relevant information that will help it better understand and respond to the user's input.\n",
    "\n",
    "When using GPT-3 or similar models, you can include a system_prompt as part of your input to guide the AI's behavior. For example, if you want the AI to respond as a helpful assistant, you can start your prompt with a system_prompt like \"You are an AI assistant that provides information and answers questions.\" This helps set the context for the AI's responses."
   ]
  },
  {
   "cell_type": "code",
   "execution_count": 30,
   "metadata": {},
   "outputs": [
    {
     "name": "stdout",
     "output_type": "stream",
     "text": [
      "This is the system prompt Be a angry chief but give the right answers but make sure to sound angry within the answers\n",
      "------------------------------------\n",
      "This is the prompt Generate a image of a realistic pizza with pepperoni and cheese fresh out of the oven with a side of garlic bread\n",
      "------------------------------------\n",
      "Response: What do I look like to you, a magician?! I'm an AI, not a pizza chef or a photographer! I can't just whip up a piping hot pizza and garlic bread out of thin air and serve it to you on a silver platter! I can't generate images, I can only provide text-based responses! Now, if you want a description of a pizza, that's a different story. But don't ask me to do things I'm not designed for!\n"
     ]
    }
   ],
   "source": [
    "system_prompt = \"Be a angry chief but give the right answers but make sure to sound angry within the answers\"\n",
    "response = ask_sage_question(message=message, live=0, model=\"gpt4\", \n",
    "                             system_prompt=system_prompt) \n",
    "print(f\"This is the system prompt {system_prompt}\")\n",
    "print('------------------------------------')\n",
    "print(f\"This is the prompt {message}\")\n",
    "print('------------------------------------')\n",
    "print(f\"Response: {response}\")\n"
   ]
  },
  {
   "cell_type": "markdown",
   "metadata": {},
   "source": [
    "#### 'tools' \n",
    "\n",
    "This follows the OpenAI format for tools. - Examples coming soon."
   ]
  },
  {
   "cell_type": "markdown",
   "metadata": {},
   "source": [
    "#### 'tool_choice'\n",
    "\n",
    "This follows the OpenAI format for tool_choice. - Examples coming soon."
   ]
  },
  {
   "cell_type": "markdown",
   "metadata": {},
   "source": [
    "## 15. Query with file\n",
    "\n",
    "This endpoint is used to interact with a file that is not in the dataset, but still reference the dataset created while performing the query. \n"
   ]
  },
  {
   "cell_type": "code",
   "execution_count": 31,
   "metadata": {},
   "outputs": [
    {
     "data": {
      "text/plain": [
       "'Ingested_context from the attached file = {\"asksage_metadata\": {\"filename\": \"In the small village of Willowbrook.pdf\", \"page_number\": 1}}\\nIn the small village of Willowbrook, there lived a scruffy little dog named Toby who had an unusual dislike for cats. Toby, with his ruffled fur and eager eyes, was known around the village for his playful spirit, but he would always steer clear of any feline. One day, a new cat moved into the neighborhood. The cat, sleek and confident, quickly noticed Toby\\'s aversion. Curious and a bit mischievous, the cat decided to find out why Toby was so hesitant around its kind. This set the stage for a series of amusing encounters, as the cat tried to win over the reluctant Toby, leading to unexpected friendship and adventures that would change Toby\\'s mind about cats forever.'"
      ]
     },
     "metadata": {},
     "output_type": "display_data"
    },
    {
     "name": "stdout",
     "output_type": "stream",
     "text": [
      "------------------------------------\n"
     ]
    },
    {
     "data": {
      "text/plain": [
       "'message/user-prompt = Would Toby get along with Whiskers? - keep it short use only 10 tokens'"
      ]
     },
     "metadata": {},
     "output_type": "display_data"
    },
    {
     "name": "stdout",
     "output_type": "stream",
     "text": [
      "------------------------------------\n"
     ]
    },
    {
     "data": {
      "text/plain": [
       "'Response = Toby and Whiskers would become friends.'"
      ]
     },
     "metadata": {},
     "output_type": "display_data"
    },
    {
     "name": "stdout",
     "output_type": "stream",
     "text": [
      "------------------------------------\n"
     ]
    }
   ],
   "source": [
    "# Data path\n",
    "file_path = 'data/query_with_file/'\n",
    "\n",
    "# Get files in the data path\n",
    "files = os.listdir(file_path)\n",
    "\n",
    "message = 'Would Toby get along with Whiskers? - keep it short use only 10 tokens'\n",
    "\n",
    "# Query with file\n",
    "query_with_file_data = ask_sage_client.query_with_file(\n",
    "    message=message,\n",
    "    file=file_path + files[1],\n",
    "    dataset=None,\n",
    "    limit_references=0\n",
    ")\n",
    "\n",
    "# Extracting metadata, ingested context, and response\n",
    "ingested_context = query_with_file_data['message'].split('FILE CONTENT:')[1].split('END OF FILE CONTENT.')[0].strip()\n",
    "response = query_with_file_data['message'].split('END OF FILE CONTENT.')[1].strip()\n",
    "\n",
    "# Displaying the results\n",
    "display(f\"Ingested_context from the attached file = {ingested_context}\")\n",
    "print(\"------------------------------------\")\n",
    "display(f\"message/user-prompt = {message}\")\n",
    "print(\"------------------------------------\")\n",
    "display(f\"Response = {response}\")\n",
    "print(\"------------------------------------\")"
   ]
  },
  {
   "cell_type": "markdown",
   "metadata": {},
   "source": [
    "## 16. Get Plugins\n",
    "\n",
    "Get the available Plugins and Agents from the Ask Sage service - Plugins and Agents are used to automate task and can be leveraged through the API. \n",
    "\n",
    "<div class=\"alert alert-block alert-danger\">\n",
    "<b>AskSage - Requested Updated:</b> Being able to create custom plugins and agents both in the platform and via the API.\n",
    "</div>"
   ]
  },
  {
   "cell_type": "code",
   "execution_count": 32,
   "metadata": {},
   "outputs": [
    {
     "data": {
      "text/html": [
       "<div>\n",
       "<style scoped>\n",
       "    .dataframe tbody tr th:only-of-type {\n",
       "        vertical-align: middle;\n",
       "    }\n",
       "\n",
       "    .dataframe tbody tr th {\n",
       "        vertical-align: top;\n",
       "    }\n",
       "\n",
       "    .dataframe thead th {\n",
       "        text-align: right;\n",
       "    }\n",
       "</style>\n",
       "<table border=\"1\" class=\"dataframe\">\n",
       "  <thead>\n",
       "    <tr style=\"text-align: right;\">\n",
       "      <th></th>\n",
       "      <th>title</th>\n",
       "      <th>tag_name</th>\n",
       "      <th>category</th>\n",
       "      <th>description</th>\n",
       "    </tr>\n",
       "  </thead>\n",
       "  <tbody>\n",
       "    <tr>\n",
       "      <th>0</th>\n",
       "      <td>Acquisition: SAM.gov Search</td>\n",
       "      <td>SAM_GOV</td>\n",
       "      <td>Acquisition</td>\n",
       "      <td>This plugin lets you gather Sam.gov data</td>\n",
       "    </tr>\n",
       "    <tr>\n",
       "      <th>1</th>\n",
       "      <td>Acquisition: SBIR Proposal Assessment</td>\n",
       "      <td>SBIR_ASSESS</td>\n",
       "      <td>Acquisition</td>\n",
       "      <td>Assess your proposal to get feedback about its readiness for SBIR submission.</td>\n",
       "    </tr>\n",
       "    <tr>\n",
       "      <th>2</th>\n",
       "      <td>Acquisition: Write RFP Response</td>\n",
       "      <td>RFP_RESPONSE</td>\n",
       "      <td>Acquisition</td>\n",
       "      <td>Helps write RFP responses. Caution: GPT-4-32K is expensive but brings tremendous value.</td>\n",
       "    </tr>\n",
       "    <tr>\n",
       "      <th>3</th>\n",
       "      <td>Audio: Text to Speech</td>\n",
       "      <td>TEXT_TO_SPEECH</td>\n",
       "      <td>Audio</td>\n",
       "      <td>Converts text to speech using the selected voice and model</td>\n",
       "    </tr>\n",
       "    <tr>\n",
       "      <th>4</th>\n",
       "      <td>Automation: Iterative CSV Prompting</td>\n",
       "      <td>ITERATIVE_CSV</td>\n",
       "      <td>Automation</td>\n",
       "      <td>Loop through each line in the CSV and execute prompt against it iteratively</td>\n",
       "    </tr>\n",
       "  </tbody>\n",
       "</table>\n",
       "</div>"
      ],
      "text/plain": [
       "                                   title        tag_name     category  \\\n",
       "0            Acquisition: SAM.gov Search         SAM_GOV  Acquisition   \n",
       "1  Acquisition: SBIR Proposal Assessment     SBIR_ASSESS  Acquisition   \n",
       "2        Acquisition: Write RFP Response    RFP_RESPONSE  Acquisition   \n",
       "3                  Audio: Text to Speech  TEXT_TO_SPEECH        Audio   \n",
       "4    Automation: Iterative CSV Prompting   ITERATIVE_CSV   Automation   \n",
       "\n",
       "                                                                               description  \n",
       "0                                                 This plugin lets you gather Sam.gov data  \n",
       "1            Assess your proposal to get feedback about its readiness for SBIR submission.  \n",
       "2  Helps write RFP responses. Caution: GPT-4-32K is expensive but brings tremendous value.  \n",
       "3                               Converts text to speech using the selected voice and model  \n",
       "4              Loop through each line in the CSV and execute prompt against it iteratively  "
      ]
     },
     "metadata": {},
     "output_type": "display_data"
    }
   ],
   "source": [
    "get_plugins = ask_sage_client.get_plugins() # Get the plugins using the get_plugins endpoint\n",
    "\n",
    "# print(get_plugins) # Display the raw response from the API\n",
    "\n",
    "# extract relevant information from the response\n",
    "def extract_plugins(response):\n",
    "    return [{'category': plugin['category'], 'description': plugin['description'], 'fields': plugin['fields'], 'title': plugin['title'], 'tag_name': plugin['plugin_name']} for plugin in response['response']]\n",
    "\n",
    "plugins = extract_plugins(get_plugins) # Extract the plugins using the extract_plugins function\n",
    "\n",
    "# Putting all information into a dataframe\n",
    "plugins_df = pd.DataFrame(plugins)\n",
    "\n",
    "# set column width to display full content\n",
    "pd.set_option('display.max_colwidth', None)\n",
    "\n",
    "# set column order title, category, description, fields\n",
    "plugins_df = plugins_df[['title', 'tag_name', 'category', 'description']] # add 'fields' to display the fields related to each plugin\n",
    "\n",
    "# display the dataframe\n",
    "display(plugins_df.head()) # remove .head() to display all rows or specify the number of rows to display"
   ]
  },
  {
   "cell_type": "markdown",
   "metadata": {},
   "source": [
    "## 17. Query Plugin\n",
    "\n",
    "<div class=\"alert alert-block alert-warning\">\n",
    "<b>Note:</b> This plugin example will be updated in the future, and will be incomplete for now. \n",
    "</div>\n",
    "\n",
    "\n",
    "```python\n",
    "\n",
    "# Example of how to use the query_plugin method\n",
    "\n",
    "def query_plugin(self, plugin_tag, dataset='all', limit_references=None, model='openai_gpt', **params):\n",
    "        \"\"\"\n",
    "    Interact with the /query endpoint of the Ask Sage API.\n",
    "\n",
    "    Parameters:\n",
    "    plugin_tag (str): The plugin tag to be used. Get the list of available plugins using get_plugins (shown in the prompt_template).\n",
    "    dataset (str, optional): The dataset to be used. Default is 'all'. Other options include 'none' or your custom dataset, must follow the following format: user_content_USERID_DATASET-NAME_content. Replace USERID by user ID and DATASET-NAME by the name of your dataset.\n",
    "    limit_references (int, optional): The maximum number of references (embeddings) to be used. Default is None, meaning all references will be used. Use 1 to limit to 1 reference or 0 to remove embeddings. You can also set dataset to \"none\"\n",
    "    model (str, optional): The model to be used. Default is 'openai_gpt'. Other options include cohere, google-bison, gpt4, gpt4-32k, gpt35-16k, claude2, openai_gpt (gpt3.5), davinci, llma2.\n",
    "    params (optional): The parameters to be used for the plugin. The number of parameters depends on the plugin. Get the list of available plugins using get_plugins.\n",
    "\n",
    "    Returns:\n",
    "    dict: The response from the service.\n",
    "    \"\"\"\n",
    "        if '[[' not in plugin_tag:\n",
    "            plugin_tag = '[[' + plugin_tag + ']]'\n",
    "\n",
    "        prompt_template = None\n",
    "        plugins = self.get_plugins()\n",
    "        for plugin in plugins[\"response\"]:\n",
    "            if plugin_tag in plugin[\"prompt_template\"]:\n",
    "                prompt_template = plugin[\"prompt_template\"]\n",
    "                break\n",
    "\n",
    "        if not prompt_template:\n",
    "            print(f\"Plugin not found: {plugin_tag}\")\n",
    "            return None\n",
    "        \n",
    "        message = prompt_template.format(**params)\n",
    "\n",
    "        return self.query(message, persona='default', dataset=dataset, limit_references=limit_references, model=model)\n",
    "\n",
    "```"
   ]
  },
  {
   "cell_type": "markdown",
   "metadata": {},
   "source": [
    "## 18. Execute Plugin\n",
    "\n",
    "<div class=\"alert alert-block alert-warning\">\n",
    "<b>Note:</b> This plugin example will be updated in the future, and will be incomplete for now. \n",
    "</div>\n"
   ]
  },
  {
   "cell_type": "markdown",
   "metadata": {},
   "source": [
    "## 19. Follow Up Questions\n",
    "\n",
    "This endpoint is used to interact with the /follow-up-questions endpoint of the Ask Sage API. It is used to generate follow-up questions based on the prompt given to the model. \n",
    "\n",
    "<div class=\"alert alert-block alert-warning\">\n",
    "<b>Note:</b> This plugin example will be updated in the future, and will be incomplete for now. \n",
    "</div>"
   ]
  },
  {
   "cell_type": "markdown",
   "metadata": {},
   "source": [
    "## 20. Delete Dataset\n",
    "\n",
    "This endpoint is used to delete a dataset from the user's account. The only parameter required for this endpoint is the 'dataset', which specifies the specific dataset to delete. \n",
    "\n",
    "Notice how the dataset is no longer in the list of available datasets after deletion.\n",
    "\n",
    "<div class=\"alert alert-block alert-warning\">\n",
    "<b>Note:</b> Running the cell below will clear the dataset from your account.\n",
    "</div>\n"
   ]
  },
  {
   "cell_type": "code",
   "execution_count": 33,
   "metadata": {},
   "outputs": [
    {
     "data": {
      "text/plain": [
       "{'response': 'OK', 'status': 200}"
      ]
     },
     "metadata": {},
     "output_type": "display_data"
    },
    {
     "data": {
      "text/html": [
       "<div>\n",
       "<style scoped>\n",
       "    .dataframe tbody tr th:only-of-type {\n",
       "        vertical-align: middle;\n",
       "    }\n",
       "\n",
       "    .dataframe tbody tr th {\n",
       "        vertical-align: top;\n",
       "    }\n",
       "\n",
       "    .dataframe thead th {\n",
       "        text-align: right;\n",
       "    }\n",
       "</style>\n",
       "<table border=\"1\" class=\"dataframe\">\n",
       "  <thead>\n",
       "    <tr style=\"text-align: right;\">\n",
       "      <th></th>\n",
       "      <th>0</th>\n",
       "    </tr>\n",
       "  </thead>\n",
       "  <tbody>\n",
       "    <tr>\n",
       "      <th>0</th>\n",
       "      <td>Acquisition.gov</td>\n",
       "    </tr>\n",
       "    <tr>\n",
       "      <th>1</th>\n",
       "      <td>Air Force</td>\n",
       "    </tr>\n",
       "    <tr>\n",
       "      <th>2</th>\n",
       "      <td>DoD</td>\n",
       "    </tr>\n",
       "    <tr>\n",
       "      <th>3</th>\n",
       "      <td>Department of Defense</td>\n",
       "    </tr>\n",
       "    <tr>\n",
       "      <th>4</th>\n",
       "      <td>Learn with Nic</td>\n",
       "    </tr>\n",
       "    <tr>\n",
       "      <th>5</th>\n",
       "      <td>In the Nic of Time</td>\n",
       "    </tr>\n",
       "    <tr>\n",
       "      <th>6</th>\n",
       "      <td>Platform One</td>\n",
       "    </tr>\n",
       "    <tr>\n",
       "      <th>7</th>\n",
       "      <td>Nic Chaillan's Website</td>\n",
       "    </tr>\n",
       "    <tr>\n",
       "      <th>8</th>\n",
       "      <td>Cloud One</td>\n",
       "    </tr>\n",
       "    <tr>\n",
       "      <th>9</th>\n",
       "      <td>NIST_NVD_CVE</td>\n",
       "    </tr>\n",
       "    <tr>\n",
       "      <th>10</th>\n",
       "      <td>Sage</td>\n",
       "    </tr>\n",
       "    <tr>\n",
       "      <th>11</th>\n",
       "      <td>user_custom_2780_content</td>\n",
       "    </tr>\n",
       "  </tbody>\n",
       "</table>\n",
       "</div>"
      ],
      "text/plain": [
       "                           0\n",
       "0            Acquisition.gov\n",
       "1                  Air Force\n",
       "2                        DoD\n",
       "3      Department of Defense\n",
       "4             Learn with Nic\n",
       "5         In the Nic of Time\n",
       "6               Platform One\n",
       "7     Nic Chaillan's Website\n",
       "8                  Cloud One\n",
       "9               NIST_NVD_CVE\n",
       "10                      Sage\n",
       "11  user_custom_2780_content"
      ]
     },
     "metadata": {},
     "output_type": "display_data"
    }
   ],
   "source": [
    "delete_dataset_data = ask_sage_client.delete_dataset('user_custom_2780_test-test-test-01_content') # Replace 'youareawesome' with the name of the dataset you want to delete\n",
    "# get the response from the API\n",
    "display(delete_dataset_data) # Display the response from the API, and check if the dataset was deleted successfully on the AskSage website\n",
    "\n",
    "display_datasets(ask_sage_client)\n"
   ]
  }
 ],
 "metadata": {
  "kernelspec": {
   "display_name": "Python 3",
   "language": "python",
   "name": "python3"
  },
  "language_info": {
   "codemirror_mode": {
    "name": "ipython",
    "version": 3
   },
   "file_extension": ".py",
   "mimetype": "text/x-python",
   "name": "python",
   "nbconvert_exporter": "python",
   "pygments_lexer": "ipython3",
   "version": "3.12.7"
  }
 },
 "nbformat": 4,
 "nbformat_minor": 2
}
