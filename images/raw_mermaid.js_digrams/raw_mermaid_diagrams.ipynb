{
 "cells": [
  {
   "cell_type": "code",
   "execution_count": null,
   "metadata": {
    "vscode": {
     "languageId": "plaintext"
    }
   },
   "outputs": [],
   "source": [
    "flowchart TD\n",
    "subgraph GenAI Development Workflow\n",
    "    A[Start 🚀] -.-> B[Data Collection 📊]\n",
    "    B -.-> C[Data Processing 🔧]\n",
    "    C -.-> D[Model Development 🧠]\n",
    "    D -.-> E[Model Testing 🧪]\n",
    "    E -.-> F[Deployment 🌐]\n",
    "    F -.-> G[Monitoring & Feedback 🔍]\n",
    "    G -.-> H[Update Model 🔄]\n",
    "    H -.-> F\n",
    "    B -.-> I[Data Privacy Compliance 🛡️]\n",
    "    C -.-> J[Data Bias Mitigation ⚖️]\n",
    "    D -.-> K[Explainability/Transparency 🗂️]\n",
    "    E -.-> L[Fairness Assessment 📏]\n",
    "    F -.-> M[Impact Assessment 📈]\n",
    "    G -.-> N[Identify Misuse 🚫]\n",
    "    style B fill:#f9f,stroke:#333,stroke-width:2px\n",
    "    style C fill:#ccf,stroke:#333,stroke-width:2px\n",
    "    style D fill:#cfc,stroke:#333,stroke-width:2px\n",
    "    style E fill:#fcc,stroke:#333,stroke-width:2px\n",
    "    style F fill:#fcf,stroke:#333,stroke-width:2px\n",
    "    style G fill:#cff,stroke:#333,stroke-width:2px\n",
    "    style I fill:#f9f,stroke:#333,stroke-width:2px\n",
    "    style J fill:#ccf,stroke:#333,stroke-width:2px\n",
    "    style K fill:#cfc,stroke:#333,stroke-width:2px\n",
    "    style L fill:#fcc,stroke:#333,stroke-width:2px\n",
    "    style M fill:#fcf,stroke:#333,stroke-width:2px\n",
    "    style N fill:#cff,stroke:#333,stroke-width:2px\n",
    "    end"
   ]
  },
  {
   "cell_type": "code",
   "execution_count": null,
   "metadata": {
    "vscode": {
     "languageId": "plaintext"
    }
   },
   "outputs": [],
   "source": [
    "flowchart TD\n",
    "    subgraph sg1[\"API Interaction 🌐\"]\n",
    "        A[User 🧑‍💻] -->|Request 📤| C[API 🌐]\n",
    "        C -->|Forward Request 🔄| B[API Provider 🏢]\n",
    "        B -->|Response 📥| C\n",
    "        C -->|Forward Response 🔄| A\n",
    "    end"
   ]
  },
  {
   "cell_type": "code",
   "execution_count": null,
   "metadata": {
    "vscode": {
     "languageId": "plaintext"
    }
   },
   "outputs": [],
   "source": [
    "flowchart TD\n",
    "    subgraph sg1[\"Prompt Engineering Workflow 🛠️\"]\n",
    "        A[Prompt Engineer 🧑‍💻] -->|Create Prompt 📝| B[AI Model 🤖]\n",
    "        B -->|Generate Response 🔄| C[Evaluation 📊]\n",
    "        C -->|Feedback to Engineer 🔙| A\n",
    "        C -->|Refinement Needed? 🔍| D{Decision 💡}\n",
    "        D -->|Yes 🔧| A\n",
    "        D -->|No ✅| E[Final Prompt 🎉]\n",
    "    end"
   ]
  },
  {
   "cell_type": "code",
   "execution_count": null,
   "metadata": {
    "vscode": {
     "languageId": "plaintext"
    }
   },
   "outputs": [],
   "source": [
    "flowchart RL\n",
    "    subgraph sg1[\"Dataset Creation Workflow for LLM Fine-Tuning 📚\"]\n",
    "        A[Data Collection Team 🧑‍💻] -->|Identify Sources 🌐| B[Website Content]\n",
    "        B -->|Scrape Text Data 📜| C[Text Data Extraction]\n",
    "        C -->|Clean and Preprocess Data 🧹| D[Data Preprocessing]\n",
    "        D -->|Data Curation and Annotation 🔖| E[Curated Text Dataset]\n",
    "        E -->|Data Validation 📊| F[Quality Check]\n",
    "        F -->|Review and Refine Data 🔄| G{Is Data Sufficient & Accurate? 💡}\n",
    "        G -->|Yes ✅| H[Final Text Dataset 📈]\n",
    "        G -->|No 🔧| D\n",
    "    end"
   ]
  },
  {
   "cell_type": "code",
   "execution_count": null,
   "metadata": {
    "vscode": {
     "languageId": "plaintext"
    }
   },
   "outputs": [],
   "source": [
    "flowchart TD\n",
    "    subgraph sg1[\"LLM Comparison Process 🤖\"]\n",
    "        A[Identify Need 🎯] -->|Define Problem/Topic| B[Select LLMs 🔍]\n",
    "        B -->|Based on Version, Cost, Availability| C[Setup Evaluation Criteria 📊]\n",
    "        C -->|Performance Metrics, Cost Efficiency, Suitability| D[Perform Tests 🧪]\n",
    "        D -->|Run Standardized Tests| E[Analyze Results 📈]\n",
    "        E -->|Compare Performance, Cost, Other Factors| F[Make Decision 🤔]\n",
    "        E -->|Gather Insights| H[Report Findings 🔖]\n",
    "    end"
   ]
  },
  {
   "cell_type": "code",
   "execution_count": null,
   "metadata": {
    "vscode": {
     "languageId": "plaintext"
    }
   },
   "outputs": [],
   "source": [
    "gantt\n",
    "    dateFormat  YYYY-MM-DD\n",
    "    title LLM Comparison Process Gantt Chart 🤖\n",
    "    excludes weekends\n",
    "\n",
    "    section Preparation\n",
    "    Project Kickoff 🚀            :milestone, m1, 2025-04-01, 0d\n",
    "    Define Project Scope 🔍      :2025-04-01, 1d\n",
    "    Resource Allocation 🛠       :2025-04-02, 2d\n",
    "    \n",
    "    section Model Selection\n",
    "    Identify Need 🎯             :2025-04-03, 1d\n",
    "    Select LLMs 🔍               :2025-04-04, 3d\n",
    "    Contract Negotiations 📝     :2025-04-09, 2d\n",
    "\n",
    "    section Evaluation\n",
    "    Setup Evaluation Criteria 📊 :2025-04-11, 2d\n",
    "    Testing Phase Begins 🧪      :milestone, m2, 2025-04-13, 0d\n",
    "    Perform Tests 🧪            :2025-04-13, 4d\n",
    "    Analyze Results 📈          :crit, 2025-04-17, 2d\n",
    "\n",
    "    section Decision Making\n",
    "    Decision Phase Begins 🤔     :milestone, m3, 2025-04-19, 0d\n",
    "    Make Decision 🤔            :2025-04-19, 2d\n",
    "    Prepare Presentation 🎬      :2025-04-21, 1d\n",
    "\n",
    "    section Documentation and Reporting\n",
    "    Draft Report Writing ✍️     :2025-04-22, 2d\n",
    "    Review Drafts 🔍            :2025-04-24, 1d\n",
    "    Final Edits and Approval ✔️  :2025-04-25, 2d\n",
    "    Report Findings 🔖          :2025-04-27, 1d\n",
    "    Project Completion 🏁       :milestone, m4, 2025-04-28, 0d"
   ]
  },
  {
   "cell_type": "code",
   "execution_count": null,
   "metadata": {
    "vscode": {
     "languageId": "plaintext"
    }
   },
   "outputs": [],
   "source": [
    "quadrantChart\n",
    "    title Trust in Generative AI\n",
    "    x-axis Low Transparency --> High Transparency\n",
    "    y-axis Low Reliability --> High Reliability\n",
    "    quadrant-1 High Risk\n",
    "    quadrant-2 Verify and Adopt\n",
    "    quadrant-3 Caution Advised\n",
    "    quadrant-4 Trusted AI\n",
    "    AI Model A: [0.2, 0.8]\n",
    "    AI Model B: [0.5, 0.3]\n",
    "    AI Model C: [0.7, 0.9]\n",
    "    AI Model D: [0.9, 0.5]\n",
    "    AI Model E: [0.3, 0.4]\n",
    "    AI Model F: [0.6, 0.75]"
   ]
  },
  {
   "cell_type": "code",
   "execution_count": null,
   "metadata": {
    "vscode": {
     "languageId": "plaintext"
    }
   },
   "outputs": [],
   "source": [
    "journey\n",
    "    title User Journey of Using LLM 🤖\n",
    "    section Discovery\n",
    "      Social Media Buzz 📱: 5: User, Social Media\n",
    "      Explore Website 💻: 4: User, OpenAI Website\n",
    "      Read Features 📘: 4: User, OpenAI Website\n",
    "    section First Use\n",
    "      Sign in 🔑: 5: User, OpenAI Website\n",
    "      First Query 🤔: 5: User, LLM Interface\n",
    "      Get Response 📬: 5: User, LLM Interface\n",
    "      Feedback 👍👎: 3: User, LLM Interface\n",
    "    section Learn\n",
    "      Test Queries 🔍: 4: User, LLM Interface\n",
    "      Learn Commands ⌨️: 3: User, LLM Interface\n",
    "      Explore Limits 💡: 4: User, LLM Interface\n",
    "    section Integrate\n",
    "      Daily Tasks 📅: 4: User, Daily Routine\n",
    "      Work/Study Use 🏢🎓: 5: User, Work/Study\n",
    "      Quick Info 🚀: 5: User, Multiple Platforms\n",
    "    section Routine Use\n",
    "      Daily Use 🔄: 5: User, Daily Routine\n",
    "      Share Experiences 🗣️: 4: User, Social Media\n",
    "      Proficient User 🏆: 5: User, Multiple Platforms\n",
    "    section Feedback\n",
    "      Give Feedback 📝: 4: User, OpenAI Website\n",
    "      Updates & Features 🆕: 4: User, LLM Interface\n",
    "      Adapt Usage 🔧: 4: User, LLM Interface\n"
   ]
  },
  {
   "cell_type": "code",
   "execution_count": null,
   "metadata": {
    "vscode": {
     "languageId": "plaintext"
    }
   },
   "outputs": [],
   "source": [
    "flowchart TD\n",
    "    subgraph sg1[\"LLM Deployment to Edge Device 🤖\"]\n",
    "        A[Start 🚀] --> B[Determine Deployment Strategy 🔍]\n",
    "        B --> C{Is Edge Device Capable? 💪}\n",
    "        C -- Yes --> D[Load Model Directly 💾]\n",
    "        D --> E[Install Model 📦]\n",
    "        E --> F[Configure Model Settings ⚙️]\n",
    "        F --> G[Run Tests on Device 🧪]\n",
    "        C -- No --> H[Use API Method 📡]\n",
    "        H --> I[Set Up API Access 🔑]\n",
    "        I --> J[Configure API Settings ⚙️]\n",
    "        J --> K[Implement API Calls 🌐]\n",
    "        K --> L[Run API Tests 🧪]\n",
    "        G --> M[Deployment Complete 🎉]\n",
    "        L --> M[Deployment Complete 🎉]\n",
    "\n",
    "        style B fill:#f9f,stroke:#333,stroke-width:2px\n",
    "        style C fill:#ccf,stroke:#333,stroke-width:2px\n",
    "        style H fill:#cfc,stroke:#333,stroke-width:2px\n",
    "        style M fill:#fcc,stroke:#333,stroke-width:2px\n",
    "    end\n"
   ]
  },
  {
   "cell_type": "code",
   "execution_count": null,
   "metadata": {
    "vscode": {
     "languageId": "plaintext"
    }
   },
   "outputs": [],
   "source": [
    "flowchart TD\n",
    "    subgraph sg1[\"LLM Evaluation and Monitoring Dashboard 📊\"]\n",
    "        A[Start 🚀] --> B[Define Metrics 🔍]\n",
    "        B --> C[Setup Dashboard 🖥️]\n",
    "        C --> D[Data Integration 🔄]\n",
    "        D --> E[Implement Real-time Monitoring 🕒]\n",
    "        E --> F[Dashboard Live 📈]\n",
    "        F --> G{Review Dashboard 🤓}\n",
    "        G -- Adjustments Needed --> H[Update Metrics and Displays 🔧]\n",
    "        H --> F\n",
    "        G -- Satisfactory --> I[Continuous Monitoring 🧐]\n",
    "        I --> J[Periodic Review and Update 📅]\n",
    "        J --> I\n",
    "        \n",
    "        style B fill:#f9f,stroke:#333,stroke-width:2px\n",
    "        style C fill:#ccf,stroke:#333,stroke-width:2px\n",
    "        style E fill:#cfc,stroke:#333,stroke-width:2px\n",
    "        style G fill:#fcc,stroke:#333,stroke-width:2px\n",
    "        style I fill:#fcf,stroke:#333,stroke-width:2px\n",
    "    end\n"
   ]
  },
  {
   "cell_type": "code",
   "execution_count": null,
   "metadata": {
    "vscode": {
     "languageId": "plaintext"
    }
   },
   "outputs": [],
   "source": [
    "flowchart TD\n",
    "    subgraph sg1[\"LLM Chatbot Network 🤖🌐\"]\n",
    "        A[Start 🚀] --> B[Select LLM Models 🔍]\n",
    "        B --> C[Define Interaction Protocols 📜]\n",
    "        C --> D[Develop Chatbots 🛠️]\n",
    "        D --> E[Configure Communication Network 🔗]\n",
    "        E --> F[Implement Message Passing 🔄]\n",
    "        F --> G[Simulate Conversations 💬]\n",
    "        G --> H[Test and Evaluate Conversations 🧪]\n",
    "        H --> I{Is Output Satisfactory? 👍👎}\n",
    "        I -- Yes --> J[Deploy Network 🌍]\n",
    "        I -- No --> K[Adjust Parameters 🔧]\n",
    "        K --> F\n",
    "        J --> L[Monitor and Maintain 🛡️]\n",
    "        \n",
    "        style B fill:#f9f,stroke:#333,stroke-width:2px\n",
    "        style C fill:#ccf,stroke:#333,stroke-width:2px\n",
    "        style E fill:#cfc,stroke:#333,stroke-width:2px\n",
    "        style G fill:#fcc,stroke:#333,stroke-width:2px\n",
    "        style I fill:#fcf,stroke:#333,stroke-width:2px\n",
    "        style J fill:#cff,stroke:#333,stroke-width:2px\n",
    "    end\n"
   ]
  },
  {
   "cell_type": "code",
   "execution_count": null,
   "metadata": {
    "vscode": {
     "languageId": "plaintext"
    }
   },
   "outputs": [],
   "source": [
    "graph TD;\n",
    "    style A fill:#EAF6F6,stroke:#333,stroke-width:2px;\n",
    "    style B fill:#D4E6F1,stroke:#333,stroke-width:2px;\n",
    "    style C fill:#C9DAF8,stroke:#333,stroke-width:2px;\n",
    "    style D fill:#BFD3E6,stroke:#333,stroke-width:2px;\n",
    "    style E fill:#A5C8F8,stroke:#333,stroke-width:2px;\n",
    "    style F fill:#98B9F8,stroke:#333,stroke-width:2px;\n",
    "    style G fill:#92A8F8,stroke:#333,stroke-width:2px;\n",
    "    style H fill:#8A9BF8,stroke:#333,stroke-width:2px;\n",
    "    style I fill:#7E8CF8,stroke:#333,stroke-width:2px;\n",
    "    style J fill:#729DF8,stroke:#333,stroke-width:2px;\n",
    "    style K fill:#6DAAF8,stroke:#333,stroke-width:2px;\n",
    "    style L fill:#62BDF8,stroke:#333,stroke-width:2px;\n",
    "    style M fill:#57CFF8,stroke:#333,stroke-width:2px;\n",
    "    style N fill:#4DDDF8,stroke:#333,stroke-width:2px;\n",
    "    style O fill:#41F4F8,stroke:#333,stroke-width:2px;\n",
    "    \n",
    "    A[Understanding AI] --> B[Embracing AI Practice];\n",
    "    B --> C[Engaging with AI Systems];\n",
    "    C --> D[Upholding Ethical Principles];\n",
    "    D --> E[Transparency 🕵️];\n",
    "    D --> F[Justice and Equity ⚖️];\n",
    "    D --> G[Non-maleficence 🚫];\n",
    "    D --> H[Accountability 📜];\n",
    "    D --> I[Privacy 🔒];\n",
    "    D --> J[Beneficence 🌟];\n",
    "    D --> K[Freedom and Autonomy 🗽];\n",
    "    D --> L[Trust 🤝];\n",
    "    D --> M[Dignity 🎩];\n",
    "    D --> N[Sustainability 🌱];\n",
    "    D --> O[Solidarity 🤝];\n"
   ]
  }
 ],
 "metadata": {
  "language_info": {
   "name": "python"
  }
 },
 "nbformat": 4,
 "nbformat_minor": 2
}
